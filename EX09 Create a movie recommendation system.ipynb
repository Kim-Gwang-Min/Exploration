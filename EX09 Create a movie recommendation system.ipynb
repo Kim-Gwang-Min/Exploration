{
 "cells": [
  {
   "cell_type": "markdown",
   "id": "acceptable-foster",
   "metadata": {},
   "source": [
    "# < 영화 추천 시스템 만들기 >"
   ]
  },
  {
   "cell_type": "markdown",
   "id": "patient-journey",
   "metadata": {},
   "source": [
    "**- 목차 -**\n",
    "\n",
    "□ Step1 데이터 준비와 전처리   \n",
    "□ Step2 데이터 분석\n",
    "□ Step3 내가 선호하는 영화를 5가지 골라서 ratings에 추가  \n",
    "□ Step4 CSR(Compressed Spares Row) matrix 만들기   \n",
    "□ Step5 AlternatingLeastSquares 모델 구성 및 훈련  \n",
    "□ Step6 나의 선호도 파악   \n",
    "□ Step7 내가 좋아하는 영화와 비슷한 영화 추천 받기   \n",
    "□ Step8 내가 가장 좋아할 만한 영화 추천 받기   \n",
    "□ 정리 및 회고"
   ]
  },
  {
   "cell_type": "markdown",
   "id": "blocked-renewal",
   "metadata": {},
   "source": [
    "### ■ Step1 데이터 준비와 전처리"
   ]
  },
  {
   "cell_type": "markdown",
   "id": "tender-category",
   "metadata": {},
   "source": [
    "**1-1 필요한 라이브러리 import**"
   ]
  },
  {
   "cell_type": "code",
   "execution_count": 2,
   "id": "separate-interference",
   "metadata": {},
   "outputs": [],
   "source": [
    "import os\n",
    "import pandas as pd\n",
    "import numpy as np"
   ]
  },
  {
   "cell_type": "markdown",
   "id": "superb-delhi",
   "metadata": {},
   "source": [
    "**1-2 데이터 준비**"
   ]
  },
  {
   "cell_type": "markdown",
   "id": "criminal-module",
   "metadata": {},
   "source": [
    "- 활용할 데이터셋은 추천시스템의 MNIST라고 부를만한 **['Movielens'](https://grouplens.org/datasets/movielens/)** 데이터\n",
    "- 유저가 영화에 대해 평점을 매긴 데이터가 데이터 크기 별로 있음\n",
    "- ['MovieLens 1M Dataset'](https://grouplens.org/datasets/movielens/1m/)을 사용\n",
    "- 'MovieLens 1M 데이터셋'에는 4000개의 영화에 대한 6000명의 평가가 1백만 개 있음(Released 2/2003)\n",
    "- Movielens 데이터는 `rating.dat` 안에 이미 인덱싱까지 완료된 사용자-영화-평점 데이터가 깔끔하게 정리되어 있음\n",
    "- 별점 데이터는 대표적인 explicit(명시적) 데이터 이지만, implicit(암묵적) 데이터로 간주하고 테스트해볼 수 있음\n",
    "- 별점을 시청횟수로 해석하여 활용\n",
    "- 유저가 3점 미만으로 준 데이터는 선호하지 않는다고 가정하고 제외"
   ]
  },
  {
   "cell_type": "code",
   "execution_count": 10,
   "id": "separated-climate",
   "metadata": {},
   "outputs": [
    {
     "data": {
      "text/html": [
       "<div>\n",
       "<style scoped>\n",
       "    .dataframe tbody tr th:only-of-type {\n",
       "        vertical-align: middle;\n",
       "    }\n",
       "\n",
       "    .dataframe tbody tr th {\n",
       "        vertical-align: top;\n",
       "    }\n",
       "\n",
       "    .dataframe thead th {\n",
       "        text-align: right;\n",
       "    }\n",
       "</style>\n",
       "<table border=\"1\" class=\"dataframe\">\n",
       "  <thead>\n",
       "    <tr style=\"text-align: right;\">\n",
       "      <th></th>\n",
       "      <th>user_id</th>\n",
       "      <th>movie_id</th>\n",
       "      <th>ratings</th>\n",
       "      <th>timestamp</th>\n",
       "    </tr>\n",
       "  </thead>\n",
       "  <tbody>\n",
       "    <tr>\n",
       "      <th>0</th>\n",
       "      <td>1</td>\n",
       "      <td>1193</td>\n",
       "      <td>5</td>\n",
       "      <td>978300760</td>\n",
       "    </tr>\n",
       "    <tr>\n",
       "      <th>1</th>\n",
       "      <td>1</td>\n",
       "      <td>661</td>\n",
       "      <td>3</td>\n",
       "      <td>978302109</td>\n",
       "    </tr>\n",
       "    <tr>\n",
       "      <th>2</th>\n",
       "      <td>1</td>\n",
       "      <td>914</td>\n",
       "      <td>3</td>\n",
       "      <td>978301968</td>\n",
       "    </tr>\n",
       "    <tr>\n",
       "      <th>3</th>\n",
       "      <td>1</td>\n",
       "      <td>3408</td>\n",
       "      <td>4</td>\n",
       "      <td>978300275</td>\n",
       "    </tr>\n",
       "    <tr>\n",
       "      <th>4</th>\n",
       "      <td>1</td>\n",
       "      <td>2355</td>\n",
       "      <td>5</td>\n",
       "      <td>978824291</td>\n",
       "    </tr>\n",
       "  </tbody>\n",
       "</table>\n",
       "</div>"
      ],
      "text/plain": [
       "   user_id  movie_id  ratings  timestamp\n",
       "0        1      1193        5  978300760\n",
       "1        1       661        3  978302109\n",
       "2        1       914        3  978301968\n",
       "3        1      3408        4  978300275\n",
       "4        1      2355        5  978824291"
      ]
     },
     "execution_count": 10,
     "metadata": {},
     "output_type": "execute_result"
    }
   ],
   "source": [
    "rating_file_path=os.getenv('HOME') + '/aiffel/recommendata_iu/data/ml-1m/ratings.dat'\n",
    "ratings_cols = ['user_id', 'movie_id', 'ratings', 'timestamp']\n",
    "ratings = pd.read_csv(rating_file_path, sep='::', names=ratings_cols, engine='python', encoding = \"ISO-8859-1\")\n",
    "orginal_data_size = len(ratings)\n",
    "ratings.head()"
   ]
  },
  {
   "cell_type": "markdown",
   "id": "everyday-expense",
   "metadata": {},
   "source": [
    "**1-3 평점 3점 이상만 남기기**"
   ]
  },
  {
   "cell_type": "code",
   "execution_count": 11,
   "id": "funky-mainstream",
   "metadata": {},
   "outputs": [
    {
     "name": "stdout",
     "output_type": "stream",
     "text": [
      "orginal_data_size: 1000209, filtered_data_size: 836478\n",
      "Ratio of Remaining Data is 83.63%\n"
     ]
    }
   ],
   "source": [
    "ratings = ratings[ratings['ratings']>=3]\n",
    "filtered_data_size = len(ratings)\n",
    "\n",
    "print(f'orginal_data_size: {orginal_data_size}, filtered_data_size: {filtered_data_size}')\n",
    "print(f'Ratio of Remaining Data is {filtered_data_size / orginal_data_size:.2%}')"
   ]
  },
  {
   "cell_type": "markdown",
   "id": "dense-apple",
   "metadata": {},
   "source": [
    "- 1백만개의 평가 중 3점 이상의 평점은 83.63%로, 이제 836478개의 데이터로 추천시스템을 만들 것임"
   ]
  },
  {
   "cell_type": "markdown",
   "id": "handed-skirt",
   "metadata": {},
   "source": [
    "**1-4 ratings 컬럼의 이름을 counts로 바꾸기**"
   ]
  },
  {
   "cell_type": "code",
   "execution_count": 12,
   "id": "statistical-manual",
   "metadata": {},
   "outputs": [],
   "source": [
    "ratings.rename(columns={'ratings':'counts'}, inplace=True)"
   ]
  },
  {
   "cell_type": "code",
   "execution_count": 13,
   "id": "million-equivalent",
   "metadata": {},
   "outputs": [
    {
     "data": {
      "text/plain": [
       "0          5\n",
       "1          3\n",
       "2          3\n",
       "3          4\n",
       "4          5\n",
       "          ..\n",
       "1000203    3\n",
       "1000205    5\n",
       "1000206    5\n",
       "1000207    4\n",
       "1000208    4\n",
       "Name: counts, Length: 836478, dtype: int64"
      ]
     },
     "execution_count": 13,
     "metadata": {},
     "output_type": "execute_result"
    }
   ],
   "source": [
    "ratings['counts']"
   ]
  },
  {
   "cell_type": "markdown",
   "id": "angry-member",
   "metadata": {},
   "source": [
    "**1-5 영화 제목을 보기 위해 메타 데이터를 읽어오기**"
   ]
  },
  {
   "cell_type": "code",
   "execution_count": 14,
   "id": "appreciated-margin",
   "metadata": {},
   "outputs": [
    {
     "data": {
      "text/html": [
       "<div>\n",
       "<style scoped>\n",
       "    .dataframe tbody tr th:only-of-type {\n",
       "        vertical-align: middle;\n",
       "    }\n",
       "\n",
       "    .dataframe tbody tr th {\n",
       "        vertical-align: top;\n",
       "    }\n",
       "\n",
       "    .dataframe thead th {\n",
       "        text-align: right;\n",
       "    }\n",
       "</style>\n",
       "<table border=\"1\" class=\"dataframe\">\n",
       "  <thead>\n",
       "    <tr style=\"text-align: right;\">\n",
       "      <th></th>\n",
       "      <th>movie_id</th>\n",
       "      <th>title</th>\n",
       "      <th>genre</th>\n",
       "    </tr>\n",
       "  </thead>\n",
       "  <tbody>\n",
       "    <tr>\n",
       "      <th>0</th>\n",
       "      <td>1</td>\n",
       "      <td>Toy Story (1995)</td>\n",
       "      <td>Animation|Children's|Comedy</td>\n",
       "    </tr>\n",
       "    <tr>\n",
       "      <th>1</th>\n",
       "      <td>2</td>\n",
       "      <td>Jumanji (1995)</td>\n",
       "      <td>Adventure|Children's|Fantasy</td>\n",
       "    </tr>\n",
       "    <tr>\n",
       "      <th>2</th>\n",
       "      <td>3</td>\n",
       "      <td>Grumpier Old Men (1995)</td>\n",
       "      <td>Comedy|Romance</td>\n",
       "    </tr>\n",
       "    <tr>\n",
       "      <th>3</th>\n",
       "      <td>4</td>\n",
       "      <td>Waiting to Exhale (1995)</td>\n",
       "      <td>Comedy|Drama</td>\n",
       "    </tr>\n",
       "    <tr>\n",
       "      <th>4</th>\n",
       "      <td>5</td>\n",
       "      <td>Father of the Bride Part II (1995)</td>\n",
       "      <td>Comedy</td>\n",
       "    </tr>\n",
       "  </tbody>\n",
       "</table>\n",
       "</div>"
      ],
      "text/plain": [
       "   movie_id                               title                         genre\n",
       "0         1                    Toy Story (1995)   Animation|Children's|Comedy\n",
       "1         2                      Jumanji (1995)  Adventure|Children's|Fantasy\n",
       "2         3             Grumpier Old Men (1995)                Comedy|Romance\n",
       "3         4            Waiting to Exhale (1995)                  Comedy|Drama\n",
       "4         5  Father of the Bride Part II (1995)                        Comedy"
      ]
     },
     "execution_count": 14,
     "metadata": {},
     "output_type": "execute_result"
    }
   ],
   "source": [
    "movie_file_path=os.getenv('HOME') + '/aiffel/recommendata_iu/data/ml-1m/movies.dat'\n",
    "cols = ['movie_id', 'title', 'genre'] \n",
    "movies = pd.read_csv(movie_file_path, sep='::', names=cols, engine='python', encoding='ISO-8859-1')\n",
    "movies.head()"
   ]
  },
  {
   "cell_type": "markdown",
   "id": "spanish-kitchen",
   "metadata": {},
   "source": [
    "**1-6 ratings와 movies 데이터 프레임 합치기**"
   ]
  },
  {
   "cell_type": "code",
   "execution_count": 15,
   "id": "guilty-willow",
   "metadata": {},
   "outputs": [
    {
     "data": {
      "text/html": [
       "<div>\n",
       "<style scoped>\n",
       "    .dataframe tbody tr th:only-of-type {\n",
       "        vertical-align: middle;\n",
       "    }\n",
       "\n",
       "    .dataframe tbody tr th {\n",
       "        vertical-align: top;\n",
       "    }\n",
       "\n",
       "    .dataframe thead th {\n",
       "        text-align: right;\n",
       "    }\n",
       "</style>\n",
       "<table border=\"1\" class=\"dataframe\">\n",
       "  <thead>\n",
       "    <tr style=\"text-align: right;\">\n",
       "      <th></th>\n",
       "      <th>user_id</th>\n",
       "      <th>movie_id</th>\n",
       "      <th>counts</th>\n",
       "      <th>timestamp</th>\n",
       "      <th>title</th>\n",
       "      <th>genre</th>\n",
       "    </tr>\n",
       "  </thead>\n",
       "  <tbody>\n",
       "    <tr>\n",
       "      <th>0</th>\n",
       "      <td>1</td>\n",
       "      <td>1193</td>\n",
       "      <td>5</td>\n",
       "      <td>978300760</td>\n",
       "      <td>One Flew Over the Cuckoo's Nest (1975)</td>\n",
       "      <td>Drama</td>\n",
       "    </tr>\n",
       "    <tr>\n",
       "      <th>1</th>\n",
       "      <td>1</td>\n",
       "      <td>661</td>\n",
       "      <td>3</td>\n",
       "      <td>978302109</td>\n",
       "      <td>James and the Giant Peach (1996)</td>\n",
       "      <td>Animation|Children's|Musical</td>\n",
       "    </tr>\n",
       "    <tr>\n",
       "      <th>2</th>\n",
       "      <td>1</td>\n",
       "      <td>914</td>\n",
       "      <td>3</td>\n",
       "      <td>978301968</td>\n",
       "      <td>My Fair Lady (1964)</td>\n",
       "      <td>Musical|Romance</td>\n",
       "    </tr>\n",
       "    <tr>\n",
       "      <th>3</th>\n",
       "      <td>1</td>\n",
       "      <td>3408</td>\n",
       "      <td>4</td>\n",
       "      <td>978300275</td>\n",
       "      <td>Erin Brockovich (2000)</td>\n",
       "      <td>Drama</td>\n",
       "    </tr>\n",
       "    <tr>\n",
       "      <th>4</th>\n",
       "      <td>1</td>\n",
       "      <td>2355</td>\n",
       "      <td>5</td>\n",
       "      <td>978824291</td>\n",
       "      <td>Bug's Life, A (1998)</td>\n",
       "      <td>Animation|Children's|Comedy</td>\n",
       "    </tr>\n",
       "  </tbody>\n",
       "</table>\n",
       "</div>"
      ],
      "text/plain": [
       "   user_id  movie_id  counts  timestamp  \\\n",
       "0        1      1193       5  978300760   \n",
       "1        1       661       3  978302109   \n",
       "2        1       914       3  978301968   \n",
       "3        1      3408       4  978300275   \n",
       "4        1      2355       5  978824291   \n",
       "\n",
       "                                    title                         genre  \n",
       "0  One Flew Over the Cuckoo's Nest (1975)                         Drama  \n",
       "1        James and the Giant Peach (1996)  Animation|Children's|Musical  \n",
       "2                     My Fair Lady (1964)               Musical|Romance  \n",
       "3                  Erin Brockovich (2000)                         Drama  \n",
       "4                    Bug's Life, A (1998)   Animation|Children's|Comedy  "
      ]
     },
     "execution_count": 15,
     "metadata": {},
     "output_type": "execute_result"
    }
   ],
   "source": [
    "data = ratings.join(movies.set_index('movie_id'), on='movie_id')\n",
    "data.head()"
   ]
  },
  {
   "cell_type": "code",
   "execution_count": 60,
   "id": "intended-edition",
   "metadata": {},
   "outputs": [
    {
     "name": "stdout",
     "output_type": "stream",
     "text": [
      "<class 'pandas.core.frame.DataFrame'>\n",
      "RangeIndex: 836483 entries, 0 to 836482\n",
      "Data columns (total 4 columns):\n",
      " #   Column    Non-Null Count   Dtype\n",
      "---  ------    --------------   -----\n",
      " 0   user_id   836483 non-null  int64\n",
      " 1   movie_id  836483 non-null  int64\n",
      " 2   counts    836483 non-null  int64\n",
      " 3   title     836483 non-null  int64\n",
      "dtypes: int64(4)\n",
      "memory usage: 25.5 MB\n"
     ]
    }
   ],
   "source": [
    "data.info()"
   ]
  },
  {
   "cell_type": "markdown",
   "id": "present-boost",
   "metadata": {},
   "source": [
    "### ■ Step2 데이터 분석"
   ]
  },
  {
   "cell_type": "markdown",
   "id": "collective-fifteen",
   "metadata": {},
   "source": [
    "**2-1 ratings에 있는 유니크한 영화 개수**"
   ]
  },
  {
   "cell_type": "code",
   "execution_count": 16,
   "id": "amateur-documentary",
   "metadata": {},
   "outputs": [
    {
     "data": {
      "text/plain": [
       "3628"
      ]
     },
     "execution_count": 16,
     "metadata": {},
     "output_type": "execute_result"
    }
   ],
   "source": [
    "data['movie_id'].nunique()"
   ]
  },
  {
   "cell_type": "markdown",
   "id": "other-rogers",
   "metadata": {},
   "source": [
    "**2-2 ratings에 있는 유니크한 사용자 수**"
   ]
  },
  {
   "cell_type": "code",
   "execution_count": 17,
   "id": "bigger-shock",
   "metadata": {},
   "outputs": [
    {
     "data": {
      "text/plain": [
       "6039"
      ]
     },
     "execution_count": 17,
     "metadata": {},
     "output_type": "execute_result"
    }
   ],
   "source": [
    "data['user_id'].nunique()"
   ]
  },
  {
   "cell_type": "markdown",
   "id": "controversial-prior",
   "metadata": {},
   "source": [
    "**2-3 가장 인기 있는 영화 30개(인기순)**"
   ]
  },
  {
   "cell_type": "code",
   "execution_count": 18,
   "id": "declared-balloon",
   "metadata": {},
   "outputs": [
    {
     "data": {
      "text/plain": [
       "title\n",
       "American Beauty (1999)                                   3211\n",
       "Star Wars: Episode IV - A New Hope (1977)                2910\n",
       "Star Wars: Episode V - The Empire Strikes Back (1980)    2885\n",
       "Star Wars: Episode VI - Return of the Jedi (1983)        2716\n",
       "Saving Private Ryan (1998)                               2561\n",
       "Terminator 2: Judgment Day (1991)                        2509\n",
       "Silence of the Lambs, The (1991)                         2498\n",
       "Raiders of the Lost Ark (1981)                           2473\n",
       "Back to the Future (1985)                                2460\n",
       "Matrix, The (1999)                                       2434\n",
       "Jurassic Park (1993)                                     2413\n",
       "Sixth Sense, The (1999)                                  2385\n",
       "Fargo (1996)                                             2371\n",
       "Braveheart (1995)                                        2314\n",
       "Men in Black (1997)                                      2297\n",
       "Schindler's List (1993)                                  2257\n",
       "Princess Bride, The (1987)                               2252\n",
       "Shakespeare in Love (1998)                               2213\n",
       "L.A. Confidential (1997)                                 2210\n",
       "Shawshank Redemption, The (1994)                         2194\n",
       "Godfather, The (1972)                                    2167\n",
       "Groundhog Day (1993)                                     2121\n",
       "E.T. the Extra-Terrestrial (1982)                        2102\n",
       "Being John Malkovich (1999)                              2066\n",
       "Ghostbusters (1984)                                      2051\n",
       "Pulp Fiction (1994)                                      2030\n",
       "Forrest Gump (1994)                                      2022\n",
       "Terminator, The (1984)                                   2019\n",
       "Toy Story (1995)                                         2000\n",
       "Fugitive, The (1993)                                     1941\n",
       "Name: user_id, dtype: int64"
      ]
     },
     "execution_count": 18,
     "metadata": {},
     "output_type": "execute_result"
    }
   ],
   "source": [
    "movie_count = data.groupby('title')['user_id'].count()\n",
    "movie_count.sort_values(ascending=False).head(30)"
   ]
  },
  {
   "cell_type": "markdown",
   "id": "remarkable-layer",
   "metadata": {},
   "source": [
    "**2-4 유저 별, 영화 별 통계 확인**"
   ]
  },
  {
   "cell_type": "code",
   "execution_count": 19,
   "id": "plain-blend",
   "metadata": {},
   "outputs": [
    {
     "data": {
      "text/plain": [
       "count    6039.000000\n",
       "mean      138.512668\n",
       "std       156.241599\n",
       "min         1.000000\n",
       "25%        38.000000\n",
       "50%        81.000000\n",
       "75%       177.000000\n",
       "max      1968.000000\n",
       "Name: movie_id, dtype: float64"
      ]
     },
     "execution_count": 19,
     "metadata": {},
     "output_type": "execute_result"
    }
   ],
   "source": [
    "# 유저 별 몇 편의 영화를 시청했는지에 대한 통계\n",
    "\n",
    "user_count = data.groupby('user_id')['movie_id'].count()\n",
    "user_count.describe()"
   ]
  },
  {
   "cell_type": "code",
   "execution_count": 20,
   "id": "interested-teddy",
   "metadata": {},
   "outputs": [
    {
     "data": {
      "text/plain": [
       "count    6039.000000\n",
       "mean        4.055970\n",
       "std         0.432143\n",
       "min         3.000000\n",
       "25%         4.000000\n",
       "50%         4.000000\n",
       "75%         4.000000\n",
       "max         5.000000\n",
       "Name: counts, dtype: float64"
      ]
     },
     "execution_count": 20,
     "metadata": {},
     "output_type": "execute_result"
    }
   ],
   "source": [
    "# 영화 별 시청(counts)횟수 중앙값에 대한 통계\n",
    "\n",
    "user_median = data.groupby('user_id')['counts'].median()\n",
    "user_median.describe()"
   ]
  },
  {
   "cell_type": "markdown",
   "id": "opening-mexican",
   "metadata": {},
   "source": [
    " ### ■ Step3 내가 선호하는 영화를 5가지 골라서 ratings에 추가"
   ]
  },
  {
   "cell_type": "markdown",
   "id": "respective-lottery",
   "metadata": {},
   "source": [
    "**3-1 영화 제목으로 검색하여 my_favorite_movie_id 리스트 생성**"
   ]
  },
  {
   "cell_type": "code",
   "execution_count": 22,
   "id": "wrong-migration",
   "metadata": {},
   "outputs": [
    {
     "data": {
      "text/html": [
       "<div>\n",
       "<style scoped>\n",
       "    .dataframe tbody tr th:only-of-type {\n",
       "        vertical-align: middle;\n",
       "    }\n",
       "\n",
       "    .dataframe tbody tr th {\n",
       "        vertical-align: top;\n",
       "    }\n",
       "\n",
       "    .dataframe thead th {\n",
       "        text-align: right;\n",
       "    }\n",
       "</style>\n",
       "<table border=\"1\" class=\"dataframe\">\n",
       "  <thead>\n",
       "    <tr style=\"text-align: right;\">\n",
       "      <th></th>\n",
       "      <th>movie_id</th>\n",
       "      <th>title</th>\n",
       "      <th>genre</th>\n",
       "    </tr>\n",
       "  </thead>\n",
       "  <tbody>\n",
       "    <tr>\n",
       "      <th>2502</th>\n",
       "      <td>2571</td>\n",
       "      <td>Matrix, The (1999)</td>\n",
       "      <td>Action|Sci-Fi|Thriller</td>\n",
       "    </tr>\n",
       "  </tbody>\n",
       "</table>\n",
       "</div>"
      ],
      "text/plain": [
       "      movie_id               title                   genre\n",
       "2502      2571  Matrix, The (1999)  Action|Sci-Fi|Thriller"
      ]
     },
     "execution_count": 22,
     "metadata": {},
     "output_type": "execute_result"
    }
   ],
   "source": [
    "movies[movies['title'].str.lower().str.contains('matrix', regex=False)]"
   ]
  },
  {
   "cell_type": "code",
   "execution_count": 23,
   "id": "opposite-frank",
   "metadata": {},
   "outputs": [],
   "source": [
    "my_favorite_movie_id = [1, 356, 1580, 1907, 2571]"
   ]
  },
  {
   "cell_type": "markdown",
   "id": "opponent-boost",
   "metadata": {},
   "source": [
    "**3-2 my_favorite_movie_id 리스트를 my_favorite_movie_title 리스트로 변환**"
   ]
  },
  {
   "cell_type": "code",
   "execution_count": 24,
   "id": "arabic-mileage",
   "metadata": {},
   "outputs": [
    {
     "name": "stdout",
     "output_type": "stream",
     "text": [
      "['Toy Story (1995)', 'Forrest Gump (1994)', 'Men in Black (1997)', 'Mulan (1998)', 'Matrix, The (1999)']\n"
     ]
    }
   ],
   "source": [
    "my_favorite_movie_title = []\n",
    "for i in my_favorite_movie_id:\n",
    "    my_favorite_movie_title.append(list(movies[movies['movie_id']==i]['title'])[0])\n",
    "    \n",
    "print(my_favorite_movie_title)"
   ]
  },
  {
   "cell_type": "markdown",
   "id": "regular-millennium",
   "metadata": {},
   "source": [
    "**3-3 my_movielist 데이터 프레임 생성**"
   ]
  },
  {
   "cell_type": "code",
   "execution_count": 25,
   "id": "sophisticated-pharmacy",
   "metadata": {},
   "outputs": [
    {
     "data": {
      "text/html": [
       "<div>\n",
       "<style scoped>\n",
       "    .dataframe tbody tr th:only-of-type {\n",
       "        vertical-align: middle;\n",
       "    }\n",
       "\n",
       "    .dataframe tbody tr th {\n",
       "        vertical-align: top;\n",
       "    }\n",
       "\n",
       "    .dataframe thead th {\n",
       "        text-align: right;\n",
       "    }\n",
       "</style>\n",
       "<table border=\"1\" class=\"dataframe\">\n",
       "  <thead>\n",
       "    <tr style=\"text-align: right;\">\n",
       "      <th></th>\n",
       "      <th>user_id</th>\n",
       "      <th>movie_id</th>\n",
       "      <th>counts</th>\n",
       "      <th>title</th>\n",
       "    </tr>\n",
       "  </thead>\n",
       "  <tbody>\n",
       "    <tr>\n",
       "      <th>0</th>\n",
       "      <td>gwangmin</td>\n",
       "      <td>1</td>\n",
       "      <td>5</td>\n",
       "      <td>Toy Story (1995)</td>\n",
       "    </tr>\n",
       "    <tr>\n",
       "      <th>1</th>\n",
       "      <td>gwangmin</td>\n",
       "      <td>356</td>\n",
       "      <td>5</td>\n",
       "      <td>Forrest Gump (1994)</td>\n",
       "    </tr>\n",
       "    <tr>\n",
       "      <th>2</th>\n",
       "      <td>gwangmin</td>\n",
       "      <td>1580</td>\n",
       "      <td>5</td>\n",
       "      <td>Men in Black (1997)</td>\n",
       "    </tr>\n",
       "    <tr>\n",
       "      <th>3</th>\n",
       "      <td>gwangmin</td>\n",
       "      <td>1907</td>\n",
       "      <td>5</td>\n",
       "      <td>Mulan (1998)</td>\n",
       "    </tr>\n",
       "    <tr>\n",
       "      <th>4</th>\n",
       "      <td>gwangmin</td>\n",
       "      <td>2571</td>\n",
       "      <td>5</td>\n",
       "      <td>Matrix, The (1999)</td>\n",
       "    </tr>\n",
       "  </tbody>\n",
       "</table>\n",
       "</div>"
      ],
      "text/plain": [
       "    user_id  movie_id  counts                title\n",
       "0  gwangmin         1       5     Toy Story (1995)\n",
       "1  gwangmin       356       5  Forrest Gump (1994)\n",
       "2  gwangmin      1580       5  Men in Black (1997)\n",
       "3  gwangmin      1907       5         Mulan (1998)\n",
       "4  gwangmin      2571       5   Matrix, The (1999)"
      ]
     },
     "execution_count": 25,
     "metadata": {},
     "output_type": "execute_result"
    }
   ],
   "source": [
    "#'gwangmin'이라는 user_id가 위 영화들을 5회씩 봤다고 가정\n",
    "\n",
    "my_movielist = pd.DataFrame({'user_id': ['gwangmin']*5,\n",
    "                            'movie_id': my_favorite_movie_id,\n",
    "                            'counts':[5]*5,\n",
    "                            'title':my_favorite_movie_title})\n",
    "my_movielist"
   ]
  },
  {
   "cell_type": "markdown",
   "id": "dried-currency",
   "metadata": {},
   "source": [
    "**3-4 전체 데이터프레임에 my_movielist 데이터프레임 추가**"
   ]
  },
  {
   "cell_type": "code",
   "execution_count": 26,
   "id": "forbidden-seating",
   "metadata": {},
   "outputs": [
    {
     "data": {
      "text/html": [
       "<div>\n",
       "<style scoped>\n",
       "    .dataframe tbody tr th:only-of-type {\n",
       "        vertical-align: middle;\n",
       "    }\n",
       "\n",
       "    .dataframe tbody tr th {\n",
       "        vertical-align: top;\n",
       "    }\n",
       "\n",
       "    .dataframe thead th {\n",
       "        text-align: right;\n",
       "    }\n",
       "</style>\n",
       "<table border=\"1\" class=\"dataframe\">\n",
       "  <thead>\n",
       "    <tr style=\"text-align: right;\">\n",
       "      <th></th>\n",
       "      <th>user_id</th>\n",
       "      <th>movie_id</th>\n",
       "      <th>counts</th>\n",
       "      <th>title</th>\n",
       "    </tr>\n",
       "  </thead>\n",
       "  <tbody>\n",
       "    <tr>\n",
       "      <th>836473</th>\n",
       "      <td>6040</td>\n",
       "      <td>1090</td>\n",
       "      <td>3</td>\n",
       "      <td>Platoon (1986)</td>\n",
       "    </tr>\n",
       "    <tr>\n",
       "      <th>836474</th>\n",
       "      <td>6040</td>\n",
       "      <td>1094</td>\n",
       "      <td>5</td>\n",
       "      <td>Crying Game, The (1992)</td>\n",
       "    </tr>\n",
       "    <tr>\n",
       "      <th>836475</th>\n",
       "      <td>6040</td>\n",
       "      <td>562</td>\n",
       "      <td>5</td>\n",
       "      <td>Welcome to the Dollhouse (1995)</td>\n",
       "    </tr>\n",
       "    <tr>\n",
       "      <th>836476</th>\n",
       "      <td>6040</td>\n",
       "      <td>1096</td>\n",
       "      <td>4</td>\n",
       "      <td>Sophie's Choice (1982)</td>\n",
       "    </tr>\n",
       "    <tr>\n",
       "      <th>836477</th>\n",
       "      <td>6040</td>\n",
       "      <td>1097</td>\n",
       "      <td>4</td>\n",
       "      <td>E.T. the Extra-Terrestrial (1982)</td>\n",
       "    </tr>\n",
       "    <tr>\n",
       "      <th>836478</th>\n",
       "      <td>gwangmin</td>\n",
       "      <td>1</td>\n",
       "      <td>5</td>\n",
       "      <td>Toy Story (1995)</td>\n",
       "    </tr>\n",
       "    <tr>\n",
       "      <th>836479</th>\n",
       "      <td>gwangmin</td>\n",
       "      <td>356</td>\n",
       "      <td>5</td>\n",
       "      <td>Forrest Gump (1994)</td>\n",
       "    </tr>\n",
       "    <tr>\n",
       "      <th>836480</th>\n",
       "      <td>gwangmin</td>\n",
       "      <td>1580</td>\n",
       "      <td>5</td>\n",
       "      <td>Men in Black (1997)</td>\n",
       "    </tr>\n",
       "    <tr>\n",
       "      <th>836481</th>\n",
       "      <td>gwangmin</td>\n",
       "      <td>1907</td>\n",
       "      <td>5</td>\n",
       "      <td>Mulan (1998)</td>\n",
       "    </tr>\n",
       "    <tr>\n",
       "      <th>836482</th>\n",
       "      <td>gwangmin</td>\n",
       "      <td>2571</td>\n",
       "      <td>5</td>\n",
       "      <td>Matrix, The (1999)</td>\n",
       "    </tr>\n",
       "  </tbody>\n",
       "</table>\n",
       "</div>"
      ],
      "text/plain": [
       "         user_id  movie_id  counts                              title\n",
       "836473      6040      1090       3                     Platoon (1986)\n",
       "836474      6040      1094       5            Crying Game, The (1992)\n",
       "836475      6040       562       5    Welcome to the Dollhouse (1995)\n",
       "836476      6040      1096       4             Sophie's Choice (1982)\n",
       "836477      6040      1097       4  E.T. the Extra-Terrestrial (1982)\n",
       "836478  gwangmin         1       5                   Toy Story (1995)\n",
       "836479  gwangmin       356       5                Forrest Gump (1994)\n",
       "836480  gwangmin      1580       5                Men in Black (1997)\n",
       "836481  gwangmin      1907       5                       Mulan (1998)\n",
       "836482  gwangmin      2571       5                 Matrix, The (1999)"
      ]
     },
     "execution_count": 26,
     "metadata": {},
     "output_type": "execute_result"
    }
   ],
   "source": [
    "if not data.isin({'user_id':['gwangmin']})['user_id'].any():  # user_id에 'gwangmin'이라는 데이터가 없다면\n",
    "    data = data.append(my_movielist, ignore_index=True)  # 위에 임의로 만든 my_movielist 데이터를 추가 \n",
    "\n",
    "data = data[['user_id', 'movie_id', 'counts', 'title']]\n",
    "data.tail(10)"
   ]
  },
  {
   "cell_type": "markdown",
   "id": "public-protocol",
   "metadata": {},
   "source": [
    "### ■ Step4 CSR(Compressed Spares Row) matrix 만들기"
   ]
  },
  {
   "attachments": {
    "image.png": {
     "image/png": "[encoded data removed]"
    }
   },
   "cell_type": "markdown",
   "id": "introductory-paraguay",
   "metadata": {},
   "source": [
    "![image.png](attachment:image.png)\n",
    "[사진 출처 및 CSR Matrix에 대한 추가 설명](https://lovit.github.io/nlp/machine%20learning/2018/04/09/sparse_mtarix_handling/#csr-matrix)\n",
    "\n",
    "- CSR(Compressed Sparse Row) Matrix는 Sparse한 matrix에서 0이 아닌 유효한 데이터로 채워지는 데이터의 값과 좌표 정보만으로 구성하여 메모리 사용량을 최소화하면서도 Sparse한 matrix와 동일한 행렬을 표현할 수 있도록 하는 데이터 구조로, 데이터를 Row 순서대로 저장함\n",
    "\n",
    "- CSR Matrix에는 **data**, **indices**, **indptr**가 있음\n",
    "\n",
    "    - data는 0이 아닌 요소의 값\n",
    "\n",
    "    - indices는 data의 값에 해당하는 column index\n",
    "\n",
    "    - indptr는 row별 data의 begin index와 end index가 저장\n",
    "    \n",
    "- CSR Matrix를 만들기 위해서 데이터프레임의 user_id와 movie_id를 인덱싱하는 사전 작업을 먼저 실시"
   ]
  },
  {
   "cell_type": "markdown",
   "id": "alive-delaware",
   "metadata": {},
   "source": [
    "**4-1 고유한 유저와 영화를 찾기**"
   ]
  },
  {
   "cell_type": "code",
   "execution_count": 27,
   "id": "relevant-heather",
   "metadata": {},
   "outputs": [],
   "source": [
    "user_unique = data['user_id'].unique()\n",
    "movie_unique = data['title'].unique()"
   ]
  },
  {
   "cell_type": "markdown",
   "id": "marine-warning",
   "metadata": {},
   "source": [
    "**4-2 유저, 영화 indexing 하고 확인하기**"
   ]
  },
  {
   "cell_type": "code",
   "execution_count": 30,
   "id": "settled-regulation",
   "metadata": {},
   "outputs": [
    {
     "name": "stdout",
     "output_type": "stream",
     "text": [
      "6039\n",
      "124\n"
     ]
    }
   ],
   "source": [
    "user_to_idx = {v:k for k,v in enumerate(user_unique)}  # idx는 index의 약자\n",
    "movie_to_idx = {v:k for k,v in enumerate(movie_unique)}\n",
    "\n",
    "print(user_to_idx['gwangmin'])    # 6040명의 유저 중 마지막에 있는 유저이니 6039가 나와야 합니다. \n",
    "print(movie_to_idx['Matrix, The (1999)'])"
   ]
  },
  {
   "cell_type": "markdown",
   "id": "applicable-appearance",
   "metadata": {},
   "source": [
    "**4-3 데이터 프레임의 user_id와 movie_id를 인덱싱으로 변경**"
   ]
  },
  {
   "cell_type": "code",
   "execution_count": 31,
   "id": "eligible-strengthening",
   "metadata": {},
   "outputs": [
    {
     "name": "stdout",
     "output_type": "stream",
     "text": [
      "user_id column indexing OK!!\n",
      "title column indexing OK!!\n"
     ]
    }
   ],
   "source": [
    "# indexing을 통해 데이터 컬럼 내 값을 바꾸는 코드\n",
    "# user_to_idx.get을 통해 user_id 컬럼의 모든 값을 인덱싱한 Series를 구해 봅시다. \n",
    "# 혹시 정상적으로 인덱싱되지 않은 row가 있다면 인덱스가 NaN이 될 테니 dropna()로 제거합니다. \n",
    "temp_user_data = data['user_id'].map(user_to_idx.get).dropna()\n",
    "if len(temp_user_data) == len(data):   # 모든 row가 정상적으로 인덱싱되었다면\n",
    "    print('user_id column indexing OK!!')\n",
    "    data['user_id'] = temp_user_data   # data['user_id']을 인덱싱된 Series로 교체해 줍니다. \n",
    "else:\n",
    "    print('user_id column indexing Fail!!')\n",
    "\n",
    "# movie_to_idx을 통해 title 컬럼도 동일한 방식으로 인덱싱해 줍니다. \n",
    "temp_movie_data = data['title'].map(movie_to_idx.get).dropna()\n",
    "if len(temp_movie_data) == len(data):\n",
    "    print('title column indexing OK!!')\n",
    "    data['title'] = temp_movie_data\n",
    "else:\n",
    "    print('title column indexing Fail!!')"
   ]
  },
  {
   "cell_type": "markdown",
   "id": "responsible-situation",
   "metadata": {},
   "source": [
    "**4-4 데이터 프레임 확인**"
   ]
  },
  {
   "cell_type": "code",
   "execution_count": 32,
   "id": "loved-crossing",
   "metadata": {},
   "outputs": [
    {
     "data": {
      "text/html": [
       "<div>\n",
       "<style scoped>\n",
       "    .dataframe tbody tr th:only-of-type {\n",
       "        vertical-align: middle;\n",
       "    }\n",
       "\n",
       "    .dataframe tbody tr th {\n",
       "        vertical-align: top;\n",
       "    }\n",
       "\n",
       "    .dataframe thead th {\n",
       "        text-align: right;\n",
       "    }\n",
       "</style>\n",
       "<table border=\"1\" class=\"dataframe\">\n",
       "  <thead>\n",
       "    <tr style=\"text-align: right;\">\n",
       "      <th></th>\n",
       "      <th>user_id</th>\n",
       "      <th>movie_id</th>\n",
       "      <th>counts</th>\n",
       "      <th>title</th>\n",
       "    </tr>\n",
       "  </thead>\n",
       "  <tbody>\n",
       "    <tr>\n",
       "      <th>0</th>\n",
       "      <td>0</td>\n",
       "      <td>1193</td>\n",
       "      <td>5</td>\n",
       "      <td>0</td>\n",
       "    </tr>\n",
       "    <tr>\n",
       "      <th>1</th>\n",
       "      <td>0</td>\n",
       "      <td>661</td>\n",
       "      <td>3</td>\n",
       "      <td>1</td>\n",
       "    </tr>\n",
       "    <tr>\n",
       "      <th>2</th>\n",
       "      <td>0</td>\n",
       "      <td>914</td>\n",
       "      <td>3</td>\n",
       "      <td>2</td>\n",
       "    </tr>\n",
       "    <tr>\n",
       "      <th>3</th>\n",
       "      <td>0</td>\n",
       "      <td>3408</td>\n",
       "      <td>4</td>\n",
       "      <td>3</td>\n",
       "    </tr>\n",
       "    <tr>\n",
       "      <th>4</th>\n",
       "      <td>0</td>\n",
       "      <td>2355</td>\n",
       "      <td>5</td>\n",
       "      <td>4</td>\n",
       "    </tr>\n",
       "    <tr>\n",
       "      <th>...</th>\n",
       "      <td>...</td>\n",
       "      <td>...</td>\n",
       "      <td>...</td>\n",
       "      <td>...</td>\n",
       "    </tr>\n",
       "    <tr>\n",
       "      <th>836478</th>\n",
       "      <td>6039</td>\n",
       "      <td>1</td>\n",
       "      <td>5</td>\n",
       "      <td>40</td>\n",
       "    </tr>\n",
       "    <tr>\n",
       "      <th>836479</th>\n",
       "      <td>6039</td>\n",
       "      <td>356</td>\n",
       "      <td>5</td>\n",
       "      <td>160</td>\n",
       "    </tr>\n",
       "    <tr>\n",
       "      <th>836480</th>\n",
       "      <td>6039</td>\n",
       "      <td>1580</td>\n",
       "      <td>5</td>\n",
       "      <td>175</td>\n",
       "    </tr>\n",
       "    <tr>\n",
       "      <th>836481</th>\n",
       "      <td>6039</td>\n",
       "      <td>1907</td>\n",
       "      <td>5</td>\n",
       "      <td>34</td>\n",
       "    </tr>\n",
       "    <tr>\n",
       "      <th>836482</th>\n",
       "      <td>6039</td>\n",
       "      <td>2571</td>\n",
       "      <td>5</td>\n",
       "      <td>124</td>\n",
       "    </tr>\n",
       "  </tbody>\n",
       "</table>\n",
       "<p>836483 rows × 4 columns</p>\n",
       "</div>"
      ],
      "text/plain": [
       "        user_id  movie_id  counts  title\n",
       "0             0      1193       5      0\n",
       "1             0       661       3      1\n",
       "2             0       914       3      2\n",
       "3             0      3408       4      3\n",
       "4             0      2355       5      4\n",
       "...         ...       ...     ...    ...\n",
       "836478     6039         1       5     40\n",
       "836479     6039       356       5    160\n",
       "836480     6039      1580       5    175\n",
       "836481     6039      1907       5     34\n",
       "836482     6039      2571       5    124\n",
       "\n",
       "[836483 rows x 4 columns]"
      ]
     },
     "execution_count": 32,
     "metadata": {},
     "output_type": "execute_result"
    }
   ],
   "source": [
    "data"
   ]
  },
  {
   "cell_type": "markdown",
   "id": "charitable-security",
   "metadata": {},
   "source": [
    "**4-5 `CSR matrix` 생성**"
   ]
  },
  {
   "cell_type": "code",
   "execution_count": 33,
   "id": "racial-jenny",
   "metadata": {},
   "outputs": [
    {
     "data": {
      "text/plain": [
       "<6040x3628 sparse matrix of type '<class 'numpy.longlong'>'\n",
       "\twith 836483 stored elements in Compressed Sparse Row format>"
      ]
     },
     "execution_count": 33,
     "metadata": {},
     "output_type": "execute_result"
    }
   ],
   "source": [
    "from scipy.sparse import csr_matrix\n",
    "\n",
    "num_user = data['user_id'].nunique()\n",
    "num_movie = data['title'].nunique()\n",
    "\n",
    "csr_data = csr_matrix((data['counts'], (data.user_id, data.title)),\n",
    "                      shape = (num_user, num_movie))\n",
    "csr_data"
   ]
  },
  {
   "cell_type": "code",
   "execution_count": 59,
   "id": "pressing-shanghai",
   "metadata": {},
   "outputs": [
    {
     "name": "stdout",
     "output_type": "stream",
     "text": [
      "[5 3 3 ... 5 5 5]\n",
      "[  0   1   2 ... 124 160 175]\n",
      "[     0     53    169 ... 836202 836478 836483]\n"
     ]
    }
   ],
   "source": [
    "print(csr_data.data)\n",
    "print(csr_data.indices)\n",
    "print(csr_data.indptr)"
   ]
  },
  {
   "cell_type": "markdown",
   "id": "constitutional-actress",
   "metadata": {},
   "source": [
    "### ■ Step5 AlternatingLeastSquares 모델 구성 및 훈련"
   ]
  },
  {
   "attachments": {
    "image.png": {
     "image/png": "[encoded data removed]"
    }
   },
   "cell_type": "markdown",
   "id": "magnetic-latter",
   "metadata": {},
   "source": [
    "![image.png](attachment:image.png)\n",
    "\n",
    "[사진출처 및 Matrix Factorization에 대한 추가설명](https://arxiv.org/pdf/1610.05838.pdf)"
   ]
  },
  {
   "cell_type": "markdown",
   "id": "bored-motor",
   "metadata": {},
   "source": [
    "- Step4에서 만든 CSR Matrix를 `implicit` 패키지의 **Matrix Factorization** 모델로 학습\n",
    "\n",
    "- `implicit` 패키지는 암묵적(implicit) dataset을 사용하는 다양한 모델을 굉장히 빠르게 학습할 수 있는 패키지\n",
    "\n",
    "- `implicit` 패키지에 구현된 **Matrix Factorization** 모델인**`als(AlternatingLeastSquares) 모델`**을 사용\n",
    "\n",
    "- **Matrix Factorization**에서 쪼개진 두 Feature Matrix를 한꺼번에 훈련하는 것은 잘 수렴하지 않기 때문에, 한쪽을 고정시키고 다른 쪽을 학습하는 방식을 번갈아 수행하는 **AlternatingLeastSquares** 방식이 효과적인 것으로 알려져 있음"
   ]
  },
  {
   "cell_type": "markdown",
   "id": "challenging-complexity",
   "metadata": {},
   "source": [
    "**5-1 `implicit` 라이브러리에서 권장사항 수행(학습 내용과 무관)**"
   ]
  },
  {
   "cell_type": "code",
   "execution_count": 34,
   "id": "sealed-pakistan",
   "metadata": {},
   "outputs": [],
   "source": [
    "from implicit.als import AlternatingLeastSquares\n",
    "\n",
    "os.environ['OPENBLAS_NUM_THREADS']='1'\n",
    "os.environ['KMP_DUPLICATE_LIB_OK']='True'\n",
    "os.environ['MKL_NUM_THREADS']='1'"
   ]
  },
  {
   "cell_type": "markdown",
   "id": "global-winner",
   "metadata": {},
   "source": [
    "**5-2 AlternatingLeastSquares 모델 __init__ 파라미터 확인**"
   ]
  },
  {
   "cell_type": "code",
   "execution_count": 61,
   "id": "banned-accommodation",
   "metadata": {},
   "outputs": [
    {
     "data": {
      "text/plain": [
       "<function implicit.als.AlternatingLeastSquares.__init__(self, factors=100, regularization=0.01, dtype=<class 'numpy.float32'>, use_native=True, use_cg=True, use_gpu=False, iterations=15, calculate_training_loss=False, num_threads=0, random_state=None)>"
      ]
     },
     "execution_count": 61,
     "metadata": {},
     "output_type": "execute_result"
    }
   ],
   "source": [
    "AlternatingLeastSquares.__init__"
   ]
  },
  {
   "cell_type": "markdown",
   "id": "colored-michael",
   "metadata": {},
   "source": [
    "- 1. factors : 유저(user_id)와 아이템(movie_id)의 벡터의 차원\n",
    "- 2. regularization : 과적합 방지를 위한 정규화 정도\n",
    "- 3. use_gpu : GPU 사용 유무\n",
    "- 4. iterations : 학습 반복 횟수"
   ]
  },
  {
   "cell_type": "markdown",
   "id": "eight-plain",
   "metadata": {},
   "source": [
    "**5-3 `AlternatingLeastSquares` 모델 선언**"
   ]
  },
  {
   "cell_type": "code",
   "execution_count": 35,
   "id": "modern-species",
   "metadata": {},
   "outputs": [],
   "source": [
    "als_model = AlternatingLeastSquares(factors=100, \n",
    "                                    regularization=0.01, \n",
    "                                    use_gpu=False, \n",
    "                                    iterations=15, \n",
    "                                    dtype=np.float32)"
   ]
  },
  {
   "cell_type": "markdown",
   "id": "voluntary-bruce",
   "metadata": {},
   "source": [
    "**5-3 `CSR matrix` Transpose**"
   ]
  },
  {
   "cell_type": "code",
   "execution_count": 36,
   "id": "assured-popularity",
   "metadata": {},
   "outputs": [
    {
     "data": {
      "text/plain": [
       "<3628x6040 sparse matrix of type '<class 'numpy.longlong'>'\n",
       "\twith 836483 stored elements in Compressed Sparse Column format>"
      ]
     },
     "execution_count": 36,
     "metadata": {},
     "output_type": "execute_result"
    }
   ],
   "source": [
    "# als 모델은 input으로 (item X user 꼴의 matrix를 받기 때문에 Transpose해야함)\n",
    "\n",
    "csr_data_transpose = csr_data.T\n",
    "csr_data_transpose"
   ]
  },
  {
   "cell_type": "markdown",
   "id": "knowing-milan",
   "metadata": {},
   "source": [
    "**5-4 모델 훈련**"
   ]
  },
  {
   "cell_type": "code",
   "execution_count": 37,
   "id": "desperate-today",
   "metadata": {},
   "outputs": [
    {
     "data": {
      "application/vnd.jupyter.widget-view+json": {
       "model_id": "aeef820c08864e0a8b648883797a19e9",
       "version_major": 2,
       "version_minor": 0
      },
      "text/plain": [
       "  0%|          | 0/15 [00:00<?, ?it/s]"
      ]
     },
     "metadata": {},
     "output_type": "display_data"
    }
   ],
   "source": [
    "# 모델 훈련\n",
    "als_model.fit(csr_data_transpose)"
   ]
  },
  {
   "cell_type": "markdown",
   "id": "turkish-legislation",
   "metadata": {},
   "source": [
    "### ■ Step6 나의 선호도 파악\n",
    "\n",
    "- 내가 선호하는 5가지 영화 중 하나와 그 외의 영화 하나를 골라 훈련된 모델이 예측한 나의 선호도를 파악해 보세요."
   ]
  },
  {
   "cell_type": "markdown",
   "id": "micro-discovery",
   "metadata": {},
   "source": [
    "**6-1 gwangmin**(본인) **벡터, matrix**(좋아하는 영화 5개 중 1개) **벡터 확인**"
   ]
  },
  {
   "cell_type": "code",
   "execution_count": 38,
   "id": "studied-botswana",
   "metadata": {},
   "outputs": [],
   "source": [
    "gwangmin, matrix = user_to_idx['gwangmin'], movie_to_idx['Matrix, The (1999)']\n",
    "gwangmin_vector, matrix_vector = als_model.user_factors[gwangmin], als_model.item_factors[matrix]"
   ]
  },
  {
   "cell_type": "code",
   "execution_count": 39,
   "id": "infrared-smart",
   "metadata": {},
   "outputs": [
    {
     "data": {
      "text/plain": [
       "array([ 0.9365212 , -0.23317707, -0.40296915, -0.6283487 , -0.50868237,\n",
       "        0.8320377 ,  1.0792793 , -0.04017761,  0.22043474,  0.5467907 ,\n",
       "        0.20199348,  0.7102251 ,  0.31508476,  0.11749194,  0.11632191,\n",
       "        0.7106335 , -1.312226  ,  0.03066934,  0.02384569, -0.07566502,\n",
       "       -0.26928508,  0.01525835,  0.4252651 , -0.45730457,  0.1770558 ,\n",
       "        0.20796719,  0.48980045, -0.01189139,  0.19702129, -0.76660883,\n",
       "        0.36043876, -0.18404983, -0.14660865,  0.00873526,  0.01061968,\n",
       "       -0.83973986,  0.03690937,  1.1111146 , -1.0315634 , -0.42019868,\n",
       "        0.6327859 , -0.08975108, -0.11546391,  0.02235164, -0.1052355 ,\n",
       "        0.13347179,  0.22807626,  0.48533845,  0.19469771, -0.50147516,\n",
       "       -0.35857517,  0.7253157 ,  0.03043796, -0.82414407, -0.5248196 ,\n",
       "        0.7507935 ,  0.756134  ,  0.13529003,  0.29975772, -0.17120871,\n",
       "       -0.37592202,  0.6116026 ,  0.16911514, -0.2950315 , -0.8511801 ,\n",
       "        0.06130696,  0.3242942 , -0.09232081,  0.4451765 , -0.5758899 ,\n",
       "       -0.07032888, -0.14785571,  0.85988116, -0.00515273,  0.45321304,\n",
       "        0.04999788, -0.8799362 , -0.8567096 ,  0.6404648 ,  0.06063574,\n",
       "       -0.2051641 , -0.08254225, -0.0346414 , -1.0883844 , -0.29953885,\n",
       "        0.0042524 , -0.2988863 ,  0.401956  ,  0.7589749 ,  0.12692076,\n",
       "        0.19819951,  0.1817383 , -0.48867425, -0.13338456,  1.0520403 ,\n",
       "       -0.91950154, -0.553661  , -0.59400153,  0.17999144,  0.91719884],\n",
       "      dtype=float32)"
      ]
     },
     "execution_count": 39,
     "metadata": {},
     "output_type": "execute_result"
    }
   ],
   "source": [
    "gwangmin_vector"
   ]
  },
  {
   "cell_type": "code",
   "execution_count": 40,
   "id": "thrown-plenty",
   "metadata": {},
   "outputs": [
    {
     "data": {
      "text/plain": [
       "array([ 3.46680731e-02,  3.00639542e-03,  1.77235603e-02, -2.41113380e-02,\n",
       "       -8.73871613e-03, -5.58390049e-03,  2.85550784e-02,  8.22111964e-03,\n",
       "        9.18979477e-03,  5.10399090e-03,  1.40918419e-02,  2.63254587e-02,\n",
       "       -5.25658764e-03,  2.08660457e-02, -1.81176432e-03,  1.00587681e-02,\n",
       "       -1.13676889e-02,  2.10518893e-02, -1.06759900e-02, -2.04001833e-03,\n",
       "       -1.09180948e-02, -2.65146978e-03,  1.55633567e-02,  2.27765669e-03,\n",
       "        1.73916742e-02,  9.18161822e-05,  4.15203981e-02,  2.82512121e-02,\n",
       "        3.80719802e-03, -1.66315604e-02,  3.45701730e-04,  3.08470964e-03,\n",
       "       -1.11768665e-02,  2.26840377e-03, -2.08225977e-02, -5.46675222e-03,\n",
       "        8.84780195e-03,  3.90706882e-02, -3.82668599e-02,  1.82299863e-03,\n",
       "        2.73941923e-02, -1.88252740e-02, -2.42250692e-03,  6.25435403e-03,\n",
       "        2.82504335e-02, -1.71129704e-02,  1.37414187e-02,  1.55638475e-02,\n",
       "        3.95340798e-03,  9.06278752e-03,  1.29274344e-02,  2.34987549e-02,\n",
       "        2.68239379e-02,  4.45371820e-03, -1.75511092e-02,  2.21141484e-02,\n",
       "        2.31627375e-02,  1.12197502e-02,  1.95517577e-02,  2.18861154e-03,\n",
       "       -1.32443914e-02,  6.82187406e-03, -6.27025147e-04, -5.19286143e-03,\n",
       "       -1.97718833e-02,  6.23505143e-03,  1.89034473e-02,  1.58111600e-03,\n",
       "        5.15374076e-03, -5.40821906e-03, -6.16061874e-03, -2.95183645e-03,\n",
       "        3.32378559e-02,  1.13025904e-02,  2.17372691e-03, -1.38677433e-02,\n",
       "        9.00006015e-03, -5.78891253e-03,  1.05293444e-03,  7.93607533e-03,\n",
       "        2.43142433e-03,  5.48227597e-03, -2.14652857e-03, -2.99619958e-02,\n",
       "       -1.97850913e-03, -1.35237770e-02,  2.57458556e-02, -7.08342623e-03,\n",
       "        3.65049280e-02,  2.16812473e-02,  1.21402955e-02, -1.13428030e-02,\n",
       "        3.59825529e-02,  1.23976478e-02,  3.48542109e-02, -5.15829830e-04,\n",
       "       -1.33629772e-03, -3.20698344e-03,  8.72889720e-03,  3.76499295e-02],\n",
       "      dtype=float32)"
      ]
     },
     "execution_count": 40,
     "metadata": {},
     "output_type": "execute_result"
    }
   ],
   "source": [
    "matrix_vector"
   ]
  },
  {
   "cell_type": "markdown",
   "id": "grave-nursery",
   "metadata": {},
   "source": [
    "**6-2 gwangmin과 matrix 내적(곱하기)**"
   ]
  },
  {
   "cell_type": "code",
   "execution_count": 41,
   "id": "official-socket",
   "metadata": {},
   "outputs": [
    {
     "data": {
      "text/plain": [
       "0.5099555"
      ]
     },
     "execution_count": 41,
     "metadata": {},
     "output_type": "execute_result"
    }
   ],
   "source": [
    "np.dot(gwangmin_vector, matrix_vector)"
   ]
  },
  {
   "cell_type": "markdown",
   "id": "consistent-thriller",
   "metadata": {},
   "source": [
    "- 내가 직접 입력한 영화이기에 내적 값이 1이 나와야 될 것 같은데 한참 낮은 수치가 나옴"
   ]
  },
  {
   "cell_type": "markdown",
   "id": "attractive-excuse",
   "metadata": {},
   "source": [
    "**6-3 다른 영화(Antz)에 대한 선호도는 어떻게 예측할지 확인**"
   ]
  },
  {
   "cell_type": "code",
   "execution_count": 42,
   "id": "pleasant-color",
   "metadata": {},
   "outputs": [
    {
     "data": {
      "text/plain": [
       "0.17337522"
      ]
     },
     "execution_count": 42,
     "metadata": {},
     "output_type": "execute_result"
    }
   ],
   "source": [
    "antz = movie_to_idx['Antz (1998)']\n",
    "antz_vector = als_model.item_factors[antz]\n",
    "np.dot(gwangmin_vector, antz_vector)"
   ]
  },
  {
   "cell_type": "markdown",
   "id": "weekly-disclaimer",
   "metadata": {},
   "source": [
    "- 상당히 낮은 값이 나옴.\n",
    "- 벡터 내적 값이 얼마 이상이여야지 선호하는 영화라고 판단다는 기준은 모델을 만드는 사람이 정하기 나름이라고 함. 객관적인 지표로 만들어서 기준을 정할 수도 있고, 도메인 경험을 통해 정할 수도 있다고 함.\n",
    "- 이처럼 추천 시스템은 사람(개인)에 대해 정확히 파악할 수 없기 때문에 객관적인 지표를 정하기 어렵고, 따라서 다른 머신러닝 작업보다 객관적인 평가가 어려운 분야임."
   ]
  },
  {
   "cell_type": "markdown",
   "id": "certain-childhood",
   "metadata": {},
   "source": [
    "**6-4 als 모델 factors=200으로 하이퍼파라미터 튜닝**"
   ]
  },
  {
   "cell_type": "code",
   "execution_count": 63,
   "id": "aging-essex",
   "metadata": {},
   "outputs": [
    {
     "data": {
      "application/vnd.jupyter.widget-view+json": {
       "model_id": "eb646bc1a37044f0a884b10613528e85",
       "version_major": 2,
       "version_minor": 0
      },
      "text/plain": [
       "  0%|          | 0/15 [00:00<?, ?it/s]"
      ]
     },
     "metadata": {},
     "output_type": "display_data"
    },
    {
     "data": {
      "text/plain": [
       "0.7116942"
      ]
     },
     "execution_count": 63,
     "metadata": {},
     "output_type": "execute_result"
    }
   ],
   "source": [
    "# 모델 선언\n",
    "als_model2 = AlternatingLeastSquares(factors=200, \n",
    "                                     regularization=0.01, \n",
    "                                     use_gpu=False, \n",
    "                                     iterations=15, \n",
    "                                     dtype=np.float32)\n",
    "\n",
    "# 모델 학습\n",
    "als_model2.fit(csr_data_transpose)\n",
    "\n",
    "# 벡터값 변수에 저장\n",
    "gwangmin, matrix = user_to_idx['gwangmin'], movie_to_idx['Matrix, The (1999)']\n",
    "gwangmin_vector = als_model2.user_factors[gwangmin]\n",
    "matrix_vector = als_model2.item_factors[matrix]\n",
    "\n",
    "# 유저와 영화 내적\n",
    "np.dot(gwangmin_vector, matrix_vector)"
   ]
  },
  {
   "cell_type": "markdown",
   "id": "registered-brand",
   "metadata": {},
   "source": [
    "**6-5 als 모델 factors=200, iterations=30으로 하이퍼파라미터 튜닝**"
   ]
  },
  {
   "cell_type": "code",
   "execution_count": 66,
   "id": "comfortable-concord",
   "metadata": {},
   "outputs": [
    {
     "data": {
      "application/vnd.jupyter.widget-view+json": {
       "model_id": "81a02a42acdf4064b53733d1f5a1d9b4",
       "version_major": 2,
       "version_minor": 0
      },
      "text/plain": [
       "  0%|          | 0/30 [00:00<?, ?it/s]"
      ]
     },
     "metadata": {},
     "output_type": "display_data"
    },
    {
     "data": {
      "text/plain": [
       "0.7178756"
      ]
     },
     "execution_count": 66,
     "metadata": {},
     "output_type": "execute_result"
    }
   ],
   "source": [
    "# 모델 선언\n",
    "als_model3 = AlternatingLeastSquares(factors=200, \n",
    "                                     regularization=0.01, \n",
    "                                     use_gpu=False, \n",
    "                                     iterations=30, \n",
    "                                     dtype=np.float32)\n",
    "\n",
    "# 모델 학습\n",
    "als_model3.fit(csr_data_transpose)\n",
    "\n",
    "# 벡터값 변수에 저장\n",
    "gwangmin, matrix = user_to_idx['gwangmin'], movie_to_idx['Matrix, The (1999)']\n",
    "gwangmin_vector = als_model3.user_factors[gwangmin]\n",
    "matrix_vector = als_model3.item_factors[matrix]\n",
    "\n",
    "# 유저와 영화 내적\n",
    "np.dot(gwangmin_vector, matrix_vector)"
   ]
  },
  {
   "cell_type": "markdown",
   "id": "civic-security",
   "metadata": {},
   "source": [
    "- 하이퍼파리미터 중 벡터 차원의 값을 결정하는 factors를 100에서 200으로 바꾸어 모델을 학습시키니, 유저와 영화의 내적 값이 0.5에서 0.71로 상당히 향상되음.\n",
    "\n",
    "- iterations을 15에서 30으로 바꾸어 진행하였으나 더 이상의 향상은 나타나지 않음.\n",
    "\n",
    "- 하지만 0.71이라는 값도 1하고는 아직 상당한 거리가 있음.."
   ]
  },
  {
   "cell_type": "markdown",
   "id": "central-nightmare",
   "metadata": {},
   "source": [
    "### ■ Step7 내가 좋아하는 영화와 비슷한 영화 추천 받기"
   ]
  },
  {
   "cell_type": "markdown",
   "id": "compact-forest",
   "metadata": {},
   "source": [
    "**7-1 `similar_items` 메서드로 내가 좋아하는 영화와 비슷한 영화 찾기**"
   ]
  },
  {
   "cell_type": "code",
   "execution_count": 43,
   "id": "seeing-finder",
   "metadata": {},
   "outputs": [
    {
     "data": {
      "text/plain": [
       "[(40, 1.0000001),\n",
       " (50, 0.7790652),\n",
       " (33, 0.58271897),\n",
       " (4, 0.5521627),\n",
       " (322, 0.5499463),\n",
       " (110, 0.5065156),\n",
       " (330, 0.46842682),\n",
       " (10, 0.44906643),\n",
       " (20, 0.42620668),\n",
       " (255, 0.42289424),\n",
       " (160, 0.37899724),\n",
       " (126, 0.33953798),\n",
       " (34, 0.33586186),\n",
       " (32, 0.33352444),\n",
       " (458, 0.33212608)]"
      ]
     },
     "execution_count": 43,
     "metadata": {},
     "output_type": "execute_result"
    }
   ],
   "source": [
    "favorite_movie = 'Toy Story (1995)'\n",
    "movie_id = movie_to_idx[favorite_movie]\n",
    "similar_movie = als_model.similar_items(movie_id, N=15)\n",
    "similar_movie"
   ]
  },
  {
   "cell_type": "markdown",
   "id": "minimal-sender",
   "metadata": {},
   "source": [
    "**7-2 movie_id를 title로 변환**"
   ]
  },
  {
   "cell_type": "code",
   "execution_count": 44,
   "id": "smoking-computer",
   "metadata": {},
   "outputs": [
    {
     "data": {
      "text/plain": [
       "['Toy Story (1995)',\n",
       " 'Toy Story 2 (1999)',\n",
       " 'Aladdin (1992)',\n",
       " \"Bug's Life, A (1998)\",\n",
       " 'Babe (1995)',\n",
       " 'Groundhog Day (1993)',\n",
       " 'Lion King, The (1994)',\n",
       " 'Beauty and the Beast (1991)',\n",
       " 'Pleasantville (1998)',\n",
       " \"There's Something About Mary (1998)\",\n",
       " 'Forrest Gump (1994)',\n",
       " 'Shakespeare in Love (1998)',\n",
       " 'Mulan (1998)',\n",
       " 'Hercules (1997)',\n",
       " 'Mask, The (1994)']"
      ]
     },
     "execution_count": 44,
     "metadata": {},
     "output_type": "execute_result"
    }
   ],
   "source": [
    "#movie_to_idx 를 뒤집어, index로부터 movie 이름을 얻는 dict를 생성\n",
    "\n",
    "idx_to_movie = {v:k for k,v in movie_to_idx.items()}\n",
    "[idx_to_movie[i[0]] for i in similar_movie]"
   ]
  },
  {
   "cell_type": "markdown",
   "id": "boolean-closure",
   "metadata": {},
   "source": [
    "**7-3 내가 좋아하는 영화와 비슷한 영화 추천 함수 만들기**"
   ]
  },
  {
   "cell_type": "code",
   "execution_count": 45,
   "id": "functioning-gazette",
   "metadata": {},
   "outputs": [],
   "source": [
    "def get_similar_movie(movie_title: str):\n",
    "    movie_id = movie_to_idx[movie_title]\n",
    "    similar_movie = als_model.similar_items(movie_id, N=15)\n",
    "    similar_movie = [idx_to_movie[i[0]] for i in similar_movie]\n",
    "    return similar_movie"
   ]
  },
  {
   "cell_type": "markdown",
   "id": "devoted-establishment",
   "metadata": {},
   "source": [
    "**7-4 함수를 이용해 다른 영화로도 추천받기**"
   ]
  },
  {
   "cell_type": "code",
   "execution_count": 46,
   "id": "approximate-binary",
   "metadata": {},
   "outputs": [
    {
     "data": {
      "text/plain": [
       "['Matrix, The (1999)',\n",
       " 'Terminator 2: Judgment Day (1991)',\n",
       " 'Total Recall (1990)',\n",
       " 'Terminator, The (1984)',\n",
       " 'Fugitive, The (1993)',\n",
       " 'Jurassic Park (1993)',\n",
       " 'Fifth Element, The (1997)',\n",
       " 'Face/Off (1997)',\n",
       " 'Men in Black (1997)',\n",
       " 'Twelve Monkeys (1995)',\n",
       " 'Hunt for Red October, The (1990)',\n",
       " 'Star Wars: Episode IV - A New Hope (1977)',\n",
       " 'Star Wars: Episode V - The Empire Strikes Back (1980)',\n",
       " 'Gattaca (1997)',\n",
       " 'Alien (1979)']"
      ]
     },
     "execution_count": 46,
     "metadata": {},
     "output_type": "execute_result"
    }
   ],
   "source": [
    "get_similar_movie('Matrix, The (1999)')"
   ]
  },
  {
   "cell_type": "markdown",
   "id": "separate-despite",
   "metadata": {},
   "source": [
    "- Matrix와 비슷한 Terminator, Star Wars 등의 영화가 추천되었음!"
   ]
  },
  {
   "cell_type": "code",
   "execution_count": 47,
   "id": "compatible-earth",
   "metadata": {},
   "outputs": [
    {
     "data": {
      "text/plain": [
       "['Forrest Gump (1994)',\n",
       " 'Groundhog Day (1993)',\n",
       " 'Pretty Woman (1990)',\n",
       " 'Ghost (1990)',\n",
       " 'Sleepless in Seattle (1993)',\n",
       " 'As Good As It Gets (1997)',\n",
       " 'Four Weddings and a Funeral (1994)',\n",
       " 'Death in Brunswick (1991)',\n",
       " 'Clueless (1995)',\n",
       " 'Notting Hill (1999)',\n",
       " 'Wedding Singer, The (1998)',\n",
       " \"You've Got Mail (1998)\",\n",
       " 'Aces: Iron Eagle III (1992)',\n",
       " 'Story of G.I. Joe, The (1945)',\n",
       " 'Open Season (1996)']"
      ]
     },
     "execution_count": 47,
     "metadata": {},
     "output_type": "execute_result"
    }
   ],
   "source": [
    "get_similar_movie('Forrest Gump (1994)')"
   ]
  },
  {
   "cell_type": "markdown",
   "id": "mineral-necklace",
   "metadata": {},
   "source": [
    "- 포레스트 검프처럼 사랑에 관한 소재가 담긴 영화들이 많이 추천되었음!"
   ]
  },
  {
   "cell_type": "markdown",
   "id": "diagnostic-screening",
   "metadata": {},
   "source": [
    "### ■ Step8 내가 가장 좋아할 만한 영화 추천 받기"
   ]
  },
  {
   "cell_type": "markdown",
   "id": "timely-mapping",
   "metadata": {},
   "source": [
    "**8-1 `recommend` 메서드로 유저가 좋아할 영화 추천하기**"
   ]
  },
  {
   "cell_type": "code",
   "execution_count": 51,
   "id": "changed-hampshire",
   "metadata": {},
   "outputs": [
    {
     "data": {
      "text/plain": [
       "[(107, 0.54048216),\n",
       " (92, 0.5194876),\n",
       " (50, 0.49803764),\n",
       " (4, 0.3636936),\n",
       " (110, 0.33608598),\n",
       " (62, 0.32192725),\n",
       " (330, 0.31244642),\n",
       " (33, 0.3087043),\n",
       " (141, 0.29221213),\n",
       " (87, 0.2817135),\n",
       " (150, 0.27991477),\n",
       " (60, 0.2795288),\n",
       " (64, 0.2520957),\n",
       " (10, 0.24908528),\n",
       " (851, 0.2439824),\n",
       " (322, 0.24297178),\n",
       " (48, 0.24279077),\n",
       " (38, 0.22827046),\n",
       " (670, 0.2187998),\n",
       " (22, 0.21728553)]"
      ]
     },
     "execution_count": 51,
     "metadata": {},
     "output_type": "execute_result"
    }
   ],
   "source": [
    "user = user_to_idx['gwangmin']\n",
    "\n",
    "movie_recommended = als_model.recommend(user,\n",
    "                                        csr_data,\n",
    "                                        N=20,\n",
    "                                        filter_already_liked_items=True)\n",
    "movie_recommended"
   ]
  },
  {
   "cell_type": "markdown",
   "id": "recognized-child",
   "metadata": {},
   "source": [
    "**8-2 movie_id를 title로 변환**"
   ]
  },
  {
   "cell_type": "code",
   "execution_count": 52,
   "id": "young-companion",
   "metadata": {},
   "outputs": [
    {
     "data": {
      "text/plain": [
       "['Jurassic Park (1993)',\n",
       " 'Terminator 2: Judgment Day (1991)',\n",
       " 'Toy Story 2 (1999)',\n",
       " \"Bug's Life, A (1998)\",\n",
       " 'Groundhog Day (1993)',\n",
       " 'Total Recall (1990)',\n",
       " 'Lion King, The (1994)',\n",
       " 'Aladdin (1992)',\n",
       " 'Fugitive, The (1993)',\n",
       " 'Braveheart (1995)',\n",
       " 'Independence Day (ID4) (1996)',\n",
       " 'Star Wars: Episode I - The Phantom Menace (1999)',\n",
       " 'Star Wars: Episode VI - Return of the Jedi (1983)',\n",
       " 'Beauty and the Beast (1991)',\n",
       " 'Iron Giant, The (1999)',\n",
       " 'Babe (1995)',\n",
       " 'Saving Private Ryan (1998)',\n",
       " 'Sixth Sense, The (1999)',\n",
       " 'Galaxy Quest (1999)',\n",
       " 'Back to the Future (1985)']"
      ]
     },
     "execution_count": 52,
     "metadata": {},
     "output_type": "execute_result"
    }
   ],
   "source": [
    "[idx_to_movie[i[0]] for i in movie_recommended]"
   ]
  },
  {
   "cell_type": "markdown",
   "id": "amino-accounting",
   "metadata": {},
   "source": [
    "- 쥬라기 공원, 터미네이터, 토이스토리2, 벅스라이프 등을 추천해주었다. 내가 좋아하는 영화 5개랑 비슷한 것 같다. "
   ]
  },
  {
   "cell_type": "markdown",
   "id": "white-wound",
   "metadata": {},
   "source": [
    "**8-3 `explain` 메소드로 내가 좋아하는 영화 5개가 위 추천에 기여한 정도를 확인**"
   ]
  },
  {
   "cell_type": "code",
   "execution_count": 53,
   "id": "confidential-methodology",
   "metadata": {},
   "outputs": [],
   "source": [
    "jurassic_park = movie_to_idx['Jurassic Park (1993)']\n",
    "explain= als_model.explain(user, csr_data, itemid=jurassic_park)"
   ]
  },
  {
   "cell_type": "code",
   "execution_count": 54,
   "id": "developmental-pride",
   "metadata": {},
   "outputs": [
    {
     "data": {
      "text/plain": [
       "[('Men in Black (1997)', 0.3168364680121494),\n",
       " ('Matrix, The (1999)', 0.15386138713554295),\n",
       " ('Forrest Gump (1994)', 0.07148124094663731),\n",
       " ('Mulan (1998)', 0.02148731654370223),\n",
       " ('Toy Story (1995)', -0.03144289780659457)]"
      ]
     },
     "execution_count": 54,
     "metadata": {},
     "output_type": "execute_result"
    }
   ],
   "source": [
    "[(idx_to_movie[i[0]], i[1]) for i in explain[1]]"
   ]
  },
  {
   "cell_type": "markdown",
   "id": "unknown-planet",
   "metadata": {},
   "source": [
    "- '쥬라기 공원' 추천에는 멘인블랙이 0.31로 가장 높은 기여를 했고, 토이스토리가 -0.03으로 가장 낮은 기여를 함."
   ]
  },
  {
   "cell_type": "code",
   "execution_count": 56,
   "id": "cleared-hundred",
   "metadata": {},
   "outputs": [
    {
     "data": {
      "text/plain": [
       "[('Toy Story (1995)', 0.2634682491524135),\n",
       " ('Men in Black (1997)', 0.07428567566958802),\n",
       " ('Mulan (1998)', 0.047051194982542593),\n",
       " ('Forrest Gump (1994)', 0.005642772460625243),\n",
       " ('Matrix, The (1999)', -0.031635897791957704)]"
      ]
     },
     "execution_count": 56,
     "metadata": {},
     "output_type": "execute_result"
    }
   ],
   "source": [
    "bugs = movie_to_idx[\"Bug's Life, A (1998)\"]\n",
    "explain= als_model.explain(user, csr_data, itemid=bugs)\n",
    "[(idx_to_movie[i[0]], i[1]) for i in explain[1]]"
   ]
  },
  {
   "cell_type": "markdown",
   "id": "hindu-battle",
   "metadata": {},
   "source": [
    "- '벅스라이프' 추천에는 토이스토리가 0.26으로 가장 높은 기여를 했고, 메트릭스가 -0.03으로 가장 낮은 기여를 함."
   ]
  },
  {
   "cell_type": "markdown",
   "id": "finite-calibration",
   "metadata": {},
   "source": [
    "### ■ 정리 및 회고"
   ]
  },
  {
   "cell_type": "markdown",
   "id": "interim-devices",
   "metadata": {},
   "source": [
    "**1. AlternatingLeastSquares 모델 하이퍼파라미터 튜닝**\n",
    "\n",
    "|모델|factors|iterations|유저와 영화 내적 값|\n",
    "|---|---|---|---|\n",
    "|als_model|100|15|**0.509**|\n",
    "|als_model2|200|15|**0.711**|\n",
    "|als_model3|200|30|**0.717**|\n",
    "\n",
    "- 하이퍼파리미터 중 벡터 차원의 값을 결정하는 factors를 100에서 200으로 바꾸어 모델을 학습시키니, 유저와 영화의 내적 값이 0.5에서 0.71로 상당히 향상되었다.\n",
    "\n",
    "\n",
    "- 추가적으로 iterations을 30으로 바꾸어 진행해 보았으나 더 이상의 큰 향상은 나타나지 않았다.\n",
    "\n",
    "\n",
    "- 0.5에서 0.7로 향상은 되었지만, 0.7이라는 값도 1하고는 아직 상당한 거리가 있다.\n",
    "\n",
    "\n",
    "- 벡터 내적 값이 얼마 이상이여야지 선호하는 영화라고 판단다는 기준은 모델을 만드는 사람이 정하기 나름이라고 한다. 객관적인 지표로 만들어서 기준을 정할 수도 있고, 도메인 경험을 통해 정할 수도 있다. 이처럼 추천 시스템은 사람(개인)에 대해 정확히 파악할 수 없기 때문에 객관적인 지표를 정하기 어렵고, 따라서 다른 머신러닝 작업보다 객관적인 평가가 어려운 분야이다."
   ]
  },
  {
   "cell_type": "markdown",
   "id": "extraordinary-leeds",
   "metadata": {},
   "source": [
    "**2. 추천시스템 결과**\n",
    "\n",
    "- 먼저 내가 입력한 좋아하는 영화 5개는 'Toy Story (1995)', 'Forrest Gump (1994)', 'Men in Black (1997)', 'Mulan (1998)', 'Matrix, The (1999)'였다.\n",
    "\n",
    "\n",
    "- 이 중 'Matrix, The (1999)'와 비슷한 영화로 추천된 결과를 보니, 'Terminator', 'Star Wars' 등의 **액션 요소**가 있는 비슷한 영화가 추천되었고, '포레스트 검프'와 비슷한 영화로 추천된 영화는 **사랑에 관한 소재**가 담긴 'Groundhog Day', 'Pretty Woman' 등의 영화들이 많이 추천되었다!\n",
    "\n",
    "\n",
    "- 한편 비슷한 작품을 추천해주는 방식이 아닌, 개인에게 여러개의 영화를 추천해주는 방식에서도 '쥬라기 공원', '터미네이터', '토이스토리2', '벅스라이프' 등을 내가 좋아하는 영화와 비슷한 영화들이 성공적으로 추천되었다.\n",
    "\n",
    "\n",
    "- 결과만 놓고 보면 추천시스템의 성능이 크게 나쁘지는 않은 것 같다!"
   ]
  },
  {
   "cell_type": "markdown",
   "id": "handmade-southeast",
   "metadata": {},
   "source": [
    "**3. 개념정리**\n",
    "\n",
    "- **CSR(Compressed Spares Row) matrix**\n",
    "\n",
    "- **Matrix Factorization(행렬분해)**\n",
    "\n",
    "- **AlternatingLeastSquares 모델**\n",
    "    - similar_items()\n",
    "    - recommend()\n",
    "    - explain()"
   ]
  },
  {
   "cell_type": "markdown",
   "id": "according-folder",
   "metadata": {},
   "source": [
    "**4. 첫번째 추천시스템 Exploration을 마치며**\n",
    "\n",
    "- 컴퓨터비전(CV)과 자연어처리(NLP)에 이어 추천시스템 관련 Exploration를 만드게 되었다. 새롭고 생소한 개념들을 이해하고, 노드의 흐름을 이해하는게 NLP처럼 쉽지 않았지만 영화라는 익숙한 소재의 데이터를 활용하다보니 조금씩 재미있는 부분도 있었다. 반면 익숙하지 않은 소재의 데이터이거나, 도메인 지식이 상당히 필요한 데이터라면 데이터 자체를 이해하는 데에도 많은 시간과 노력이 필요할 듯 싶다.\n",
    "\n",
    "\n",
    "- 추천시스템 평가 방법인 [Mean Average Precision(MAP)](https://danthetech.netlify.app/DataScience/evaluation-metrics-for-recommendation-system)으로 모델이 추천한 20개의 영화 중 실제로 선호하는 영화의 수를 계산하여 모델의 객관적인 지표를 만들어 보고 싶었으나, 추가적인 개념 정리(Precision, Recall 등) 및 코드 구현의 실력 부족으로 시도해보지 못해 아쉬움이 남는다.\n",
    "\n",
    "\n",
    "- 아직 추천시스템에 대해 자세히 알지는 못하지만 다양한 상업적 서비스에서 이용되고 있는 추천시스템에 대해 보다더 자세히 알아보고 싶다. 어떤 음악을 들을지, 무엇을 먹을지, 어떤 영화를 볼지도 중요하지만 사실 우리 개인들에게 가장 큰 고민은 **'어떻게 살지'**인데, 나중에는 우리의 삶의 방향도 추천해주는 시스템이 등장할지 궁금해진다."
   ]
  }
 ],
 "metadata": {
  "kernelspec": {
   "display_name": "Python 3",
   "language": "python",
   "name": "python3"
  },
  "language_info": {
   "codemirror_mode": {
    "name": "ipython",
    "version": 3
   },
   "file_extension": ".py",
   "mimetype": "text/x-python",
   "name": "python",
   "nbconvert_exporter": "python",
   "pygments_lexer": "ipython3",
   "version": "3.7.9"
  }
 },
 "nbformat": 4,
 "nbformat_minor": 5
}
