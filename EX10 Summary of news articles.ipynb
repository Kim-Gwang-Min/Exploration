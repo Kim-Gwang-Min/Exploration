{
 "cells": [
  {
   "cell_type": "markdown",
   "id": "opponent-pontiac",
   "metadata": {},
   "source": [
    "# < 뉴스 요약봇 만들기 >"
   ]
  },
  {
   "cell_type": "markdown",
   "id": "better-motel",
   "metadata": {},
   "source": [
    "**- 목차 -**\n",
    "\n",
    "□ Step1 데이터 수집하기   \n",
    "□ Step2 데이터 전처리하기(추상적 요약)   \n",
    "□ Step3 어텐션 메커니즘 사용하기 (추상적 요약)  \n",
    "□ Step4 실제 결과와 요약문 비교하기 (추상적 요약)   \n",
    "□ Step5 Summa을 이용해서 추출적 요약해보기  \n",
    "□ 정리 및 회고"
   ]
  },
  {
   "cell_type": "markdown",
   "id": "formed-warren",
   "metadata": {},
   "source": [
    "### ■ Step1 데이터 수집하기"
   ]
  },
  {
   "cell_type": "markdown",
   "id": "established-bridge",
   "metadata": {},
   "source": [
    "**1-1 필요한 라이브러리 import**"
   ]
  },
  {
   "cell_type": "code",
   "execution_count": 40,
   "id": "covered-delivery",
   "metadata": {},
   "outputs": [
    {
     "name": "stdout",
     "output_type": "stream",
     "text": [
      "=3\n"
     ]
    },
    {
     "name": "stderr",
     "output_type": "stream",
     "text": [
      "[nltk_data] Downloading package stopwords to /aiffel/nltk_data...\n",
      "[nltk_data]   Package stopwords is already up-to-date!\n"
     ]
    }
   ],
   "source": [
    "import nltk\n",
    "nltk.download('stopwords')\n",
    "\n",
    "import numpy as np\n",
    "import pandas as pd\n",
    "import os\n",
    "import re\n",
    "import matplotlib.pyplot as plt\n",
    "from nltk.corpus import stopwords\n",
    "from bs4 import BeautifulSoup \n",
    "from tensorflow.keras.preprocessing.text import Tokenizer \n",
    "from tensorflow.keras.preprocessing.sequence import pad_sequences\n",
    "import urllib.request\n",
    "\n",
    "print('=3')"
   ]
  },
  {
   "cell_type": "markdown",
   "id": "everyday-programmer",
   "metadata": {},
   "source": [
    "**1-2 데이터 다운로드**"
   ]
  },
  {
   "cell_type": "markdown",
   "id": "honest-juice",
   "metadata": {},
   "source": [
    "- 뉴스 기사 데이터 : [sunnysai12345/News_Summary](https://github.com/sunnysai12345/News_Summary)"
   ]
  },
  {
   "cell_type": "code",
   "execution_count": 41,
   "id": "retired-operator",
   "metadata": {},
   "outputs": [],
   "source": [
    "import urllib.request\n",
    "urllib.request.urlretrieve(\"https://raw.githubusercontent.com/sunnysai12345/News_Summary/master/news_summary_more.csv\", filename=\"news_summary_more.csv\")\n",
    "data = pd.read_csv('news_summary_more.csv', encoding='iso-8859-1')"
   ]
  },
  {
   "cell_type": "code",
   "execution_count": 42,
   "id": "genetic-academy",
   "metadata": {},
   "outputs": [
    {
     "name": "stdout",
     "output_type": "stream",
     "text": [
      "<class 'pandas.core.frame.DataFrame'>\n",
      "RangeIndex: 98401 entries, 0 to 98400\n",
      "Data columns (total 2 columns):\n",
      " #   Column     Non-Null Count  Dtype \n",
      "---  ------     --------------  ----- \n",
      " 0   headlines  98401 non-null  object\n",
      " 1   text       98401 non-null  object\n",
      "dtypes: object(2)\n",
      "memory usage: 1.5+ MB\n"
     ]
    }
   ],
   "source": [
    "data.info()"
   ]
  },
  {
   "cell_type": "code",
   "execution_count": 44,
   "id": "dirty-theme",
   "metadata": {},
   "outputs": [
    {
     "data": {
      "text/html": [
       "<div>\n",
       "<style scoped>\n",
       "    .dataframe tbody tr th:only-of-type {\n",
       "        vertical-align: middle;\n",
       "    }\n",
       "\n",
       "    .dataframe tbody tr th {\n",
       "        vertical-align: top;\n",
       "    }\n",
       "\n",
       "    .dataframe thead th {\n",
       "        text-align: right;\n",
       "    }\n",
       "</style>\n",
       "<table border=\"1\" class=\"dataframe\">\n",
       "  <thead>\n",
       "    <tr style=\"text-align: right;\">\n",
       "      <th></th>\n",
       "      <th>headlines</th>\n",
       "      <th>text</th>\n",
       "    </tr>\n",
       "  </thead>\n",
       "  <tbody>\n",
       "    <tr>\n",
       "      <th>62679</th>\n",
       "      <td>Windies' Chanderpaul signs new county deal at ...</td>\n",
       "      <td>Former Windies' batsman Shivnarine Chanderpaul...</td>\n",
       "    </tr>\n",
       "    <tr>\n",
       "      <th>56346</th>\n",
       "      <td>Bail plea of Ryan school murder accused rejected</td>\n",
       "      <td>The Juvenile Justice Board on Friday rejected ...</td>\n",
       "    </tr>\n",
       "    <tr>\n",
       "      <th>20126</th>\n",
       "      <td>Ready for a possible trade war with US: Alibaba</td>\n",
       "      <td>Chinese e-commerce giant Alibaba's Vice Chairm...</td>\n",
       "    </tr>\n",
       "    <tr>\n",
       "      <th>3271</th>\n",
       "      <td>200 policemen go to Karnataka village to catch...</td>\n",
       "      <td>Around 200 police personnel went to Karnataka'...</td>\n",
       "    </tr>\n",
       "    <tr>\n",
       "      <th>95476</th>\n",
       "      <td>Release date of Salman Khan's film 'Tubelight'...</td>\n",
       "      <td>The Salman Khan starrer upcoming film 'Tubelig...</td>\n",
       "    </tr>\n",
       "    <tr>\n",
       "      <th>91787</th>\n",
       "      <td>Arijit took part in reality singing show befor...</td>\n",
       "      <td>Singer Arijit Singh participated in reality si...</td>\n",
       "    </tr>\n",
       "    <tr>\n",
       "      <th>38347</th>\n",
       "      <td>Afghanistan reduce India to 347/6 from 280/2 o...</td>\n",
       "      <td>Afghanistan reduced India to 347/6 from 280/2 ...</td>\n",
       "    </tr>\n",
       "    <tr>\n",
       "      <th>16780</th>\n",
       "      <td>SC summons Delhi BJP Chief for breaking lock o...</td>\n",
       "      <td>The Supreme Court issued a contempt notice to ...</td>\n",
       "    </tr>\n",
       "    <tr>\n",
       "      <th>2206</th>\n",
       "      <td>Ex-Goa Ranji cricketer Ghodge dies at 43 after...</td>\n",
       "      <td>Former Ranji cricketer Rajesh Ghodge, who repr...</td>\n",
       "    </tr>\n",
       "    <tr>\n",
       "      <th>97218</th>\n",
       "      <td>US girl sexually assaulted as 40 watched on Fa...</td>\n",
       "      <td>A 15-year-old girl in Chicago, US was sexually...</td>\n",
       "    </tr>\n",
       "  </tbody>\n",
       "</table>\n",
       "</div>"
      ],
      "text/plain": [
       "                                               headlines  \\\n",
       "62679  Windies' Chanderpaul signs new county deal at ...   \n",
       "56346   Bail plea of Ryan school murder accused rejected   \n",
       "20126    Ready for a possible trade war with US: Alibaba   \n",
       "3271   200 policemen go to Karnataka village to catch...   \n",
       "95476  Release date of Salman Khan's film 'Tubelight'...   \n",
       "91787  Arijit took part in reality singing show befor...   \n",
       "38347  Afghanistan reduce India to 347/6 from 280/2 o...   \n",
       "16780  SC summons Delhi BJP Chief for breaking lock o...   \n",
       "2206   Ex-Goa Ranji cricketer Ghodge dies at 43 after...   \n",
       "97218  US girl sexually assaulted as 40 watched on Fa...   \n",
       "\n",
       "                                                    text  \n",
       "62679  Former Windies' batsman Shivnarine Chanderpaul...  \n",
       "56346  The Juvenile Justice Board on Friday rejected ...  \n",
       "20126  Chinese e-commerce giant Alibaba's Vice Chairm...  \n",
       "3271   Around 200 police personnel went to Karnataka'...  \n",
       "95476  The Salman Khan starrer upcoming film 'Tubelig...  \n",
       "91787  Singer Arijit Singh participated in reality si...  \n",
       "38347  Afghanistan reduced India to 347/6 from 280/2 ...  \n",
       "16780  The Supreme Court issued a contempt notice to ...  \n",
       "2206   Former Ranji cricketer Rajesh Ghodge, who repr...  \n",
       "97218  A 15-year-old girl in Chicago, US was sexually...  "
      ]
     },
     "execution_count": 44,
     "metadata": {},
     "output_type": "execute_result"
    }
   ],
   "source": [
    "data.sample(10)"
   ]
  },
  {
   "cell_type": "markdown",
   "id": "driving-davis",
   "metadata": {},
   "source": [
    "- 'news_summary_more.csv' 데이터는 기사의 본문에 해당되는 text와 headlines이 각각 98401개씩 두 가지 열로 구성되어져 있음 "
   ]
  },
  {
   "cell_type": "markdown",
   "id": "proved-retrieval",
   "metadata": {},
   "source": [
    "### ■ Step2 데이터 전처리하기(추상적 요약)"
   ]
  },
  {
   "cell_type": "markdown",
   "id": "boolean-generation",
   "metadata": {},
   "source": [
    "**2-1 중복을 배제한 유일한 샘플의 수 확인**"
   ]
  },
  {
   "cell_type": "code",
   "execution_count": 45,
   "id": "following-portsmouth",
   "metadata": {},
   "outputs": [
    {
     "name": "stdout",
     "output_type": "stream",
     "text": [
      "headlines 열에서 중복을 배제한 유일한 샘플의 수 : 98280\n",
      "text 열에서 중복을 배제한 유일한 샘플의 수 : 98360\n"
     ]
    }
   ],
   "source": [
    "print('headlines 열에서 중복을 배제한 유일한 샘플의 수 :', data['headlines'].nunique())\n",
    "print('text 열에서 중복을 배제한 유일한 샘플의 수 :', data['text'].nunique())"
   ]
  },
  {
   "cell_type": "markdown",
   "id": "worldwide-chemical",
   "metadata": {},
   "source": [
    "**2-2 중복 샘플 제거**"
   ]
  },
  {
   "cell_type": "code",
   "execution_count": 46,
   "id": "express-heather",
   "metadata": {},
   "outputs": [
    {
     "name": "stdout",
     "output_type": "stream",
     "text": [
      "전체 샘플수 : 98360\n"
     ]
    }
   ],
   "source": [
    "# inplace=True 를 설정하면 DataFrame 타입 값을 return 하지 않고 data 내부를 직접적 수정\n",
    "data.drop_duplicates(subset = ['text'], inplace=True)\n",
    "print('전체 샘플수 :', (len(data)))"
   ]
  },
  {
   "cell_type": "markdown",
   "id": "introductory-ghost",
   "metadata": {},
   "source": [
    "**2-3 Null값 확인**"
   ]
  },
  {
   "cell_type": "code",
   "execution_count": 47,
   "id": "sweet-circular",
   "metadata": {},
   "outputs": [
    {
     "name": "stdout",
     "output_type": "stream",
     "text": [
      "headlines    0\n",
      "text         0\n",
      "dtype: int64\n"
     ]
    }
   ],
   "source": [
    "print(data.isnull().sum())"
   ]
  },
  {
   "cell_type": "markdown",
   "id": "norwegian-count",
   "metadata": {},
   "source": [
    "**2-4 텍스트 정규화 사전 구성**"
   ]
  },
  {
   "cell_type": "code",
   "execution_count": 48,
   "id": "regulation-spain",
   "metadata": {},
   "outputs": [
    {
     "name": "stdout",
     "output_type": "stream",
     "text": [
      "정규화 사전의 수:  120\n"
     ]
    }
   ],
   "source": [
    "contractions = {\"ain't\": \"is not\", \"aren't\": \"are not\",\"can't\": \"cannot\", \"'cause\": \"because\", \"could've\": \"could have\", \"couldn't\": \"could not\",\n",
    "                           \"didn't\": \"did not\",  \"doesn't\": \"does not\", \"don't\": \"do not\", \"hadn't\": \"had not\", \"hasn't\": \"has not\", \"haven't\": \"have not\",\n",
    "                           \"he'd\": \"he would\",\"he'll\": \"he will\", \"he's\": \"he is\", \"how'd\": \"how did\", \"how'd'y\": \"how do you\", \"how'll\": \"how will\", \"how's\": \"how is\",\n",
    "                           \"I'd\": \"I would\", \"I'd've\": \"I would have\", \"I'll\": \"I will\", \"I'll've\": \"I will have\",\"I'm\": \"I am\", \"I've\": \"I have\", \"i'd\": \"i would\",\n",
    "                           \"i'd've\": \"i would have\", \"i'll\": \"i will\",  \"i'll've\": \"i will have\",\"i'm\": \"i am\", \"i've\": \"i have\", \"isn't\": \"is not\", \"it'd\": \"it would\",\n",
    "                           \"it'd've\": \"it would have\", \"it'll\": \"it will\", \"it'll've\": \"it will have\",\"it's\": \"it is\", \"let's\": \"let us\", \"ma'am\": \"madam\",\n",
    "                           \"mayn't\": \"may not\", \"might've\": \"might have\",\"mightn't\": \"might not\",\"mightn't've\": \"might not have\", \"must've\": \"must have\",\n",
    "                           \"mustn't\": \"must not\", \"mustn't've\": \"must not have\", \"needn't\": \"need not\", \"needn't've\": \"need not have\",\"o'clock\": \"of the clock\",\n",
    "                           \"oughtn't\": \"ought not\", \"oughtn't've\": \"ought not have\", \"shan't\": \"shall not\", \"sha'n't\": \"shall not\", \"shan't've\": \"shall not have\",\n",
    "                           \"she'd\": \"she would\", \"she'd've\": \"she would have\", \"she'll\": \"she will\", \"she'll've\": \"she will have\", \"she's\": \"she is\",\n",
    "                           \"should've\": \"should have\", \"shouldn't\": \"should not\", \"shouldn't've\": \"should not have\", \"so've\": \"so have\",\"so's\": \"so as\",\n",
    "                           \"this's\": \"this is\",\"that'd\": \"that would\", \"that'd've\": \"that would have\", \"that's\": \"that is\", \"there'd\": \"there would\",\n",
    "                           \"there'd've\": \"there would have\", \"there's\": \"there is\", \"here's\": \"here is\",\"they'd\": \"they would\", \"they'd've\": \"they would have\",\n",
    "                           \"they'll\": \"they will\", \"they'll've\": \"they will have\", \"they're\": \"they are\", \"they've\": \"they have\", \"to've\": \"to have\",\n",
    "                           \"wasn't\": \"was not\", \"we'd\": \"we would\", \"we'd've\": \"we would have\", \"we'll\": \"we will\", \"we'll've\": \"we will have\", \"we're\": \"we are\",\n",
    "                           \"we've\": \"we have\", \"weren't\": \"were not\", \"what'll\": \"what will\", \"what'll've\": \"what will have\", \"what're\": \"what are\",\n",
    "                           \"what's\": \"what is\", \"what've\": \"what have\", \"when's\": \"when is\", \"when've\": \"when have\", \"where'd\": \"where did\", \"where's\": \"where is\",\n",
    "                           \"where've\": \"where have\", \"who'll\": \"who will\", \"who'll've\": \"who will have\", \"who's\": \"who is\", \"who've\": \"who have\",\n",
    "                           \"why's\": \"why is\", \"why've\": \"why have\", \"will've\": \"will have\", \"won't\": \"will not\", \"won't've\": \"will not have\",\n",
    "                           \"would've\": \"would have\", \"wouldn't\": \"would not\", \"wouldn't've\": \"would not have\", \"y'all\": \"you all\",\n",
    "                           \"y'all'd\": \"you all would\",\"y'all'd've\": \"you all would have\",\"y'all're\": \"you all are\",\"y'all've\": \"you all have\",\n",
    "                           \"you'd\": \"you would\", \"you'd've\": \"you would have\", \"you'll\": \"you will\", \"you'll've\": \"you will have\",\n",
    "                           \"you're\": \"you are\", \"you've\": \"you have\"}\n",
    "\n",
    "print(\"정규화 사전의 수: \", len(contractions))"
   ]
  },
  {
   "cell_type": "markdown",
   "id": "abroad-longitude",
   "metadata": {},
   "source": [
    "**2-5 NLTK 불용어 리스트 생성**"
   ]
  },
  {
   "cell_type": "code",
   "execution_count": 49,
   "id": "directed-nightmare",
   "metadata": {},
   "outputs": [
    {
     "name": "stdout",
     "output_type": "stream",
     "text": [
      "불용어 개수 : 179\n",
      "['i', 'me', 'my', 'myself', 'we', 'our', 'ours', 'ourselves', 'you', \"you're\", \"you've\", \"you'll\", \"you'd\", 'your', 'yours', 'yourself', 'yourselves', 'he', 'him', 'his', 'himself', 'she', \"she's\", 'her', 'hers', 'herself', 'it', \"it's\", 'its', 'itself', 'they', 'them', 'their', 'theirs', 'themselves', 'what', 'which', 'who', 'whom', 'this', 'that', \"that'll\", 'these', 'those', 'am', 'is', 'are', 'was', 'were', 'be', 'been', 'being', 'have', 'has', 'had', 'having', 'do', 'does', 'did', 'doing', 'a', 'an', 'the', 'and', 'but', 'if', 'or', 'because', 'as', 'until', 'while', 'of', 'at', 'by', 'for', 'with', 'about', 'against', 'between', 'into', 'through', 'during', 'before', 'after', 'above', 'below', 'to', 'from', 'up', 'down', 'in', 'out', 'on', 'off', 'over', 'under', 'again', 'further', 'then', 'once', 'here', 'there', 'when', 'where', 'why', 'how', 'all', 'any', 'both', 'each', 'few', 'more', 'most', 'other', 'some', 'such', 'no', 'nor', 'not', 'only', 'own', 'same', 'so', 'than', 'too', 'very', 's', 't', 'can', 'will', 'just', 'don', \"don't\", 'should', \"should've\", 'now', 'd', 'll', 'm', 'o', 're', 've', 'y', 'ain', 'aren', \"aren't\", 'couldn', \"couldn't\", 'didn', \"didn't\", 'doesn', \"doesn't\", 'hadn', \"hadn't\", 'hasn', \"hasn't\", 'haven', \"haven't\", 'isn', \"isn't\", 'ma', 'mightn', \"mightn't\", 'mustn', \"mustn't\", 'needn', \"needn't\", 'shan', \"shan't\", 'shouldn', \"shouldn't\", 'wasn', \"wasn't\", 'weren', \"weren't\", 'won', \"won't\", 'wouldn', \"wouldn't\"]\n"
     ]
    }
   ],
   "source": [
    "print('불용어 개수 :', len(stopwords.words('english') ))\n",
    "print(stopwords.words('english'))"
   ]
  },
  {
   "cell_type": "markdown",
   "id": "ambient-flexibility",
   "metadata": {},
   "source": [
    "**2-6 데이터 전처리 함수 생성**"
   ]
  },
  {
   "cell_type": "code",
   "execution_count": 50,
   "id": "decent-aluminum",
   "metadata": {},
   "outputs": [],
   "source": [
    "def preprocess_sentence(sentence, remove_stopwords=True):\n",
    "    sentence = sentence.lower() # 텍스트 소문자화\n",
    "    sentence = BeautifulSoup(sentence, \"lxml\").text # <br />, <a href = ...> 등의 html 태그 제거\n",
    "    sentence = re.sub(r'\\([^)]*\\)', '', sentence) # 괄호로 닫힌 문자열 (...) 제거 Ex) my husband (and myself!) for => my husband for\n",
    "    sentence = re.sub('\"','', sentence) # 쌍따옴표 \" 제거\n",
    "    sentence = ' '.join([contractions[t] if t in contractions else t for t in sentence.split(\" \")]) # 약어 정규화\n",
    "    sentence = re.sub(r\"'s\\b\",\"\", sentence) # 소유격 제거. Ex) roland's -> roland\n",
    "    sentence = re.sub(\"[^a-zA-Z]\", \" \", sentence) # 영어 외 문자(숫자, 특수문자 등) 공백으로 변환\n",
    "    sentence = re.sub('[m]{2,}', 'mm', sentence) # m이 3개 이상이면 2개로 변경. Ex) ummmmmmm yeah -> umm yeah\n",
    "    \n",
    "    # 불용어 제거 (Text)\n",
    "    if remove_stopwords:\n",
    "        tokens = ' '.join(word for word in sentence.split() if not word in stopwords.words('english') if len(word) > 1)\n",
    "    # 불용어 미제거 (Summary)\n",
    "    else:\n",
    "        tokens = ' '.join(word for word in sentence.split() if len(word) > 1)\n",
    "    return tokens"
   ]
  },
  {
   "cell_type": "markdown",
   "id": "extreme-drain",
   "metadata": {},
   "source": [
    "**2-7 멀티프로세싱 데이터 전처리 함수 생성**"
   ]
  },
  {
   "cell_type": "code",
   "execution_count": 51,
   "id": "phantom-simon",
   "metadata": {},
   "outputs": [],
   "source": [
    "import multiprocessing as mp   # 멀티 프로세싱으로 전처리 속도를 획기적으로 줄여봅시다\n",
    "from multiprocessing import Pool\n",
    "import numpy as np\n",
    "import time\n",
    "from functools import partial  # map을 할 때 함수에 여러 인자를 넣어줄 수 있도록 합니다\n",
    "\n",
    "start = time.time()\n",
    "\n",
    "# num_cores 만큼 쪼개진 데이터를 전처리하여 반환합니다\n",
    "def appendTexts(sentences, remove_stopwords):\n",
    "  texts = []\n",
    "  for s in sentences:\n",
    "    texts += preprocess_sentence(s, remove_stopwords),\n",
    "  return texts\n",
    "\n",
    "def preprocess_data(data, remove_stopwords=True):\n",
    "  start_time = time.time()\n",
    "  num_cores = mp.cpu_count()  # 컴퓨터의 코어 수를 구합니다\n",
    "\n",
    "  text_data_split = np.array_split(data, num_cores)  # 코어 수만큼 데이터를 배분하여 병렬적으로 처리할 수 있게 합니다\n",
    "  pool = Pool(num_cores)\n",
    "\n",
    "  processed_data = np.concatenate(pool.map(partial(appendTexts, remove_stopwords=remove_stopwords), text_data_split))  # 각자 작업한 데이터를 하나로 합쳐줍니다\n",
    "  pool.close()\n",
    "  pool.join()\n",
    "  print(time.time() - start_time, \" seconds\")\n",
    "  return processed_data"
   ]
  },
  {
   "cell_type": "markdown",
   "id": "arabic-enhancement",
   "metadata": {},
   "source": [
    "**2-8 멀티프로세싱 데이터 전처리 실시**"
   ]
  },
  {
   "cell_type": "code",
   "execution_count": 52,
   "id": "governing-input",
   "metadata": {},
   "outputs": [
    {
     "name": "stdout",
     "output_type": "stream",
     "text": [
      "12.732669115066528  seconds\n",
      "['upgrad learner switches to career in ml al with salary hike'\n",
      " 'delhi techie wins free food from swiggy for one year on cred'\n",
      " 'new zealand end rohit sharma led india match winning streak' ...\n",
      " 'the matrix film to get reboot reports'\n",
      " 'snoop dogg aims gun at clown dressed as trump in new video'\n",
      " 'madhesi morcha withdraws support to nepalese government']\n",
      "429.9837040901184  seconds\n",
      "['saurav kant alumnus upgrad iiit pg program machine learning artificial intelligence sr systems engineer infosys almost years work experience program upgrad degree career support helped transition data scientist tech mahindra salary hike upgrad online power learning powered lakh careers'\n",
      " 'kunal shah credit card bill payment platform cred gave users chance win free food swiggy one year pranav kaushik delhi techie bagged reward spending cred coins users get one cred coin per rupee bill paid used avail rewards brands like ixigo bookmyshow ubereats cult fit'\n",
      " 'new zealand defeated india wickets fourth odi hamilton thursday win first match five match odi series india lost international match rohit sharma captaincy consecutive victories dating back march match witnessed india getting seventh lowest total odi cricket history'\n",
      " ...\n",
      " 'according reports new version science fiction film matrix development michael jordan reportedly play lead role film screenwriter zak penn talks write script film reports added actor keanu reeves starred original film followed two sequels'\n",
      " 'new music video shows rapper snoop dogg aiming toy gun clown character parodying us president donald trump video also shows tv airing news conference headline ronald klump wants deport doggs airing live clown house video remixed version song lavender'\n",
      " 'madhesi morcha alliance seven political parties withdrawn support pm pushpa kamal dahal led nepal government failed meet seven day ultimatum fulfil demands including endorsement revised constitution amendment bill morcha seats parliament despite withdrawal support immediate threat government']\n"
     ]
    }
   ],
   "source": [
    "clean_headlines = preprocess_data(data['headlines'], remove_stopwords=False)\n",
    "print(clean_headlines)\n",
    "\n",
    "clean_text = preprocess_data(data['text'])\n",
    "print(clean_text)"
   ]
  },
  {
   "cell_type": "markdown",
   "id": "grand-appointment",
   "metadata": {},
   "source": [
    "**2-9 데이터 전처리 후 빈(empty) 샘플이 생겼는지 확인하고 Null값으로 변환**"
   ]
  },
  {
   "cell_type": "code",
   "execution_count": 53,
   "id": "documented-burst",
   "metadata": {},
   "outputs": [],
   "source": [
    "data['headlines'] = clean_headlines\n",
    "data['text'] = clean_text\n",
    "\n",
    "# 빈 값을 Null 값으로 변환\n",
    "data.replace('', np.nan, inplace=True)"
   ]
  },
  {
   "cell_type": "markdown",
   "id": "public-testimony",
   "metadata": {},
   "source": [
    "**2-10 Null값 유무 다시 확인**"
   ]
  },
  {
   "cell_type": "code",
   "execution_count": 54,
   "id": "legislative-proposition",
   "metadata": {},
   "outputs": [
    {
     "data": {
      "text/plain": [
       "headlines    0\n",
       "text         0\n",
       "dtype: int64"
      ]
     },
     "execution_count": 54,
     "metadata": {},
     "output_type": "execute_result"
    }
   ],
   "source": [
    "data.isnull().sum()"
   ]
  },
  {
   "cell_type": "markdown",
   "id": "responsible-isolation",
   "metadata": {},
   "source": [
    "**2-11 샘플의 최대 길이를 정하기 위해 데이터 길이 분포 시각화**"
   ]
  },
  {
   "cell_type": "code",
   "execution_count": 55,
   "id": "cellular-cooler",
   "metadata": {},
   "outputs": [
    {
     "name": "stdout",
     "output_type": "stream",
     "text": [
      "headlines의 최소 길이 : 1\n",
      "headlines의 최대 길이 : 16\n",
      "headlines의 평균 길이 : 9.299532330215534\n",
      "text의 최소 길이 : 1\n",
      "text의 최대 길이 : 60\n",
      "text의 평균 길이 : 35.09968483123221\n"
     ]
    },
    {
     "data": {
      "image/png": "[encoded data removed]",
      "text/plain": [
       "<Figure size 432x288 with 2 Axes>"
      ]
     },
     "metadata": {
      "needs_background": "light"
     },
     "output_type": "display_data"
    },
    {
     "data": {
      "image/png": "[encoded data removed]",
      "text/plain": [
       "<Figure size 432x288 with 1 Axes>"
      ]
     },
     "metadata": {
      "needs_background": "light"
     },
     "output_type": "display_data"
    },
    {
     "data": {
      "image/png": "[encoded data removed]",
      "text/plain": [
       "<Figure size 432x288 with 1 Axes>"
      ]
     },
     "metadata": {
      "needs_background": "light"
     },
     "output_type": "display_data"
    }
   ],
   "source": [
    "# 길이 분포 출력\n",
    "import matplotlib.pyplot as plt\n",
    "\n",
    "headlines_len = [len(s.split()) for s in data['headlines']]\n",
    "text_len = [len(s.split()) for s in data['text']]\n",
    "\n",
    "print('headlines의 최소 길이 : {}'.format(np.min(headlines_len)))\n",
    "print('headlines의 최대 길이 : {}'.format(np.max(headlines_len)))\n",
    "print('headlines의 평균 길이 : {}'.format(np.mean(headlines_len)))\n",
    "print('text의 최소 길이 : {}'.format(np.min(text_len)))\n",
    "print('text의 최대 길이 : {}'.format(np.max(text_len)))\n",
    "print('text의 평균 길이 : {}'.format(np.mean(text_len)))\n",
    "\n",
    "plt.subplot(1,2,1)\n",
    "plt.boxplot(headlines_len)\n",
    "plt.title('headlines')\n",
    "plt.subplot(1,2,2)\n",
    "plt.boxplot(text_len)\n",
    "plt.title('text')\n",
    "plt.tight_layout()\n",
    "plt.show()\n",
    "\n",
    "plt.title('headlines')\n",
    "plt.hist(headlines_len, bins = 40)\n",
    "plt.xlabel('length of samples')\n",
    "plt.ylabel('number of samples')\n",
    "plt.show()\n",
    "\n",
    "plt.title('text')\n",
    "plt.hist(text_len, bins = 40)\n",
    "plt.xlabel('length of samples')\n",
    "plt.ylabel('number of samples')\n",
    "plt.show()"
   ]
  },
  {
   "cell_type": "markdown",
   "id": "appreciated-injection",
   "metadata": {},
   "source": [
    "- 많은 양의 데이터를 다룰 때는 시각화하여 보는 것이 좋음\n",
    "- headlines는 최소 길이가 1, 최대길이가 16, 평균 길이가 9임\n",
    "- text는 최소 길이가 1, 최대 길이가 60, 평균 길이가 35임"
   ]
  },
  {
   "cell_type": "markdown",
   "id": "identified-velvet",
   "metadata": {},
   "source": [
    "**2-12 샘플길이 임의 설정**"
   ]
  },
  {
   "cell_type": "code",
   "execution_count": 59,
   "id": "weird-development",
   "metadata": {},
   "outputs": [
    {
     "name": "stdout",
     "output_type": "stream",
     "text": [
      "=3\n"
     ]
    }
   ],
   "source": [
    "headlines_max_len = 10\n",
    "text_max_len = 40\n",
    "print('=3')"
   ]
  },
  {
   "cell_type": "markdown",
   "id": "cross-treaty",
   "metadata": {},
   "source": [
    "**2-13 훈련 데이터와 샘플의 길이를 입력하면, 데이터의 몇 %가 해당하는지 계산하는 함수 생성**"
   ]
  },
  {
   "cell_type": "code",
   "execution_count": 60,
   "id": "large-flower",
   "metadata": {},
   "outputs": [
    {
     "name": "stdout",
     "output_type": "stream",
     "text": [
      "=3\n"
     ]
    }
   ],
   "source": [
    "def below_threshold_len(max_len, nested_list):\n",
    "  cnt = 0\n",
    "  for s in nested_list:\n",
    "    if(len(s.split()) <= max_len):\n",
    "        cnt = cnt + 1\n",
    "  print('전체 샘플 중 길이가 %s 이하인 샘플의 비율: %s'%(max_len, (cnt / len(nested_list))))\n",
    "print('=3')"
   ]
  },
  {
   "cell_type": "markdown",
   "id": "possible-petroleum",
   "metadata": {},
   "source": [
    "**2-14 임의로 설정한 샘플의 길이가 몇 %의 샘플까지 포함하는지 확인**"
   ]
  },
  {
   "cell_type": "code",
   "execution_count": 61,
   "id": "serial-gibraltar",
   "metadata": {},
   "outputs": [
    {
     "name": "stdout",
     "output_type": "stream",
     "text": [
      "전체 샘플 중 길이가 10 이하인 샘플의 비율: 0.8162972753151687\n",
      "전체 샘플 중 길이가 40 이하인 샘플의 비율: 0.9238714924766165\n"
     ]
    }
   ],
   "source": [
    "below_threshold_len(headlines_max_len, data['headlines'])\n",
    "below_threshold_len(text_max_len,  data['text'])"
   ]
  },
  {
   "cell_type": "markdown",
   "id": "hired-craps",
   "metadata": {},
   "source": [
    "**2-15 정해진 길이보다 긴 샘플 제외**"
   ]
  },
  {
   "cell_type": "code",
   "execution_count": 62,
   "id": "overhead-female",
   "metadata": {},
   "outputs": [
    {
     "name": "stdout",
     "output_type": "stream",
     "text": [
      "전체 샘플수 : 74102\n"
     ]
    }
   ],
   "source": [
    "data = data[data['headlines'].apply(lambda x: len(x.split()) <= headlines_max_len)]\n",
    "data = data[data['text'].apply(lambda x: len(x.split()) <= text_max_len)]\n",
    "print('전체 샘플수 :', (len(data)))"
   ]
  },
  {
   "cell_type": "markdown",
   "id": "cloudy-synthesis",
   "metadata": {},
   "source": [
    "**2-16 시작 토큰과 종료 토큰 추가하기**"
   ]
  },
  {
   "cell_type": "code",
   "execution_count": 63,
   "id": "buried-round",
   "metadata": {},
   "outputs": [
    {
     "data": {
      "text/html": [
       "<div>\n",
       "<style scoped>\n",
       "    .dataframe tbody tr th:only-of-type {\n",
       "        vertical-align: middle;\n",
       "    }\n",
       "\n",
       "    .dataframe tbody tr th {\n",
       "        vertical-align: top;\n",
       "    }\n",
       "\n",
       "    .dataframe thead th {\n",
       "        text-align: right;\n",
       "    }\n",
       "</style>\n",
       "<table border=\"1\" class=\"dataframe\">\n",
       "  <thead>\n",
       "    <tr style=\"text-align: right;\">\n",
       "      <th></th>\n",
       "      <th>headlines</th>\n",
       "      <th>text</th>\n",
       "      <th>decoder_input</th>\n",
       "      <th>decoder_target</th>\n",
       "    </tr>\n",
       "  </thead>\n",
       "  <tbody>\n",
       "    <tr>\n",
       "      <th>2</th>\n",
       "      <td>new zealand end rohit sharma led india match w...</td>\n",
       "      <td>new zealand defeated india wickets fourth odi ...</td>\n",
       "      <td>sostoken new zealand end rohit sharma led indi...</td>\n",
       "      <td>new zealand end rohit sharma led india match w...</td>\n",
       "    </tr>\n",
       "    <tr>\n",
       "      <th>3</th>\n",
       "      <td>aegon life iterm insurance plan helps customer...</td>\n",
       "      <td>aegon life iterm insurance plan customers enjo...</td>\n",
       "      <td>sostoken aegon life iterm insurance plan helps...</td>\n",
       "      <td>aegon life iterm insurance plan helps customer...</td>\n",
       "    </tr>\n",
       "    <tr>\n",
       "      <th>5</th>\n",
       "      <td>rahat fateh ali khan denies getting notice for...</td>\n",
       "      <td>pakistani singer rahat fateh ali khan denied r...</td>\n",
       "      <td>sostoken rahat fateh ali khan denies getting n...</td>\n",
       "      <td>rahat fateh ali khan denies getting notice for...</td>\n",
       "    </tr>\n",
       "    <tr>\n",
       "      <th>9</th>\n",
       "      <td>cong wins ramgarh bypoll in rajasthan takes to...</td>\n",
       "      <td>congress candidate shafia zubair ramgarh assem...</td>\n",
       "      <td>sostoken cong wins ramgarh bypoll in rajasthan...</td>\n",
       "      <td>cong wins ramgarh bypoll in rajasthan takes to...</td>\n",
       "    </tr>\n",
       "    <tr>\n",
       "      <th>10</th>\n",
       "      <td>up cousins fed human excreta for friendship wi...</td>\n",
       "      <td>two minor cousins uttar pradesh gorakhpur alle...</td>\n",
       "      <td>sostoken up cousins fed human excreta for frie...</td>\n",
       "      <td>up cousins fed human excreta for friendship wi...</td>\n",
       "    </tr>\n",
       "  </tbody>\n",
       "</table>\n",
       "</div>"
      ],
      "text/plain": [
       "                                            headlines  \\\n",
       "2   new zealand end rohit sharma led india match w...   \n",
       "3   aegon life iterm insurance plan helps customer...   \n",
       "5   rahat fateh ali khan denies getting notice for...   \n",
       "9   cong wins ramgarh bypoll in rajasthan takes to...   \n",
       "10  up cousins fed human excreta for friendship wi...   \n",
       "\n",
       "                                                 text  \\\n",
       "2   new zealand defeated india wickets fourth odi ...   \n",
       "3   aegon life iterm insurance plan customers enjo...   \n",
       "5   pakistani singer rahat fateh ali khan denied r...   \n",
       "9   congress candidate shafia zubair ramgarh assem...   \n",
       "10  two minor cousins uttar pradesh gorakhpur alle...   \n",
       "\n",
       "                                        decoder_input  \\\n",
       "2   sostoken new zealand end rohit sharma led indi...   \n",
       "3   sostoken aegon life iterm insurance plan helps...   \n",
       "5   sostoken rahat fateh ali khan denies getting n...   \n",
       "9   sostoken cong wins ramgarh bypoll in rajasthan...   \n",
       "10  sostoken up cousins fed human excreta for frie...   \n",
       "\n",
       "                                       decoder_target  \n",
       "2   new zealand end rohit sharma led india match w...  \n",
       "3   aegon life iterm insurance plan helps customer...  \n",
       "5   rahat fateh ali khan denies getting notice for...  \n",
       "9   cong wins ramgarh bypoll in rajasthan takes to...  \n",
       "10  up cousins fed human excreta for friendship wi...  "
      ]
     },
     "execution_count": 63,
     "metadata": {},
     "output_type": "execute_result"
    }
   ],
   "source": [
    "# 요약 데이터에는 시작 토큰과 종료 토큰을 추가\n",
    "data['decoder_input'] = data['headlines'].apply(lambda x : 'sostoken '+ x)\n",
    "data['decoder_target'] = data['headlines'].apply(lambda x : x + ' eostoken')\n",
    "data.head()"
   ]
  },
  {
   "cell_type": "markdown",
   "id": "informative-scenario",
   "metadata": {},
   "source": [
    "**2-17 인코더 입력, 디코더 입력, 디코더 레이블 Numpy 타입으로 저장**"
   ]
  },
  {
   "cell_type": "code",
   "execution_count": 64,
   "id": "political-customer",
   "metadata": {},
   "outputs": [
    {
     "name": "stdout",
     "output_type": "stream",
     "text": [
      "=3\n"
     ]
    }
   ],
   "source": [
    "encoder_input = np.array(data['text']) # 인코더의 입력\n",
    "decoder_input = np.array(data['decoder_input']) # 디코더의 입력\n",
    "decoder_target = np.array(data['decoder_target']) # 디코더의 레이블\n",
    "print('=3')"
   ]
  },
  {
   "cell_type": "markdown",
   "id": "vocational-barbados",
   "metadata": {},
   "source": [
    "**2-18 훈련 데이터와 테스트 데이터 분리**"
   ]
  },
  {
   "cell_type": "code",
   "execution_count": 65,
   "id": "major-democracy",
   "metadata": {},
   "outputs": [
    {
     "name": "stdout",
     "output_type": "stream",
     "text": [
      "훈련 데이터의 개수 : 59282\n",
      "훈련 레이블의 개수 : 59282\n",
      "테스트 데이터의 개수 : 14820\n",
      "테스트 레이블의 개수 : 14820\n"
     ]
    }
   ],
   "source": [
    "# encoder_input과 크기, 형태가 같은 순서가 섞인 정수 시퀀스 생성\n",
    "indices = np.arange(encoder_input.shape[0])\n",
    "np.random.shuffle(indices)\n",
    "\n",
    "# 정수 시퀀스로 데이터 샘플 순서 정의하여 샘플 섞기\n",
    "encoder_input = encoder_input[indices]\n",
    "decoder_input = decoder_input[indices]\n",
    "decoder_target = decoder_target[indices]\n",
    "\n",
    "# 전체 데이터 중 20%만큼을 테스트 데이터 크기로 정의\n",
    "n_of_val = int(len(encoder_input)*0.2)\n",
    "\n",
    "# 테스트 데이터 개수를 이용해서 전체 데이터를 훈련 데이터와, 테스트 데이터로 양분\n",
    "encoder_input_train = encoder_input[:-n_of_val]\n",
    "decoder_input_train = decoder_input[:-n_of_val]\n",
    "decoder_target_train = decoder_target[:-n_of_val]\n",
    "\n",
    "encoder_input_test = encoder_input[-n_of_val:]\n",
    "decoder_input_test = decoder_input[-n_of_val:]\n",
    "decoder_target_test = decoder_target[-n_of_val:]\n",
    "\n",
    "print('훈련 데이터의 개수 :', len(encoder_input_train))\n",
    "print('훈련 레이블의 개수 :', len(decoder_input_train))\n",
    "print('테스트 데이터의 개수 :', len(encoder_input_test))\n",
    "print('테스트 레이블의 개수 :', len(decoder_input_test))"
   ]
  },
  {
   "cell_type": "markdown",
   "id": "empirical-condition",
   "metadata": {},
   "source": [
    "**2-19 encoder_input_train 단어 집합 만들기(text 데이터)**"
   ]
  },
  {
   "cell_type": "code",
   "execution_count": 66,
   "id": "higher-victor",
   "metadata": {},
   "outputs": [
    {
     "name": "stdout",
     "output_type": "stream",
     "text": [
      "=3\n"
     ]
    }
   ],
   "source": [
    "src_tokenizer = Tokenizer() # 토크나이저 정의\n",
    "src_tokenizer.fit_on_texts(encoder_input_train) # 입력된 데이터로부터 단어 집합 생성\n",
    "print('=3')"
   ]
  },
  {
   "cell_type": "markdown",
   "id": "obvious-klein",
   "metadata": {},
   "source": [
    "**2-20 단어집합 통계정보 확인**"
   ]
  },
  {
   "cell_type": "code",
   "execution_count": 67,
   "id": "environmental-clock",
   "metadata": {},
   "outputs": [
    {
     "name": "stdout",
     "output_type": "stream",
     "text": [
      "단어 집합(vocabulary)의 크기 : 61482\n",
      "등장 빈도가 6번 이하인 희귀 단어의 수: 42167\n",
      "단어 집합에서 희귀 단어를 제외시킬 경우의 단어 집합의 크기 19315\n",
      "단어 집합에서 희귀 단어의 비율: 68.58430109625581\n",
      "전체 등장 빈도에서 희귀 단어 등장 빈도 비율: 4.187118330480672\n"
     ]
    }
   ],
   "source": [
    "threshold = 7 # 등장 횟수 7회 미만 \n",
    "total_cnt = len(src_tokenizer.word_index) # 단어의 수\n",
    "rare_cnt = 0 # 등장 빈도수가 threshold보다 작은 단어의 개수를 카운트\n",
    "total_freq = 0 # 훈련 데이터의 전체 단어 빈도수 총 합\n",
    "rare_freq = 0 # 등장 빈도수가 threshold보다 작은 단어의 등장 빈도수의 총 합\n",
    "\n",
    "# 단어와 빈도수의 쌍(pair)을 key와 value로 받는다.\n",
    "for key, value in src_tokenizer.word_counts.items():\n",
    "    total_freq = total_freq + value\n",
    "\n",
    "    # 단어의 등장 빈도수가 threshold보다 작으면\n",
    "    if(value < threshold):\n",
    "        rare_cnt = rare_cnt + 1\n",
    "        rare_freq = rare_freq + value\n",
    "\n",
    "print('단어 집합(vocabulary)의 크기 :', total_cnt)\n",
    "print('등장 빈도가 %s번 이하인 희귀 단어의 수: %s'%(threshold - 1, rare_cnt))\n",
    "print('단어 집합에서 희귀 단어를 제외시킬 경우의 단어 집합의 크기 %s'%(total_cnt - rare_cnt))\n",
    "print(\"단어 집합에서 희귀 단어의 비율:\", (rare_cnt / total_cnt)*100)\n",
    "print(\"전체 등장 빈도에서 희귀 단어 등장 빈도 비율:\", (rare_freq / total_freq)*100)"
   ]
  },
  {
   "cell_type": "markdown",
   "id": "common-prison",
   "metadata": {},
   "source": [
    "- `encoder_input_train`에는 6만1천여개의 단어가 있음\n",
    "- 등장 빈도가 6회 이하인 단어들은 단어 집합에서 68%를 차지하지만, 실제 훈련 데이터에 등장하는 빈도는 4.1%로 작음\n",
    "- 따라서 등장 빈도가 6회 이하인 단어들은 정수 인코딩 과정에서 빼고, 훈련 데이터에서 제거\n",
    "- 단어 집합의 크기를 19,000개로 제한"
   ]
  },
  {
   "cell_type": "markdown",
   "id": "pediatric-thread",
   "metadata": {},
   "source": [
    "**2-21 단어 집함 크기 제한 및 정수 인코딩**"
   ]
  },
  {
   "cell_type": "code",
   "execution_count": 68,
   "id": "endless-income",
   "metadata": {},
   "outputs": [
    {
     "name": "stdout",
     "output_type": "stream",
     "text": [
      "[[120, 15, 5128, 225, 287, 790, 7396, 10288, 530, 1563, 8453, 2635, 27, 147, 60, 147, 987, 116, 691, 225, 106, 4502, 4259, 1074, 86, 726, 116, 154, 7, 413, 147, 746, 673], [56, 609, 1658, 1452, 9035, 391, 3066, 40, 100, 1060, 1031, 2962, 988, 13146, 74, 1261, 237, 1, 9036, 642, 1261, 219, 925, 3816, 4345, 560, 1452, 4, 10641, 182, 1902, 12184, 875], [38, 677, 2750, 420, 198, 65, 9486, 51, 48, 2526, 734, 3164, 6139, 1746, 614, 3211, 39, 5961, 4384, 178, 556, 7, 305, 38, 1, 39, 5961, 1785, 178, 223, 475]]\n"
     ]
    }
   ],
   "source": [
    "# 단어 집합의 크기를 20,000으로 제한\n",
    "src_vocab = 19000\n",
    "src_tokenizer = Tokenizer(num_words=src_vocab) \n",
    "src_tokenizer.fit_on_texts(encoder_input_train) # 단어 집합 재생성\n",
    "\n",
    "# 텍스트 시퀀스를 정수 시퀀스로 변환\n",
    "encoder_input_train = src_tokenizer.texts_to_sequences(encoder_input_train) \n",
    "encoder_input_test = src_tokenizer.texts_to_sequences(encoder_input_test)\n",
    "\n",
    "# 잘 진행되었는지 샘플 출력\n",
    "print(encoder_input_train[:3])"
   ]
  },
  {
   "cell_type": "markdown",
   "id": "radical-madness",
   "metadata": {},
   "source": [
    "**2-22 decoder_input_train 단어 집합 만들기(headlines 데이터)**"
   ]
  },
  {
   "cell_type": "code",
   "execution_count": 69,
   "id": "accessible-orientation",
   "metadata": {},
   "outputs": [
    {
     "name": "stdout",
     "output_type": "stream",
     "text": [
      "=3\n"
     ]
    }
   ],
   "source": [
    "tar_tokenizer = Tokenizer()\n",
    "tar_tokenizer.fit_on_texts(decoder_input_train)\n",
    "print('=3')"
   ]
  },
  {
   "cell_type": "markdown",
   "id": "better-extent",
   "metadata": {},
   "source": [
    "**2-23 단어집합 통계정보 확인**"
   ]
  },
  {
   "cell_type": "code",
   "execution_count": 70,
   "id": "fifteen-county",
   "metadata": {},
   "outputs": [
    {
     "name": "stdout",
     "output_type": "stream",
     "text": [
      "단어 집합(vocabulary)의 크기 : 27216\n",
      "등장 빈도가 5번 이하인 희귀 단어의 수: 18183\n",
      "단어 집합에서 희귀 단어를 제외시킬 경우의 단어 집합의 크기 9033\n",
      "단어 집합에서 희귀 단어의 비율: 66.80996472663139\n",
      "전체 등장 빈도에서 희귀 단어 등장 빈도 비율: 5.973030337867169\n"
     ]
    }
   ],
   "source": [
    "threshold = 6 # 등장횟수 6회 미만\n",
    "total_cnt = len(tar_tokenizer.word_index) # 단어의 수\n",
    "rare_cnt = 0 # 등장 빈도수가 threshold보다 작은 단어의 개수를 카운트\n",
    "total_freq = 0 # 훈련 데이터의 전체 단어 빈도수 총 합\n",
    "rare_freq = 0 # 등장 빈도수가 threshold보다 작은 단어의 등장 빈도수의 총 합\n",
    "\n",
    "# 단어와 빈도수의 쌍(pair)을 key와 value로 받는다.\n",
    "for key, value in tar_tokenizer.word_counts.items():\n",
    "    total_freq = total_freq + value\n",
    "\n",
    "    # 단어의 등장 빈도수가 threshold보다 작으면\n",
    "    if(value < threshold):\n",
    "        rare_cnt = rare_cnt + 1\n",
    "        rare_freq = rare_freq + value\n",
    "\n",
    "print('단어 집합(vocabulary)의 크기 :', total_cnt)\n",
    "print('등장 빈도가 %s번 이하인 희귀 단어의 수: %s'%(threshold - 1, rare_cnt))\n",
    "print('단어 집합에서 희귀 단어를 제외시킬 경우의 단어 집합의 크기 %s'%(total_cnt - rare_cnt))\n",
    "print(\"단어 집합에서 희귀 단어의 비율:\", (rare_cnt / total_cnt)*100)\n",
    "print(\"전체 등장 빈도에서 희귀 단어 등장 빈도 비율:\", (rare_freq / total_freq)*100)"
   ]
  },
  {
   "cell_type": "markdown",
   "id": "hindu-courtesy",
   "metadata": {},
   "source": [
    "- 등장 빈도가 5회 이하인 단어들은 단어 집합에서 66%를 차지하고 있지만, 실제 훈련 데이터에서 등장 빈도는 5.9%로 낮음\n",
    "- 어림잡아 9000을 단어 집합의 크기로 제한"
   ]
  },
  {
   "cell_type": "markdown",
   "id": "statistical-emperor",
   "metadata": {},
   "source": [
    "**2-24 단어 집함 크기 제한 및 정수 인코딩**"
   ]
  },
  {
   "cell_type": "code",
   "execution_count": 71,
   "id": "distinct-crisis",
   "metadata": {},
   "outputs": [
    {
     "name": "stdout",
     "output_type": "stream",
     "text": [
      "input\n",
      "input  [[1, 294, 170, 2401, 10, 106, 534, 13, 23, 270], [1, 167, 16, 6986, 3, 544, 70, 251, 927, 2598, 644], [1, 30, 20, 2599, 226, 10, 106, 850, 3, 2251, 4302], [1, 20, 61, 5, 3120, 539, 12, 1227, 3, 42], [1, 53, 1818, 6476, 2054, 264, 48, 2812, 2455, 731]]\n",
      "target\n",
      "decoder  [[294, 170, 2401, 10, 106, 534, 13, 23, 270, 2], [167, 16, 6986, 3, 544, 70, 251, 927, 2598, 644, 2], [30, 20, 2599, 226, 10, 106, 850, 3, 2251, 4302, 2], [20, 61, 5, 3120, 539, 12, 1227, 3, 42, 2], [53, 1818, 6476, 2054, 264, 48, 2812, 2455, 731, 2]]\n"
     ]
    }
   ],
   "source": [
    "# 단어 집합의 크기를 9,000으로 제한\n",
    "tar_vocab = 9000\n",
    "tar_tokenizer = Tokenizer(num_words=tar_vocab) \n",
    "tar_tokenizer.fit_on_texts(decoder_input_train)\n",
    "tar_tokenizer.fit_on_texts(decoder_target_train)\n",
    "\n",
    "# 텍스트 시퀀스를 정수 시퀀스로 변환\n",
    "decoder_input_train = tar_tokenizer.texts_to_sequences(decoder_input_train) \n",
    "decoder_target_train = tar_tokenizer.texts_to_sequences(decoder_target_train)\n",
    "decoder_input_test = tar_tokenizer.texts_to_sequences(decoder_input_test)\n",
    "decoder_target_test = tar_tokenizer.texts_to_sequences(decoder_target_test)\n",
    "\n",
    "# 잘 변환되었는지 확인\n",
    "print('input')\n",
    "print('input ',decoder_input_train[:5])\n",
    "print('target')\n",
    "print('decoder ',decoder_target_train[:5])"
   ]
  },
  {
   "cell_type": "markdown",
   "id": "recognized-friday",
   "metadata": {},
   "source": [
    "**2-25 hedlines에서 길이가 0이 된 샘플들 제거**"
   ]
  },
  {
   "cell_type": "code",
   "execution_count": 72,
   "id": "first-poland",
   "metadata": {},
   "outputs": [
    {
     "name": "stdout",
     "output_type": "stream",
     "text": [
      "삭제할 훈련 데이터의 개수 : 0\n",
      "삭제할 테스트 데이터의 개수 : 1\n",
      "훈련 데이터의 개수 : 59282\n",
      "훈련 레이블의 개수 : 59282\n",
      "테스트 데이터의 개수 : 14819\n",
      "테스트 레이블의 개수 : 14819\n"
     ]
    },
    {
     "name": "stderr",
     "output_type": "stream",
     "text": [
      "/opt/conda/lib/python3.7/site-packages/numpy/core/_asarray.py:83: VisibleDeprecationWarning: Creating an ndarray from ragged nested sequences (which is a list-or-tuple of lists-or-tuples-or ndarrays with different lengths or shapes) is deprecated. If you meant to do this, you must specify 'dtype=object' when creating the ndarray\n",
      "  return array(a, dtype, copy=False, order=order)\n"
     ]
    }
   ],
   "source": [
    "drop_train = [index for index, sentence in enumerate(decoder_input_train) if len(sentence) == 1]\n",
    "drop_test = [index for index, sentence in enumerate(decoder_input_test) if len(sentence) == 1]\n",
    "\n",
    "print('삭제할 훈련 데이터의 개수 :', len(drop_train))\n",
    "print('삭제할 테스트 데이터의 개수 :', len(drop_test))\n",
    "\n",
    "encoder_input_train = np.delete(encoder_input_train, drop_train, axis=0)\n",
    "decoder_input_train = np.delete(decoder_input_train, drop_train, axis=0)\n",
    "decoder_target_train = np.delete(decoder_target_train, drop_train, axis=0)\n",
    "\n",
    "encoder_input_test = np.delete(encoder_input_test, drop_test, axis=0)\n",
    "decoder_input_test = np.delete(decoder_input_test, drop_test, axis=0)\n",
    "decoder_target_test = np.delete(decoder_target_test, drop_test, axis=0)\n",
    "\n",
    "print('훈련 데이터의 개수 :', len(encoder_input_train))\n",
    "print('훈련 레이블의 개수 :', len(decoder_input_train))\n",
    "print('테스트 데이터의 개수 :', len(encoder_input_test))\n",
    "print('테스트 레이블의 개수 :', len(decoder_input_test))"
   ]
  },
  {
   "cell_type": "markdown",
   "id": "grateful-pearl",
   "metadata": {},
   "source": [
    "**2-26 정해둔 최대 길이로 패딩하기**"
   ]
  },
  {
   "cell_type": "code",
   "execution_count": 73,
   "id": "attractive-adolescent",
   "metadata": {},
   "outputs": [
    {
     "name": "stdout",
     "output_type": "stream",
     "text": [
      "=3\n"
     ]
    }
   ],
   "source": [
    "encoder_input_train = pad_sequences(encoder_input_train, maxlen=text_max_len, padding='post')\n",
    "encoder_input_test = pad_sequences(encoder_input_test, maxlen=text_max_len, padding='post')\n",
    "decoder_input_train = pad_sequences(decoder_input_train, maxlen=headlines_max_len, padding='post')\n",
    "decoder_target_train = pad_sequences(decoder_target_train, maxlen=headlines_max_len, padding='post')\n",
    "decoder_input_test = pad_sequences(decoder_input_test, maxlen=headlines_max_len, padding='post')\n",
    "decoder_target_test = pad_sequences(decoder_target_test, maxlen=headlines_max_len, padding='post')\n",
    "print('=3')"
   ]
  },
  {
   "cell_type": "markdown",
   "id": "ideal-queen",
   "metadata": {},
   "source": [
    "### ■ Step3 어텐션 메커니즘 사용하기 (추상적 요약)"
   ]
  },
  {
   "cell_type": "markdown",
   "id": "outdoor-consultation",
   "metadata": {},
   "source": [
    "**3-1 함수형 API를 이용해 인코더 설계**"
   ]
  },
  {
   "cell_type": "code",
   "execution_count": 74,
   "id": "raised-volleyball",
   "metadata": {},
   "outputs": [
    {
     "name": "stdout",
     "output_type": "stream",
     "text": [
      "WARNING:tensorflow:Layer lstm will not use cuDNN kernel since it doesn't meet the cuDNN kernel criteria. It will use generic GPU kernel as fallback when running on GPU\n",
      "WARNING:tensorflow:Layer lstm_1 will not use cuDNN kernel since it doesn't meet the cuDNN kernel criteria. It will use generic GPU kernel as fallback when running on GPU\n",
      "WARNING:tensorflow:Layer lstm_2 will not use cuDNN kernel since it doesn't meet the cuDNN kernel criteria. It will use generic GPU kernel as fallback when running on GPU\n"
     ]
    }
   ],
   "source": [
    "from tensorflow.keras.layers import Input, LSTM, Embedding, Dense, Concatenate\n",
    "from tensorflow.keras.models import Model\n",
    "from tensorflow.keras.callbacks import EarlyStopping, ModelCheckpoint\n",
    "\n",
    "\n",
    "# 인코더 설계 시작\n",
    "embedding_dim = 128\n",
    "hidden_size = 256\n",
    "\n",
    "# 인코더\n",
    "encoder_inputs = Input(shape=(text_max_len,))\n",
    "\n",
    "# 인코더의 임베딩 층\n",
    "enc_emb = Embedding(src_vocab, embedding_dim)(encoder_inputs)\n",
    "\n",
    "# 인코더의 LSTM 1\n",
    "encoder_lstm1 = LSTM(hidden_size, return_sequences=True, return_state=True ,dropout = 0.4, recurrent_dropout = 0.4)\n",
    "encoder_output1, state_h1, state_c1 = encoder_lstm1(enc_emb)\n",
    "\n",
    "# 인코더의 LSTM 2\n",
    "encoder_lstm2 = LSTM(hidden_size, return_sequences=True, return_state=True, dropout=0.4, recurrent_dropout=0.4)\n",
    "encoder_output2, state_h2, state_c2 = encoder_lstm2(encoder_output1)\n",
    "\n",
    "# 인코더의 LSTM 3\n",
    "encoder_lstm3 = LSTM(hidden_size, return_state=True, return_sequences=True, dropout=0.4, recurrent_dropout=0.4)\n",
    "encoder_outputs, state_h, state_c= encoder_lstm3(encoder_output2)"
   ]
  },
  {
   "cell_type": "markdown",
   "id": "dependent-bible",
   "metadata": {},
   "source": [
    "**3-2 디코더 설계**"
   ]
  },
  {
   "cell_type": "code",
   "execution_count": 75,
   "id": "thorough-replacement",
   "metadata": {},
   "outputs": [
    {
     "name": "stdout",
     "output_type": "stream",
     "text": [
      "WARNING:tensorflow:Layer lstm_3 will not use cuDNN kernel since it doesn't meet the cuDNN kernel criteria. It will use generic GPU kernel as fallback when running on GPU\n"
     ]
    }
   ],
   "source": [
    "# 디코더 설계\n",
    "decoder_inputs = Input(shape=(None,))\n",
    "\n",
    "# 디코더의 임베딩 층\n",
    "dec_emb_layer = Embedding(tar_vocab, embedding_dim)\n",
    "dec_emb = dec_emb_layer(decoder_inputs)\n",
    "\n",
    "# 디코더의 LSTM\n",
    "decoder_lstm = LSTM(hidden_size, return_sequences=True, return_state=True, dropout=0.4, recurrent_dropout=0.2)\n",
    "decoder_outputs, _, _ = decoder_lstm(dec_emb, initial_state=[state_h, state_c])\n",
    "\n",
    "# 디코더의 출력층\n",
    "decoder_softmax_layer = Dense(tar_vocab, activation='softmax')\n",
    "decoder_softmax_outputs = decoder_softmax_layer(decoder_outputs) "
   ]
  },
  {
   "cell_type": "markdown",
   "id": "persistent-acting",
   "metadata": {},
   "source": [
    "**3-3 모델 정의**"
   ]
  },
  {
   "cell_type": "code",
   "execution_count": 76,
   "id": "municipal-bunch",
   "metadata": {},
   "outputs": [
    {
     "name": "stdout",
     "output_type": "stream",
     "text": [
      "Model: \"model\"\n",
      "__________________________________________________________________________________________________\n",
      "Layer (type)                    Output Shape         Param #     Connected to                     \n",
      "==================================================================================================\n",
      "input_1 (InputLayer)            [(None, 40)]         0                                            \n",
      "__________________________________________________________________________________________________\n",
      "embedding (Embedding)           (None, 40, 128)      2432000     input_1[0][0]                    \n",
      "__________________________________________________________________________________________________\n",
      "lstm (LSTM)                     [(None, 40, 256), (N 394240      embedding[0][0]                  \n",
      "__________________________________________________________________________________________________\n",
      "input_2 (InputLayer)            [(None, None)]       0                                            \n",
      "__________________________________________________________________________________________________\n",
      "lstm_1 (LSTM)                   [(None, 40, 256), (N 525312      lstm[0][0]                       \n",
      "__________________________________________________________________________________________________\n",
      "embedding_1 (Embedding)         (None, None, 128)    1152000     input_2[0][0]                    \n",
      "__________________________________________________________________________________________________\n",
      "lstm_2 (LSTM)                   [(None, 40, 256), (N 525312      lstm_1[0][0]                     \n",
      "__________________________________________________________________________________________________\n",
      "lstm_3 (LSTM)                   [(None, None, 256),  394240      embedding_1[0][0]                \n",
      "                                                                 lstm_2[0][1]                     \n",
      "                                                                 lstm_2[0][2]                     \n",
      "__________________________________________________________________________________________________\n",
      "dense (Dense)                   (None, None, 9000)   2313000     lstm_3[0][0]                     \n",
      "==================================================================================================\n",
      "Total params: 7,736,104\n",
      "Trainable params: 7,736,104\n",
      "Non-trainable params: 0\n",
      "__________________________________________________________________________________________________\n"
     ]
    }
   ],
   "source": [
    "model = Model([encoder_inputs, decoder_inputs], decoder_softmax_outputs)\n",
    "model.summary()"
   ]
  },
  {
   "cell_type": "markdown",
   "id": "sweet-skating",
   "metadata": {},
   "source": [
    "**3-4 어텐션 함수 다운로드**"
   ]
  },
  {
   "cell_type": "code",
   "execution_count": 77,
   "id": "wanted-soccer",
   "metadata": {},
   "outputs": [],
   "source": [
    "urllib.request.urlretrieve(\"https://raw.githubusercontent.com/thushv89/attention_keras/master/src/layers/attention.py\", filename=\"attention.py\")\n",
    "from attention import AttentionLayer"
   ]
  },
  {
   "cell_type": "markdown",
   "id": "advanced-northeast",
   "metadata": {},
   "source": [
    "**3-5 어텐션 함수를 이용해 설계한 디코더의 출력층 수정 및 모델 재정의**"
   ]
  },
  {
   "cell_type": "code",
   "execution_count": 78,
   "id": "seventh-singapore",
   "metadata": {},
   "outputs": [
    {
     "name": "stdout",
     "output_type": "stream",
     "text": [
      "Model: \"model_1\"\n",
      "__________________________________________________________________________________________________\n",
      "Layer (type)                    Output Shape         Param #     Connected to                     \n",
      "==================================================================================================\n",
      "input_1 (InputLayer)            [(None, 40)]         0                                            \n",
      "__________________________________________________________________________________________________\n",
      "embedding (Embedding)           (None, 40, 128)      2432000     input_1[0][0]                    \n",
      "__________________________________________________________________________________________________\n",
      "lstm (LSTM)                     [(None, 40, 256), (N 394240      embedding[0][0]                  \n",
      "__________________________________________________________________________________________________\n",
      "input_2 (InputLayer)            [(None, None)]       0                                            \n",
      "__________________________________________________________________________________________________\n",
      "lstm_1 (LSTM)                   [(None, 40, 256), (N 525312      lstm[0][0]                       \n",
      "__________________________________________________________________________________________________\n",
      "embedding_1 (Embedding)         (None, None, 128)    1152000     input_2[0][0]                    \n",
      "__________________________________________________________________________________________________\n",
      "lstm_2 (LSTM)                   [(None, 40, 256), (N 525312      lstm_1[0][0]                     \n",
      "__________________________________________________________________________________________________\n",
      "lstm_3 (LSTM)                   [(None, None, 256),  394240      embedding_1[0][0]                \n",
      "                                                                 lstm_2[0][1]                     \n",
      "                                                                 lstm_2[0][2]                     \n",
      "__________________________________________________________________________________________________\n",
      "attention_layer (AttentionLayer ((None, None, 256),  131328      lstm_2[0][0]                     \n",
      "                                                                 lstm_3[0][0]                     \n",
      "__________________________________________________________________________________________________\n",
      "concat_layer (Concatenate)      (None, None, 512)    0           lstm_3[0][0]                     \n",
      "                                                                 attention_layer[0][0]            \n",
      "__________________________________________________________________________________________________\n",
      "dense_1 (Dense)                 (None, None, 9000)   4617000     concat_layer[0][0]               \n",
      "==================================================================================================\n",
      "Total params: 10,171,432\n",
      "Trainable params: 10,171,432\n",
      "Non-trainable params: 0\n",
      "__________________________________________________________________________________________________\n"
     ]
    }
   ],
   "source": [
    "# 어텐션 층(어텐션 함수)\n",
    "attn_layer = AttentionLayer(name='attention_layer')\n",
    "\n",
    "# 인코더와 디코더의 모든 time step의 hidden state를 어텐션 층에 전달하고 결과를 리턴\n",
    "attn_out, attn_states = attn_layer([encoder_outputs, decoder_outputs])\n",
    "\n",
    "# 어텐션의 결과와 디코더의 hidden state들을 연결\n",
    "decoder_concat_input = Concatenate(axis=-1, name='concat_layer')([decoder_outputs, attn_out])\n",
    "\n",
    "# 디코더의 출력층\n",
    "decoder_softmax_layer = Dense(tar_vocab, activation='softmax')\n",
    "decoder_softmax_outputs = decoder_softmax_layer(decoder_concat_input)\n",
    "\n",
    "# 모델 정의\n",
    "model = Model([encoder_inputs, decoder_inputs], decoder_softmax_outputs)\n",
    "model.summary()"
   ]
  },
  {
   "cell_type": "markdown",
   "id": "worth-wagner",
   "metadata": {},
   "source": [
    "**3-6 모델 훈련하기**"
   ]
  },
  {
   "cell_type": "code",
   "execution_count": 79,
   "id": "familiar-italian",
   "metadata": {},
   "outputs": [
    {
     "name": "stdout",
     "output_type": "stream",
     "text": [
      "Epoch 1/50\n",
      "232/232 [==============================] - 529s 2s/step - loss: 6.6706 - val_loss: 5.9429\n",
      "Epoch 2/50\n",
      "232/232 [==============================] - 282s 1s/step - loss: 5.8653 - val_loss: 5.5326\n",
      "Epoch 3/50\n",
      "232/232 [==============================] - 165s 713ms/step - loss: 5.4935 - val_loss: 5.2439\n",
      "Epoch 4/50\n",
      "232/232 [==============================] - 166s 716ms/step - loss: 5.1772 - val_loss: 5.0301\n",
      "Epoch 5/50\n",
      "232/232 [==============================] - 166s 714ms/step - loss: 4.9272 - val_loss: 4.8775\n",
      "Epoch 6/50\n",
      "232/232 [==============================] - 165s 712ms/step - loss: 4.7236 - val_loss: 4.7339\n",
      "Epoch 7/50\n",
      "232/232 [==============================] - 165s 711ms/step - loss: 4.5371 - val_loss: 4.6346\n",
      "Epoch 8/50\n",
      "232/232 [==============================] - 166s 715ms/step - loss: 4.3734 - val_loss: 4.5387\n",
      "Epoch 9/50\n",
      "232/232 [==============================] - 165s 712ms/step - loss: 4.2313 - val_loss: 4.4630\n",
      "Epoch 10/50\n",
      "232/232 [==============================] - 165s 710ms/step - loss: 4.1069 - val_loss: 4.4124\n",
      "Epoch 11/50\n",
      "232/232 [==============================] - 165s 711ms/step - loss: 3.9779 - val_loss: 4.3443\n",
      "Epoch 12/50\n",
      "232/232 [==============================] - 166s 715ms/step - loss: 3.8706 - val_loss: 4.2986\n",
      "Epoch 13/50\n",
      "232/232 [==============================] - 166s 714ms/step - loss: 3.7629 - val_loss: 4.2587\n",
      "Epoch 14/50\n",
      "232/232 [==============================] - 165s 711ms/step - loss: 3.6788 - val_loss: 4.2291\n",
      "Epoch 15/50\n",
      "232/232 [==============================] - 165s 712ms/step - loss: 3.5955 - val_loss: 4.1993\n",
      "Epoch 16/50\n",
      "232/232 [==============================] - 166s 716ms/step - loss: 3.5152 - val_loss: 4.1872\n",
      "Epoch 17/50\n",
      "232/232 [==============================] - 166s 714ms/step - loss: 3.4394 - val_loss: 4.1665\n",
      "Epoch 18/50\n",
      "232/232 [==============================] - 165s 712ms/step - loss: 3.3716 - val_loss: 4.1497\n",
      "Epoch 19/50\n",
      "232/232 [==============================] - 165s 712ms/step - loss: 3.3116 - val_loss: 4.1524\n",
      "Epoch 20/50\n",
      "232/232 [==============================] - 166s 714ms/step - loss: 3.2456 - val_loss: 4.1374\n",
      "Epoch 21/50\n",
      "232/232 [==============================] - 166s 714ms/step - loss: 3.1778 - val_loss: 4.1253\n",
      "Epoch 22/50\n",
      "232/232 [==============================] - 165s 712ms/step - loss: 3.1272 - val_loss: 4.1262\n",
      "Epoch 23/50\n",
      "232/232 [==============================] - 165s 711ms/step - loss: 3.0804 - val_loss: 4.1189\n",
      "Epoch 24/50\n",
      "232/232 [==============================] - 166s 714ms/step - loss: 3.0335 - val_loss: 4.1250\n",
      "Epoch 25/50\n",
      "232/232 [==============================] - 165s 713ms/step - loss: 2.9841 - val_loss: 4.1161\n",
      "Epoch 26/50\n",
      "232/232 [==============================] - 165s 712ms/step - loss: 2.9382 - val_loss: 4.1144\n",
      "Epoch 27/50\n",
      "232/232 [==============================] - 165s 713ms/step - loss: 2.8944 - val_loss: 4.1108\n",
      "Epoch 28/50\n",
      "232/232 [==============================] - 166s 716ms/step - loss: 2.8537 - val_loss: 4.1064\n",
      "Epoch 29/50\n",
      "232/232 [==============================] - 165s 713ms/step - loss: 2.8120 - val_loss: 4.1073\n",
      "Epoch 30/50\n",
      "232/232 [==============================] - 165s 713ms/step - loss: 2.7878 - val_loss: 4.1146\n",
      "Epoch 00030: early stopping\n"
     ]
    }
   ],
   "source": [
    "model.compile(optimizer='rmsprop', loss='sparse_categorical_crossentropy')\n",
    "es = EarlyStopping(monitor='val_loss', patience=2, verbose=1)  # 검증 데이터의 손실이 줄어들지 않고 증가하는 현상이 2회(patience=2) 관측되면 학습을 멈춤\n",
    "history = model.fit(x=[encoder_input_train, decoder_input_train], y=decoder_target_train, \\\n",
    "          validation_data=([encoder_input_test, decoder_input_test], decoder_target_test), \\\n",
    "          batch_size=256, callbacks=[es], epochs=50)"
   ]
  },
  {
   "cell_type": "markdown",
   "id": "japanese-direction",
   "metadata": {},
   "source": [
    "**3-7 훈련과정 시각화**"
   ]
  },
  {
   "cell_type": "code",
   "execution_count": 80,
   "id": "better-excellence",
   "metadata": {},
   "outputs": [
    {
     "data": {
      "image/png": "[encoded data removed]",
      "text/plain": [
       "<Figure size 432x288 with 1 Axes>"
      ]
     },
     "metadata": {
      "needs_background": "light"
     },
     "output_type": "display_data"
    }
   ],
   "source": [
    "plt.plot(history.history['loss'], label='train')\n",
    "plt.plot(history.history['val_loss'], label='test')\n",
    "plt.legend()\n",
    "plt.show()"
   ]
  },
  {
   "cell_type": "markdown",
   "id": "approved-paper",
   "metadata": {},
   "source": [
    "### ■ Step 4 실제 결과와 요약문 비교하기 (추상적 요약)"
   ]
  },
  {
   "cell_type": "markdown",
   "id": "residential-latex",
   "metadata": {},
   "source": [
    "**4-1 정수 인덱스 행렬을 실제 데이터로 복원하기위한 3개의 사전 준비**"
   ]
  },
  {
   "cell_type": "code",
   "execution_count": 81,
   "id": "exotic-northwest",
   "metadata": {},
   "outputs": [],
   "source": [
    "src_index_to_word = src_tokenizer.index_word # 원문 단어 집합에서 정수 -> 단어를 얻음\n",
    "tar_word_to_index = tar_tokenizer.word_index # 요약 단어 집합에서 단어 -> 정수를 얻음\n",
    "tar_index_to_word = tar_tokenizer.index_word # 요약 단어 집합에서 정수 -> 단어를 얻음"
   ]
  },
  {
   "cell_type": "markdown",
   "id": "selected-reader",
   "metadata": {},
   "source": [
    "**4-2 인퍼런스(실전 요약)를 위한 모델 설계**"
   ]
  },
  {
   "cell_type": "code",
   "execution_count": 82,
   "id": "unlike-yield",
   "metadata": {},
   "outputs": [],
   "source": [
    "# 인코더 설계\n",
    "encoder_model = Model(inputs=encoder_inputs, outputs=[encoder_outputs, state_h, state_c])\n",
    "\n",
    "# 이전 시점의 상태들을 저장하는 텐서\n",
    "decoder_state_input_h = Input(shape=(hidden_size,))\n",
    "decoder_state_input_c = Input(shape=(hidden_size,))\n",
    "\n",
    "dec_emb2 = dec_emb_layer(decoder_inputs)\n",
    "\n",
    "# 문장의 다음 단어를 예측하기 위해서 초기 상태(initial_state)를 이전 시점의 상태로 사용. 이는 뒤의 함수 decode_sequence()에 구현\n",
    "# 훈련 과정에서와 달리 LSTM의 리턴하는 은닉 상태와 셀 상태인 state_h와 state_c를 버리지 않음.\n",
    "decoder_outputs2, state_h2, state_c2 = decoder_lstm(dec_emb2, initial_state=[decoder_state_input_h, decoder_state_input_c])"
   ]
  },
  {
   "cell_type": "markdown",
   "id": "large-rescue",
   "metadata": {},
   "source": [
    "**4-3 어텐션 메커니즘을 사용하는 출력층 설계**"
   ]
  },
  {
   "cell_type": "code",
   "execution_count": 83,
   "id": "moved-spank",
   "metadata": {},
   "outputs": [],
   "source": [
    "# 어텐션 함수\n",
    "decoder_hidden_state_input = Input(shape=(text_max_len, hidden_size))\n",
    "attn_out_inf, attn_states_inf = attn_layer([decoder_hidden_state_input, decoder_outputs2])\n",
    "decoder_inf_concat = Concatenate(axis=-1, name='concat')([decoder_outputs2, attn_out_inf])\n",
    "\n",
    "# 디코더의 출력층\n",
    "decoder_outputs2 = decoder_softmax_layer(decoder_inf_concat) \n",
    "\n",
    "# 최종 디코더 모델\n",
    "decoder_model = Model(\n",
    "    [decoder_inputs] + [decoder_hidden_state_input,decoder_state_input_h, decoder_state_input_c],\n",
    "    [decoder_outputs2] + [state_h2, state_c2])"
   ]
  },
  {
   "cell_type": "markdown",
   "id": "manual-exemption",
   "metadata": {},
   "source": [
    "**4-4 인퍼런스 단계에서 단어 시퀀스를 완성하는 함수 생성**"
   ]
  },
  {
   "cell_type": "code",
   "execution_count": 87,
   "id": "intense-madonna",
   "metadata": {},
   "outputs": [],
   "source": [
    "def decode_sequence(input_seq):\n",
    "    # 입력으로부터 인코더의 상태를 얻음\n",
    "    e_out, e_h, e_c = encoder_model.predict(input_seq)\n",
    "\n",
    "     # <SOS>에 해당하는 토큰 생성\n",
    "    target_seq = np.zeros((1,1))\n",
    "    target_seq[0, 0] = tar_word_to_index['sostoken']\n",
    "\n",
    "    stop_condition = False\n",
    "    decoded_sentence = ''\n",
    "    while not stop_condition: # stop_condition이 True가 될 때까지 루프 반복\n",
    "\n",
    "        output_tokens, h, c = decoder_model.predict([target_seq] + [e_out, e_h, e_c])\n",
    "        sampled_token_index = np.argmax(output_tokens[0, -1, :])\n",
    "        sampled_token = tar_index_to_word[sampled_token_index]\n",
    "\n",
    "        if (sampled_token!='eostoken'):\n",
    "            decoded_sentence += ' '+sampled_token\n",
    "\n",
    "        #  <eos>에 도달하거나 최대 길이를 넘으면 중단.\n",
    "        if (sampled_token == 'eostoken'  or len(decoded_sentence.split()) >= (headlines_max_len-1)):\n",
    "            stop_condition = True\n",
    "\n",
    "        # 길이가 1인 타겟 시퀀스를 업데이트\n",
    "        target_seq = np.zeros((1,1))\n",
    "        target_seq[0, 0] = sampled_token_index\n",
    "\n",
    "        # 상태를 업데이트 합니다.\n",
    "        e_h, e_c = h, c\n",
    "\n",
    "    return decoded_sentence"
   ]
  },
  {
   "cell_type": "markdown",
   "id": "western-crossing",
   "metadata": {},
   "source": [
    "**4-5 정수 시퀀스를 텍스트 시퀀스로 변환하는 함수 생성**"
   ]
  },
  {
   "cell_type": "code",
   "execution_count": 91,
   "id": "hundred-assessment",
   "metadata": {},
   "outputs": [],
   "source": [
    "# 원문의 정수 시퀀스를 텍스트 시퀀스로 변환\n",
    "def seq2text(input_seq):\n",
    "    temp=''\n",
    "    for i in input_seq:\n",
    "        if (i!=0):\n",
    "            temp = temp + src_index_to_word[i]+' '\n",
    "    return temp\n",
    "\n",
    "# 요약문의 정수 시퀀스를 텍스트 시퀀스로 변환\n",
    "def seq2headlines(input_seq):\n",
    "    temp=''\n",
    "    for i in input_seq:\n",
    "        if ((i!=0 and i!=tar_word_to_index['sostoken']) and i!=tar_word_to_index['eostoken']):\n",
    "            temp = temp + tar_index_to_word[i] + ' '\n",
    "    return temp"
   ]
  },
  {
   "cell_type": "markdown",
   "id": "signed-making",
   "metadata": {},
   "source": [
    "**4-6 실제 headlines과 추상적 요약 비교**"
   ]
  },
  {
   "cell_type": "code",
   "execution_count": 92,
   "id": "hydraulic-visibility",
   "metadata": {},
   "outputs": [
    {
     "name": "stdout",
     "output_type": "stream",
     "text": [
      "<원문> : german chancellor angela merkel said collapse talks britain planned exit european union cannot ruled however merkel said germany partners eu putting energy securing deal britain want negotiations collapse german chancellor added \n",
      "[실제 요약] : collapse of brexit talks cannot be ruled out germany \n",
      "[예측 요약] :  brexit not to be appointed german chancellor merkel\n",
      "\n",
      "\n",
      "<원문> : ex prime minister manmohan singh said relationship rbi government similar ties husband wife added differences opinion two great institutions must organisations work governor rbi wish well singh said \n",
      "[실제 요약] : rbi government are like husband and wife says manmohan singh \n",
      "[예측 요약] :  never thought about the manmohan singh\n",
      "\n",
      "\n",
      "<원문> : london based bp working reliance industries start petrol pumps india begin operations months according reports bp received approval licence set fuel retail outlets october last year bp reliance industries already partners exploration production gas sourcing businesses \n",
      "[실제 요약] : to partner with reliance to start petrol pumps reports \n",
      "[예측 요약] :  reliance to invest in india by january\n",
      "\n",
      "\n",
      "<원문> : lawyer chandigarh allegedly gave wife form coins four notes part monthly maintenance divorce case wife approached court calling sheer harassment justifying action lawyer said stating denomination pay maintenance money \n",
      "[실제 요약] : lawyer gives wife maintenance in and coins \n",
      "[예측 요약] :  woman jailed for cheating woman in taka\n",
      "\n",
      "\n",
      "<원문> : according regulatory filing commerce major amazon told whole foods would efforts acquire company whole foods bid billion amazon also threatened walk away acquisition talks leaked press cash deal announced june marks biggest transaction ever amazon \n",
      "[실제 요약] : amazon threatened to kill whole foods deal over counter bid \n",
      "[예측 요약] :  amazon co founder sanjay roy\n",
      "\n",
      "\n",
      "<원문> : new zealand fast bowler trent boult took last five wickets without conceding run within balls sri lanka first innings second test thursday year old registered career best bowling figures innings helping team reduce sri lanka one stage \n",
      "[실제 요약] : takes wickets without run in balls vs sl \n",
      "[예측 요약] :  south africa has hit in innings of cricket\n",
      "\n",
      "\n",
      "<원문> : bahrain king bin al khalifa approved constitutional amendment granting military courts right try civilians protesting government officials said would affect accused acts terrorism however critics claimed measure could even used prosecute peaceful activists \n",
      "[실제 요약] : bahrain approves military trials for civilians \n",
      "[예측 요약] :  canada to offer to illegal migrants\n",
      "\n",
      "\n",
      "<원문> : england football association set bring new set rules even team coaches managers handed red yellow cards referees irresponsible behaviour managers receive yellow cards acts including kicking water bottle clapping could handed red cards violent conduct \n",
      "[실제 요약] : even team coaches can be shown red yellow cards now \n",
      "[예측 요약] :  football club to open trial for illegal league\n",
      "\n",
      "\n",
      "<원문> : kangana ranaut said learnt english recently still access dictionary lot words kangana said interactive session yogi vasudev actress took dig called pointed dictionary meaning liberal someone acceptance people opinions thoughts \n",
      "[실제 요약] : learnt english recently still have to access dictionary kangana \n",
      "[예측 요약] :  kangana is not like social media kangana\n",
      "\n",
      "\n",
      "<원문> : mumbai police monday arrested year old drug addict stealing trophies sports shop accused said sneaked shop steal money stole trophies instead money according police officials arrested day robbery could sell trophies police added \n",
      "[실제 요약] : mumbai man held for stealing trophies from sports shop \n",
      "[예측 요약] :  mumbai police arrests drug racket\n",
      "\n",
      "\n"
     ]
    }
   ],
   "source": [
    "for i in range(10):\n",
    "    print(\"<원문> :\", seq2text(encoder_input_test[i]))\n",
    "    print(\"[실제 요약] :\", seq2headlines(decoder_input_test[i]))\n",
    "    print(\"[예측 요약] :\", decode_sequence(encoder_input_test[i].reshape(1, text_max_len)))\n",
    "    print(\"\\n\")"
   ]
  },
  {
   "cell_type": "markdown",
   "id": "prescription-nickname",
   "metadata": {},
   "source": [
    "### ■ Step 5 Summa을 이용해서 추출적 요약해보기"
   ]
  },
  {
   "cell_type": "markdown",
   "id": "british-summit",
   "metadata": {},
   "source": [
    "**5-1 데이터 다운로드**"
   ]
  },
  {
   "cell_type": "code",
   "execution_count": 93,
   "id": "independent-portal",
   "metadata": {},
   "outputs": [],
   "source": [
    "import requests\n",
    "from summa.summarizer import summarize\n",
    "\n",
    "\n",
    "data = pd.read_csv('news_summary_more.csv', encoding='iso-8859-1')"
   ]
  },
  {
   "cell_type": "markdown",
   "id": "adequate-retro",
   "metadata": {},
   "source": [
    "**5-2 실제 headlines과 추출적 요약 비교**"
   ]
  },
  {
   "cell_type": "code",
   "execution_count": 95,
   "id": "complete-holder",
   "metadata": {},
   "outputs": [
    {
     "name": "stdout",
     "output_type": "stream",
     "text": [
      "<원문> : Saurav Kant, an alumnus of upGrad and IIIT-B's PG Program in Machine learning and Artificial Intelligence, was a Sr Systems Engineer at Infosys with almost 5 years of work experience. The program and upGrad's 360-degree career support helped him transition to a Data Scientist at Tech Mahindra with 90% salary hike. upGrad's Online Power Learning has powered 3 lakh+ careers.\n",
      "실제 HEADLINE :  upGrad learner switches to career in ML & Al with 90% salary hike\n",
      "추출적 요약 HEADLINE :  upGrad's Online Power Learning has powered 3 lakh+ careers.\n",
      "\n",
      "\n",
      "<원문> : Kunal Shah's credit card bill payment platform, CRED, gave users a chance to win free food from Swiggy for one year. Pranav Kaushik, a Delhi techie, bagged this reward after spending 2000 CRED coins. Users get one CRED coin per rupee of bill paid, which can be used to avail rewards from brands like Ixigo, BookMyShow, UberEats, Cult.Fit and more.\n",
      "실제 HEADLINE :  Delhi techie wins free food from Swiggy for one year on CRED\n",
      "추출적 요약 HEADLINE :  Users get one CRED coin per rupee of bill paid, which can be used to avail rewards from brands like Ixigo, BookMyShow, UberEats, Cult.Fit and more.\n",
      "\n",
      "\n",
      "<원문> : New Zealand defeated India by 8 wickets in the fourth ODI at Hamilton on Thursday to win their first match of the five-match ODI series. India lost an international match under Rohit Sharma's captaincy after 12 consecutive victories dating back to March 2018. The match witnessed India getting all out for 92, their seventh lowest total in ODI cricket history.\n",
      "실제 HEADLINE :  New Zealand end Rohit Sharma-led India's 12-match winning streak\n",
      "추출적 요약 HEADLINE :  The match witnessed India getting all out for 92, their seventh lowest total in ODI cricket history.\n",
      "\n",
      "\n",
      "<원문> : With Aegon Life iTerm Insurance plan, customers can enjoy tax benefits on your premiums paid and save up to Ã¢ÂÂ¹46,800^ on taxes. The plan provides life cover up to the age of 100 years. Also, customers have options to insure against Critical Illnesses, Disability and Accidental Death Benefit Rider with a life cover up to the age of 80 years.\n",
      "실제 HEADLINE :  Aegon life iTerm insurance plan helps customers save tax\n",
      "추출적 요약 HEADLINE :  Also, customers have options to insure against Critical Illnesses, Disability and Accidental Death Benefit Rider with a life cover up to the age of 80 years.\n",
      "\n",
      "\n",
      "<원문> : Speaking about the sexual harassment allegations against Rajkumar Hirani, Sonam Kapoor said, \"I've known Hirani for many years...What if it's not true, the [#MeToo] movement will get derailed.\" \"In the #MeToo movement, I always believe a woman. But in this case, we need to reserve our judgment,\" she added. Hirani has been accused by an assistant who worked in 'Sanju'.\n",
      "실제 HEADLINE :  Have known Hirani for yrs, what if MeToo claims are not true: Sonam\n",
      "추출적 요약 HEADLINE :  Speaking about the sexual harassment allegations against Rajkumar Hirani, Sonam Kapoor said, \"I've known Hirani for many years...What if it's not true, the [#MeToo] movement will get derailed.\" \"In the #MeToo movement, I always believe a woman.\n",
      "\n",
      "\n",
      "<원문> : Pakistani singer Rahat Fateh Ali Khan has denied receiving any notice from the Enforcement Directorate over allegedly smuggling foreign currency out of India. \"It would have been better if the authorities would have served the notice first if any and then publicised this,\" reads a press release issued on behalf of Rahat. The statement further called the allegation \"bizarre\".\n",
      "실제 HEADLINE :  Rahat Fateh Ali Khan denies getting notice for smuggling currency\n",
      "추출적 요약 HEADLINE :  Pakistani singer Rahat Fateh Ali Khan has denied receiving any notice from the Enforcement Directorate over allegedly smuggling foreign currency out of India.\n",
      "\n",
      "\n",
      "<원문> : India recorded their lowest ODI total in New Zealand after getting all out for 92 runs in 30.5 overs in the fourth ODI at Hamilton on Thursday. Seven of India's batsmen were dismissed for single-digit scores, while their number ten batsman Yuzvendra Chahal top-scored with 18*(37). India's previous lowest ODI total in New Zealand was 108.\n",
      "실제 HEADLINE :  India get all out for 92, their lowest ODI total in New Zealand\n",
      "추출적 요약 HEADLINE :  India's previous lowest ODI total in New Zealand was 108.\n",
      "\n",
      "\n",
      "<원문> : Weeks after ex-CBI Director Alok Verma told the Department of Personnel and Training to consider him retired, the Home Ministry asked him to join work on the last day of his fixed tenure as Director on Thursday. The ministry directed him to immediately join as DG, Fire Services, the post he was transferred to after his removal as CBI chief.\n",
      "실제 HEADLINE :  Govt directs Alok Verma to join work 1 day before his retirement\n",
      "추출적 요약 HEADLINE :  Weeks after ex-CBI Director Alok Verma told the Department of Personnel and Training to consider him retired, the Home Ministry asked him to join work on the last day of his fixed tenure as Director on Thursday.\n",
      "\n",
      "\n",
      "<원문> : Andhra Pradesh CM N Chandrababu Naidu has said, \"When I met then US President Bill Clinton, I addressed him as Mr Clinton, not as 'sir'. (PM Narendra) Modi is my junior in politics...I addressed him as sir 10 times.\" \"I did this...to satisfy his ego in the hope that he will do justice to the state,\" he added.\n",
      "실제 HEADLINE :  Called PM Modi 'sir' 10 times to satisfy his ego: Andhra CM\n",
      "추출적 요약 HEADLINE :  Andhra Pradesh CM N Chandrababu Naidu has said, \"When I met then US President Bill Clinton, I addressed him as Mr Clinton, not as 'sir'.\n",
      "\n",
      "\n",
      "<원문> : Congress candidate Shafia Zubair won the Ramgarh Assembly seat in Rajasthan, by defeating BJP's Sukhwant Singh with a margin of 12,228 votes in the bypoll. With this victory, Congress has taken its total to 100 seats in the 200-member assembly. The election to the Ramgarh seat was delayed due to the death of sitting MLA and BSP candidate Laxman Singh.\n",
      "실제 HEADLINE :  Cong wins Ramgarh bypoll in Rajasthan, takes total to 100 seats\n",
      "추출적 요약 HEADLINE :  Congress candidate Shafia Zubair won the Ramgarh Assembly seat in Rajasthan, by defeating BJP's Sukhwant Singh with a margin of 12,228 votes in the bypoll.\n",
      "\n",
      "\n"
     ]
    }
   ],
   "source": [
    "for i in range(10):\n",
    "    print(\"<원문> :\", data['text'][i])\n",
    "    print(\"실제 HEADLINE : \", data['headlines'][i])\n",
    "    print(\"추출적 요약 HEADLINE : \", summarize(data['text'][i], ratio=0.5))\n",
    "    print(\"\\n\")"
   ]
  },
  {
   "cell_type": "markdown",
   "id": "selected-corpus",
   "metadata": {},
   "source": [
    "### ■ 정리 및 회고"
   ]
  },
  {
   "cell_type": "markdown",
   "id": "selective-difference",
   "metadata": {},
   "source": [
    "**1. 추상적 요약 결과 확인**"
   ]
  },
  {
   "cell_type": "markdown",
   "id": "skilled-westminster",
   "metadata": {},
   "source": [
    "**<원문>** : mumbai police monday arrested year old drug addict stealing trophies sports shop accused said sneaked shop steal money stole trophies instead money according police officials arrested day robbery could sell trophies police added\n",
    "\n",
    "**[실제 HeadLine]** : mumbai man held for stealing trophies from sports shop \n",
    "\n",
    "**[예측 요약]** :  mumbai police arrests drug racket\n",
    "\n",
    "- 원문의 대략적인 내용은 뭄바이 경찰이 월요일에 스포츠 용품점을 훔치는 마약 중독자를 체포한 것이다. 실제 요약은 '스포츠 가게에서 전리품을 훔친 혐의로 붙잡힌 뭄바이 남자'이고, 추상적 요약은 '뭄바이 경찰, 마약 밀매 검거'이다. 마약 밀매가 아니라 마약 중독자를 검거한 것이라 살짝 초첨이 다르긴 하지만 어느 정도 비슷한 키워드로 요약이 잘 된것 같다.\n",
    "\n",
    "- 위 예시는 핵심 단어나 내용을 잘 포함했지만, 문법적 완성도가 엄청 높지는 않은 것 같다. 그래도 상당히 괜찮은 수준 같다.\n",
    "\n",
    "- 하지만 그렇지 않은 예시도 있다. 이는 모델 학습 결과 자체가 성능결과가 높지 않고, 원문 길이 자체가 짧아서 인 것 같기도 하다.\n",
    "\n"
   ]
  },
  {
   "cell_type": "markdown",
   "id": "synthetic-camel",
   "metadata": {},
   "source": [
    "**2. 추출적 요약 결과 확인**"
   ]
  },
  {
   "cell_type": "markdown",
   "id": "proud-census",
   "metadata": {},
   "source": [
    "**<원문>** : Congress candidate Shafia Zubair won the Ramgarh Assembly seat in Rajasthan, by defeating BJP's Sukhwant Singh with a margin of 12,228 votes in the bypoll. With this victory, Congress has taken its total to 100 seats in the 200-member assembly. The election to the Ramgarh seat was delayed due to the death of sitting MLA and BSP candidate Laxman Singh.\n",
    "\n",
    "**[실제 HEADLINE]** :  Cong wins Ramgarh bypoll in Rajasthan, takes total to 100 seats\n",
    "\n",
    "**[추출적 요약 HEADLINE]** :  Congress candidate Shafia Zubair won the Ramgarh Assembly seat in Rajasthan, by defeating BJP's Sukhwant Singh with a margin of 12,228 votes in the bypoll.\n",
    "\n",
    "- 원문의 대략적인 내용은 의회 투표 결과로 의석을 확보한 것이다. 실제 headline은 의석을 차지했다는 내용이고, 추출적 요약 역시 의석을 차지했다는 내용이다. 핵심적인 내용이 잘 요약 된것 같다.\n",
    "\n",
    "- 위 예시는 핵심 단어나 내용도 잘 포함되었고 문법적 완성도도 괜찮은 것 같다.\n",
    "\n",
    "- 하지만 그렇지 않은 예시도 있다. 핵심 단어는 잘 포함 했으나 문법적 완성도 수준이 높지 않다."
   ]
  },
  {
   "cell_type": "markdown",
   "id": "fossil-archives",
   "metadata": {},
   "source": [
    "**3. 노드를 마치며..**\n",
    "\n",
    "역시 NLP 노드는 쉽지 않다. 전체적인 흐름을 이해하는 것 부터가 어렵고, 모델의 학습 시간도 오래걸려서 답답함이 더 크다. 또한 데이터 전처리의 중요성을 다시 한번 더 느낀다. 데이터를 어떻게 정제할지에 많은 공부가 필요하다. 또한 모델과 모델 설계에 대한 이해도 많이 필요하다. 어텐션 메커니즘데 대해서도 마찬가지이다. 모델의 성능을 더 높이는 다양한 방법들에 대해서도 추후에 시도해 보아야겠다."
   ]
  }
 ],
 "metadata": {
  "kernelspec": {
   "display_name": "Python 3",
   "language": "python",
   "name": "python3"
  },
  "language_info": {
   "codemirror_mode": {
    "name": "ipython",
    "version": 3
   },
   "file_extension": ".py",
   "mimetype": "text/x-python",
   "name": "python",
   "nbconvert_exporter": "python",
   "pygments_lexer": "ipython3",
   "version": "3.7.9"
  }
 },
 "nbformat": 4,
 "nbformat_minor": 5
}
