{
 "cells": [
  {
   "cell_type": "markdown",
   "id": "employed-advice",
   "metadata": {},
   "source": [
    "# **Exploration01 인공지능과 가위바위보 하기**"
   ]
  },
  {
   "cell_type": "markdown",
   "id": "crucial-dealer",
   "metadata": {},
   "source": [
    "### **01 데이터 준비 및 확인**"
   ]
  },
  {
   "cell_type": "markdown",
   "id": "varying-interview",
   "metadata": {},
   "source": [
    "인공지능과 가위바위보를 하기 위해서는 가위, 바위, 보 사진이 필요하기 때문에 다음 두 가지 사전 작업을 진행해 줍니다. 먼저, [teachable machine 사이트](https://teachablemachine.withgoogle.com/)를 이용해 가위, 바위, 보 사진을 각 100장씩 총 300장 생성합니다. 그리고 나서 사진을 28×28로 사이즈로 변경해줍니다."
   ]
  },
  {
   "cell_type": "code",
   "execution_count": 18,
   "id": "artistic-delta",
   "metadata": {},
   "outputs": [
    {
     "name": "stdout",
     "output_type": "stream",
     "text": [
      "학습데이터(x_train)의 이미지 개수는 300 입니다.\n",
      "x_train shape: (300, 28, 28, 3)\n",
      "y_train shape: (300,)\n"
     ]
    }
   ],
   "source": [
    "#데이터 준비\n",
    "\n",
    "from PIL import Image\n",
    "import os, glob\n",
    "import numpy as np\n",
    "\n",
    "def load_data(img_path, number_of_data=300):  # 가위바위보 이미지 개수는 각 100개씩 총 300개입니다.\n",
    "    # 가위 : 0, 바위 : 1, 보 : 2\n",
    "    img_size=28\n",
    "    color=3\n",
    "    #이미지 데이터와 라벨(가위 : 0, 바위 : 1, 보 : 2) 데이터를 담을 행렬(matrix) 영역을 생성합니다.\n",
    "    imgs=np.zeros(number_of_data*img_size*img_size*color,dtype=np.int32).reshape(number_of_data,img_size,img_size,color)\n",
    "    labels=np.zeros(number_of_data,dtype=np.int32)\n",
    "\n",
    "    idx=0\n",
    "    for file in glob.iglob(img_path+'/scissor100/*.jpg'):\n",
    "        img = np.array(Image.open(file),dtype=np.int32)\n",
    "        imgs[idx,:,:,:]=img    # 데이터 영역에 이미지 행렬을 복사\n",
    "        labels[idx]=0   # 가위 : 0\n",
    "        idx=idx+1\n",
    "\n",
    "    for file in glob.iglob(img_path+'/rock100/*.jpg'):\n",
    "        img = np.array(Image.open(file),dtype=np.int32)\n",
    "        imgs[idx,:,:,:]=img    # 데이터 영역에 이미지 행렬을 복사\n",
    "        labels[idx]=1   # 바위 : 1\n",
    "        idx=idx+1  \n",
    "    \n",
    "    for file in glob.iglob(img_path+'/paper100/*.jpg'):\n",
    "        img = np.array(Image.open(file),dtype=np.int32)\n",
    "        imgs[idx,:,:,:]=img    # 데이터 영역에 이미지 행렬을 복사\n",
    "        labels[idx]=2   # 보 : 2\n",
    "        idx=idx+1\n",
    "        \n",
    "    print(\"학습데이터(x_train)의 이미지 개수는\", idx,\"입니다.\")\n",
    "    return imgs, labels\n",
    "\n",
    "image_dir_path = os.getenv(\"HOME\") + \"/aiffel/rock_scissor_paper\"\n",
    "(x_train, y_train)=load_data(image_dir_path)\n",
    "x_train_norm = x_train/255.0   # 입력은 0~1 사이의 값으로 정규화\n",
    "\n",
    "print(\"x_train shape: {}\".format(x_train.shape))\n",
    "print(\"y_train shape: {}\".format(y_train.shape))"
   ]
  },
  {
   "cell_type": "code",
   "execution_count": 19,
   "id": "announced-drilling",
   "metadata": {
    "scrolled": true
   },
   "outputs": [
    {
     "name": "stdout",
     "output_type": "stream",
     "text": [
      "라벨:  1\n"
     ]
    },
    {
     "data": {
      "image/png": "[encoded data removed]",
      "text/plain": [
       "<Figure size 432x288 with 1 Axes>"
      ]
     },
     "metadata": {
      "needs_background": "light"
     },
     "output_type": "display_data"
    }
   ],
   "source": [
    "# 데이터 확인\n",
    "\n",
    "import matplotlib.pyplot as plt\n",
    "plt.imshow(x_train[101])\n",
    "print('라벨: ', y_train[101])"
   ]
  },
  {
   "cell_type": "markdown",
   "id": "egyptian-antenna",
   "metadata": {},
   "source": [
    "### **02 모델 설계**"
   ]
  },
  {
   "cell_type": "markdown",
   "id": "retained-python",
   "metadata": {},
   "source": [
    "**- 입력부**\n",
    "\n",
    "위에서 x_trian shape을 확인해보니 (28, 28, 3)이었습니다.\n",
    "따라서 model의 첫 layer 입력부의 input_shape은 (28, 28, 3)됩니다.\n",
    "MNIST 숫자 손글씨 데이터셋은 흑백 이미지 데이터로 shape이 (28, 28, 1)이었지만, 가위바위보 이미지는 컬러 데이터이기 때문에 shape이 (28, 28, 3)인 것입니다.\n",
    "\n",
    "**- 출력부**\n",
    "\n",
    "숫자는 0-9까지 10가지로 분류해야하지만 가위바위보는 3가지로 분류하므로, modle의 마지막 layer 출력부를 3으로 해야합니다."
   ]
  },
  {
   "cell_type": "code",
   "execution_count": 20,
   "id": "official-nepal",
   "metadata": {
    "scrolled": true
   },
   "outputs": [
    {
     "name": "stdout",
     "output_type": "stream",
     "text": [
      "Model: \"sequential_2\"\n",
      "_________________________________________________________________\n",
      "Layer (type)                 Output Shape              Param #   \n",
      "=================================================================\n",
      "conv2d_4 (Conv2D)            (None, 26, 26, 16)        448       \n",
      "_________________________________________________________________\n",
      "max_pooling2d_4 (MaxPooling2 (None, 13, 13, 16)        0         \n",
      "_________________________________________________________________\n",
      "conv2d_5 (Conv2D)            (None, 11, 11, 32)        4640      \n",
      "_________________________________________________________________\n",
      "max_pooling2d_5 (MaxPooling2 (None, 5, 5, 32)          0         \n",
      "_________________________________________________________________\n",
      "flatten_2 (Flatten)          (None, 800)               0         \n",
      "_________________________________________________________________\n",
      "dense_4 (Dense)              (None, 32)                25632     \n",
      "_________________________________________________________________\n",
      "dense_5 (Dense)              (None, 3)                 99        \n",
      "=================================================================\n",
      "Total params: 30,819\n",
      "Trainable params: 30,819\n",
      "Non-trainable params: 0\n",
      "_________________________________________________________________\n"
     ]
    }
   ],
   "source": [
    "import tensorflow as tf\n",
    "from tensorflow import keras\n",
    "import numpy as np\n",
    "\n",
    "n_channel_1=16\n",
    "n_channel_2=32\n",
    "n_dense=32\n",
    "\n",
    "model=keras.models.Sequential()\n",
    "model.add(keras.layers.Conv2D(n_channel_1, (3,3), activation='relu', input_shape=(28,28,3)))\n",
    "model.add(keras.layers.MaxPool2D(2,2))\n",
    "model.add(keras.layers.Conv2D(n_channel_2, (3,3), activation='relu'))\n",
    "model.add(keras.layers.MaxPooling2D((2,2)))\n",
    "model.add(keras.layers.Flatten())\n",
    "model.add(keras.layers.Dense(n_dense, activation='relu'))\n",
    "model.add(keras.layers.Dense(3, activation='softmax'))\n",
    "\n",
    "model.summary()"
   ]
  },
  {
   "cell_type": "markdown",
   "id": "handled-institute",
   "metadata": {},
   "source": [
    "### **03 모델 학습**"
   ]
  },
  {
   "cell_type": "markdown",
   "id": "opponent-trust",
   "metadata": {},
   "source": [
    "모델을 학습 시킬때 x_trian을 정규화한 x_train_norm을 사용해야합니다."
   ]
  },
  {
   "cell_type": "code",
   "execution_count": 21,
   "id": "alternative-medication",
   "metadata": {},
   "outputs": [
    {
     "name": "stdout",
     "output_type": "stream",
     "text": [
      "Epoch 1/10\n",
      "10/10 [==============================] - 4s 270ms/step - loss: 1.0900 - accuracy: 0.4118\n",
      "Epoch 2/10\n",
      "10/10 [==============================] - 0s 3ms/step - loss: 1.0499 - accuracy: 0.4524\n",
      "Epoch 3/10\n",
      "10/10 [==============================] - 0s 3ms/step - loss: 0.9765 - accuracy: 0.7174\n",
      "Epoch 4/10\n",
      "10/10 [==============================] - 0s 3ms/step - loss: 0.8405 - accuracy: 0.8451\n",
      "Epoch 5/10\n",
      "10/10 [==============================] - 0s 3ms/step - loss: 0.7165 - accuracy: 0.7505\n",
      "Epoch 6/10\n",
      "10/10 [==============================] - 0s 3ms/step - loss: 0.5495 - accuracy: 0.8655\n",
      "Epoch 7/10\n",
      "10/10 [==============================] - 0s 3ms/step - loss: 0.5405 - accuracy: 0.7196\n",
      "Epoch 8/10\n",
      "10/10 [==============================] - 0s 3ms/step - loss: 0.6339 - accuracy: 0.6512\n",
      "Epoch 9/10\n",
      "10/10 [==============================] - 0s 3ms/step - loss: 0.4303 - accuracy: 0.7952\n",
      "Epoch 10/10\n",
      "10/10 [==============================] - 0s 3ms/step - loss: 0.3726 - accuracy: 0.8920\n"
     ]
    },
    {
     "data": {
      "text/plain": [
       "<tensorflow.python.keras.callbacks.History at 0x7f70bd949150>"
      ]
     },
     "execution_count": 21,
     "metadata": {},
     "output_type": "execute_result"
    }
   ],
   "source": [
    "model.compile(optimizer='adam',\n",
    "             loss='sparse_categorical_crossentropy',\n",
    "             metrics=['accuracy'])\n",
    "\n",
    "model.fit(x_train_norm, y_train, epochs=10)"
   ]
  },
  {
   "cell_type": "markdown",
   "id": "neutral-newton",
   "metadata": {},
   "source": [
    "epoch 10을 했을 때 loss는 **0.3726**, accuracy는 **0.8920**로 모델이 학습하였습니다."
   ]
  },
  {
   "cell_type": "markdown",
   "id": "atomic-stationery",
   "metadata": {},
   "source": [
    "### **04 모델 평가**"
   ]
  },
  {
   "cell_type": "markdown",
   "id": "durable-aspect",
   "metadata": {},
   "source": [
    "기존의 300개 데이터를 분할하여 학습셋과 평가셋을 마련한 것이 아니기에, 추가로 평가할 데이터를 test 폴더에 업로드하고 평가셋을 만들야 합니다. 평가셋을 만드는 방법은 학습셋을 만드는 방법과 크게 다르지 않습니다."
   ]
  },
  {
   "cell_type": "code",
   "execution_count": 31,
   "id": "saved-experience",
   "metadata": {},
   "outputs": [
    {
     "name": "stdout",
     "output_type": "stream",
     "text": [
      "학습데이터(x_train)의 이미지 개수는 300 입니다.\n",
      "x_test shape: (300, 28, 28, 3)\n",
      "y_test shape: (300,)\n"
     ]
    }
   ],
   "source": [
    "image_dir_path = os.getenv(\"HOME\") + \"/aiffel/rock_scissor_paper/test\"\n",
    "(x_test, y_test)=load_data(image_dir_path)\n",
    "x_test_norm = x_test/255.0   # 입력은 0~1 사이의 값으로 정규화\n",
    "\n",
    "print(\"x_test shape: {}\".format(x_test_norm.shape))\n",
    "print(\"y_test shape: {}\".format(y_test.shape))"
   ]
  },
  {
   "cell_type": "code",
   "execution_count": 32,
   "id": "reliable-sheep",
   "metadata": {},
   "outputs": [
    {
     "name": "stdout",
     "output_type": "stream",
     "text": [
      "10/10 - 0s - loss: 2.8732 - accuracy: 0.3500\n",
      "test_loss: 2.873175859451294 \n",
      "test_accuracy: 0.3499999940395355\n"
     ]
    }
   ],
   "source": [
    "test_loss, test_accuracy = model.evaluate(x_test_norm,y_test, verbose=2)\n",
    "print(\"test_loss: {} \".format(test_loss))\n",
    "print(\"test_accuracy: {}\".format(test_accuracy))"
   ]
  },
  {
   "cell_type": "markdown",
   "id": "aboriginal-circulation",
   "metadata": {},
   "source": [
    "test accuracy(**0.34**)가 train accuracy(**0.89**) 보다 상당히 낮게 나왔습니다. 모델을 개선하여 성능을 향상시켜야 되겠습니다. 향상시키는 방향은 다음 3가지로 해보고자합니다.   \n",
    "\n",
    "첫째, 하이퍼 파라미터 변경   \n",
    "둘째, 모델 layer 개수 변경   \n",
    "셋째, 데이터 양 늘리기"
   ]
  },
  {
   "cell_type": "markdown",
   "id": "handmade-thesaurus",
   "metadata": {},
   "source": [
    "### **05 모델 향상(1) - 하이퍼파라미터 변경**"
   ]
  },
  {
   "cell_type": "code",
   "execution_count": 33,
   "id": "reverse-blackberry",
   "metadata": {},
   "outputs": [
    {
     "name": "stdout",
     "output_type": "stream",
     "text": [
      "Epoch 1/10\n",
      "10/10 [==============================] - 0s 3ms/step - loss: 1.0887 - accuracy: 0.4002\n",
      "Epoch 2/10\n",
      "10/10 [==============================] - 0s 3ms/step - loss: 1.0554 - accuracy: 0.5633\n",
      "Epoch 3/10\n",
      "10/10 [==============================] - 0s 3ms/step - loss: 1.0056 - accuracy: 0.5196\n",
      "Epoch 4/10\n",
      "10/10 [==============================] - 0s 3ms/step - loss: 0.9662 - accuracy: 0.5216\n",
      "Epoch 5/10\n",
      "10/10 [==============================] - 0s 3ms/step - loss: 0.8881 - accuracy: 0.7052\n",
      "Epoch 6/10\n",
      "10/10 [==============================] - 0s 3ms/step - loss: 0.7611 - accuracy: 0.7330\n",
      "Epoch 7/10\n",
      "10/10 [==============================] - 0s 3ms/step - loss: 0.6309 - accuracy: 0.7413\n",
      "Epoch 8/10\n",
      "10/10 [==============================] - 0s 3ms/step - loss: 0.6210 - accuracy: 0.7224\n",
      "Epoch 9/10\n",
      "10/10 [==============================] - 0s 3ms/step - loss: 0.5755 - accuracy: 0.7076\n",
      "Epoch 10/10\n",
      "10/10 [==============================] - 0s 3ms/step - loss: 0.4445 - accuracy: 0.8468\n",
      "10/10 - 0s - loss: 2.6145 - accuracy: 0.3633\n",
      "test_loss: 2.6145219802856445 \n",
      "test_accuracy: 0.3633333444595337\n"
     ]
    }
   ],
   "source": [
    "# n_channel_1을 32로 변경\n",
    "\n",
    "n_channel_1=32\n",
    "n_channel_2=32\n",
    "n_dense=32\n",
    "n_train_epoch=10\n",
    "\n",
    "model=keras.models.Sequential()\n",
    "model.add(keras.layers.Conv2D(n_channel_1, (3,3), activation='relu', input_shape=(28,28,3)))\n",
    "model.add(keras.layers.MaxPool2D(2,2))\n",
    "model.add(keras.layers.Conv2D(n_channel_2, (3,3), activation='relu'))\n",
    "model.add(keras.layers.MaxPooling2D((2,2)))\n",
    "model.add(keras.layers.Flatten())\n",
    "model.add(keras.layers.Dense(n_dense, activation='relu'))\n",
    "model.add(keras.layers.Dense(3, activation='softmax'))\n",
    "\n",
    "model.compile(optimizer='adam',\n",
    "             loss='sparse_categorical_crossentropy',\n",
    "             metrics=['accuracy'])\n",
    "model.fit(x_train_norm, y_train, epochs=n_train_epoch)\n",
    "\n",
    "test_loss, test_accuracy = model.evaluate(x_test_norm,y_test, verbose=2)\n",
    "print(\"test_loss: {} \".format(test_loss))\n",
    "print(\"test_accuracy: {}\".format(test_accuracy))"
   ]
  },
  {
   "cell_type": "markdown",
   "id": "graphic-cambridge",
   "metadata": {},
   "source": [
    "n_channel_1을 32로 변경하니 test_accuracy가 **0.34**에서 **0.36**으로 소폭 높아졌습니다."
   ]
  },
  {
   "cell_type": "code",
   "execution_count": 38,
   "id": "binding-exhibition",
   "metadata": {},
   "outputs": [
    {
     "name": "stdout",
     "output_type": "stream",
     "text": [
      "Epoch 1/10\n",
      "10/10 [==============================] - 0s 3ms/step - loss: 1.0995 - accuracy: 0.3497\n",
      "Epoch 2/10\n",
      "10/10 [==============================] - 0s 3ms/step - loss: 1.0859 - accuracy: 0.4368\n",
      "Epoch 3/10\n",
      "10/10 [==============================] - 0s 3ms/step - loss: 1.0392 - accuracy: 0.4969\n",
      "Epoch 4/10\n",
      "10/10 [==============================] - 0s 3ms/step - loss: 0.9703 - accuracy: 0.7617\n",
      "Epoch 5/10\n",
      "10/10 [==============================] - 0s 3ms/step - loss: 0.8803 - accuracy: 0.6402\n",
      "Epoch 6/10\n",
      "10/10 [==============================] - 0s 3ms/step - loss: 0.7738 - accuracy: 0.6474\n",
      "Epoch 7/10\n",
      "10/10 [==============================] - 0s 3ms/step - loss: 0.6408 - accuracy: 0.7958\n",
      "Epoch 8/10\n",
      "10/10 [==============================] - 0s 3ms/step - loss: 0.5997 - accuracy: 0.7440\n",
      "Epoch 9/10\n",
      "10/10 [==============================] - 0s 3ms/step - loss: 0.4874 - accuracy: 0.8554\n",
      "Epoch 10/10\n",
      "10/10 [==============================] - 0s 3ms/step - loss: 0.4877 - accuracy: 0.7826\n",
      "10/10 - 0s - loss: 2.7070 - accuracy: 0.3500\n",
      "test_loss: 2.7070209980010986 \n",
      "test_accuracy: 0.3499999940395355\n"
     ]
    }
   ],
   "source": [
    "# n_dense를 64로 변경\n",
    "\n",
    "n_channel_1=32\n",
    "n_channel_2=32\n",
    "n_dense=64\n",
    "n_train_epoch=10\n",
    "\n",
    "model=keras.models.Sequential()\n",
    "model.add(keras.layers.Conv2D(n_channel_1, (3,3), activation='relu', input_shape=(28,28,3)))\n",
    "model.add(keras.layers.MaxPool2D(2,2))\n",
    "model.add(keras.layers.Conv2D(n_channel_2, (3,3), activation='relu'))\n",
    "model.add(keras.layers.MaxPooling2D((2,2)))\n",
    "model.add(keras.layers.Flatten())\n",
    "model.add(keras.layers.Dense(n_dense, activation='relu'))\n",
    "model.add(keras.layers.Dense(3, activation='softmax'))\n",
    "\n",
    "model.compile(optimizer='adam',\n",
    "             loss='sparse_categorical_crossentropy',\n",
    "             metrics=['accuracy'])\n",
    "model.fit(x_train_norm, y_train, epochs=n_train_epoch)\n",
    "\n",
    "test_loss, test_accuracy = model.evaluate(x_test_norm,y_test, verbose=2)\n",
    "print(\"test_loss: {} \".format(test_loss))\n",
    "print(\"test_accuracy: {}\".format(test_accuracy))"
   ]
  },
  {
   "cell_type": "markdown",
   "id": "liberal-progressive",
   "metadata": {},
   "source": [
    "n_dense를 64로 변경하니 test_accuracy가 **0.36**에서 **0.34**으로 다시 낮아졌습니다."
   ]
  },
  {
   "cell_type": "code",
   "execution_count": 50,
   "id": "acquired-finger",
   "metadata": {},
   "outputs": [
    {
     "name": "stdout",
     "output_type": "stream",
     "text": [
      "Epoch 1/20\n",
      "10/10 [==============================] - 0s 3ms/step - loss: 1.0977 - accuracy: 0.3105\n",
      "Epoch 2/20\n",
      "10/10 [==============================] - 0s 3ms/step - loss: 1.0712 - accuracy: 0.4841\n",
      "Epoch 3/20\n",
      "10/10 [==============================] - 0s 3ms/step - loss: 1.0166 - accuracy: 0.8066\n",
      "Epoch 4/20\n",
      "10/10 [==============================] - 0s 3ms/step - loss: 0.9428 - accuracy: 0.6901\n",
      "Epoch 5/20\n",
      "10/10 [==============================] - 0s 3ms/step - loss: 0.8587 - accuracy: 0.6171\n",
      "Epoch 6/20\n",
      "10/10 [==============================] - 0s 3ms/step - loss: 0.6980 - accuracy: 0.7553\n",
      "Epoch 7/20\n",
      "10/10 [==============================] - 0s 3ms/step - loss: 0.7294 - accuracy: 0.7217\n",
      "Epoch 8/20\n",
      "10/10 [==============================] - 0s 3ms/step - loss: 0.6198 - accuracy: 0.7541\n",
      "Epoch 9/20\n",
      "10/10 [==============================] - 0s 3ms/step - loss: 0.5008 - accuracy: 0.7804\n",
      "Epoch 10/20\n",
      "10/10 [==============================] - 0s 3ms/step - loss: 0.4641 - accuracy: 0.7755\n",
      "Epoch 11/20\n",
      "10/10 [==============================] - 0s 3ms/step - loss: 0.4350 - accuracy: 0.7994\n",
      "Epoch 12/20\n",
      "10/10 [==============================] - 0s 3ms/step - loss: 0.3904 - accuracy: 0.8257\n",
      "Epoch 13/20\n",
      "10/10 [==============================] - 0s 3ms/step - loss: 0.3514 - accuracy: 0.8860\n",
      "Epoch 14/20\n",
      "10/10 [==============================] - 0s 3ms/step - loss: 0.3176 - accuracy: 0.8946\n",
      "Epoch 15/20\n",
      "10/10 [==============================] - 0s 3ms/step - loss: 0.3045 - accuracy: 0.8846\n",
      "Epoch 16/20\n",
      "10/10 [==============================] - 0s 3ms/step - loss: 0.2968 - accuracy: 0.8668\n",
      "Epoch 17/20\n",
      "10/10 [==============================] - 0s 3ms/step - loss: 0.2411 - accuracy: 0.9110\n",
      "Epoch 18/20\n",
      "10/10 [==============================] - 0s 3ms/step - loss: 0.2367 - accuracy: 0.9351\n",
      "Epoch 19/20\n",
      "10/10 [==============================] - 0s 3ms/step - loss: 0.2029 - accuracy: 0.9607\n",
      "Epoch 20/20\n",
      "10/10 [==============================] - 0s 3ms/step - loss: 0.2469 - accuracy: 0.9088\n",
      "10/10 - 0s - loss: 3.5496 - accuracy: 0.3467\n",
      "test_loss: 3.549572706222534 \n",
      "test_accuracy: 0.3466666638851166\n"
     ]
    }
   ],
   "source": [
    "# n_dense를 초기값 32로 변경, n_train_epoch을 20으로 변경\n",
    "\n",
    "n_channel_1=32\n",
    "n_channel_2=32\n",
    "n_dense=32\n",
    "n_train_epoch=20\n",
    "\n",
    "model=keras.models.Sequential()\n",
    "model.add(keras.layers.Conv2D(n_channel_1, (3,3), activation='relu', input_shape=(28,28,3)))\n",
    "model.add(keras.layers.MaxPool2D(2,2))\n",
    "model.add(keras.layers.Conv2D(n_channel_2, (3,3), activation='relu'))\n",
    "model.add(keras.layers.MaxPooling2D((2,2)))\n",
    "model.add(keras.layers.Flatten())\n",
    "model.add(keras.layers.Dense(n_dense, activation='relu'))\n",
    "model.add(keras.layers.Dense(3, activation='softmax'))\n",
    "\n",
    "model.compile(optimizer='adam',\n",
    "             loss='sparse_categorical_crossentropy',\n",
    "             metrics=['accuracy'])\n",
    "model.fit(x_train_norm, y_train, epochs=n_train_epoch)\n",
    "\n",
    "test_loss, test_accuracy = model.evaluate(x_test_norm,y_test, verbose=2)\n",
    "print(\"test_loss: {} \".format(test_loss))\n",
    "print(\"test_accuracy: {}\".format(test_accuracy))"
   ]
  },
  {
   "cell_type": "markdown",
   "id": "suspended-sweet",
   "metadata": {},
   "source": [
    "n_train_epoch을 20으로 변경해도 test_accuracy는 **0.34**으로 차이가 없습니다.\n",
    "\n",
    "n_train_epoch을 8, 12, 16 등으로 바꾸어도 비슷한 결과가 나왓습니다.\n",
    "\n",
    "지금 모델에서는 하이퍼파라미터 조정으로 test_accuracy 값에 상승을 기대하기 어려운 것 같습니다."
   ]
  },
  {
   "cell_type": "markdown",
   "id": "sustained-darwin",
   "metadata": {},
   "source": [
    "### **06 모델 향상(2) - 모델 layer 개수 변경**"
   ]
  },
  {
   "cell_type": "markdown",
   "id": "external-assessment",
   "metadata": {},
   "source": [
    "이번에는 모델 layer 개수를 변경해보려고합니다. layer를 줄여도보고, 늘려도 보겠습니다."
   ]
  },
  {
   "cell_type": "code",
   "execution_count": 53,
   "id": "educated-removal",
   "metadata": {},
   "outputs": [
    {
     "name": "stdout",
     "output_type": "stream",
     "text": [
      "Epoch 1/10\n",
      "10/10 [==============================] - 0s 3ms/step - loss: 1.1150 - accuracy: 0.2631\n",
      "Epoch 2/10\n",
      "10/10 [==============================] - 0s 3ms/step - loss: 1.0564 - accuracy: 0.5276\n",
      "Epoch 3/10\n",
      "10/10 [==============================] - 0s 3ms/step - loss: 0.9968 - accuracy: 0.6406\n",
      "Epoch 4/10\n",
      "10/10 [==============================] - 0s 3ms/step - loss: 0.9058 - accuracy: 0.7026\n",
      "Epoch 5/10\n",
      "10/10 [==============================] - 0s 3ms/step - loss: 0.8266 - accuracy: 0.6971\n",
      "Epoch 6/10\n",
      "10/10 [==============================] - 0s 3ms/step - loss: 0.6653 - accuracy: 0.8167\n",
      "Epoch 7/10\n",
      "10/10 [==============================] - 0s 2ms/step - loss: 0.5620 - accuracy: 0.7585\n",
      "Epoch 8/10\n",
      "10/10 [==============================] - 0s 3ms/step - loss: 0.4906 - accuracy: 0.8042\n",
      "Epoch 9/10\n",
      "10/10 [==============================] - 0s 3ms/step - loss: 0.4471 - accuracy: 0.8709\n",
      "Epoch 10/10\n",
      "10/10 [==============================] - 0s 3ms/step - loss: 0.4637 - accuracy: 0.8264\n",
      "10/10 - 0s - loss: 1.7389 - accuracy: 0.3167\n",
      "test_loss: 1.7388503551483154 \n",
      "test_accuracy: 0.3166666626930237\n"
     ]
    }
   ],
   "source": [
    "# 모델 layer 7개에서 5개로 감소\n",
    "\n",
    "n_channel_1=16\n",
    "n_dense=32\n",
    "n_train_epoch=10\n",
    "\n",
    "model=keras.models.Sequential()\n",
    "model.add(keras.layers.Conv2D(n_channel_1, (3,3), activation='relu', input_shape=(28,28,3)))\n",
    "model.add(keras.layers.MaxPool2D(2,2))\n",
    "model.add(keras.layers.Flatten())\n",
    "model.add(keras.layers.Dense(n_dense, activation='relu'))\n",
    "model.add(keras.layers.Dense(3, activation='softmax'))\n",
    "\n",
    "model.compile(optimizer='adam',\n",
    "             loss='sparse_categorical_crossentropy',\n",
    "             metrics=['accuracy'])\n",
    "model.fit(x_train_norm, y_train, epochs=n_train_epoch)\n",
    "\n",
    "test_loss, test_accuracy = model.evaluate(x_test_norm,y_test, verbose=2)\n",
    "print(\"test_loss: {} \".format(test_loss))\n",
    "print(\"test_accuracy: {}\".format(test_accuracy))"
   ]
  },
  {
   "cell_type": "code",
   "execution_count": 54,
   "id": "spectacular-cambodia",
   "metadata": {},
   "outputs": [
    {
     "name": "stdout",
     "output_type": "stream",
     "text": [
      "Epoch 1/10\n",
      "10/10 [==============================] - 5s 236ms/step - loss: 1.0971 - accuracy: 0.3370\n",
      "Epoch 2/10\n",
      "10/10 [==============================] - 0s 3ms/step - loss: 1.0850 - accuracy: 0.4416\n",
      "Epoch 3/10\n",
      "10/10 [==============================] - 0s 3ms/step - loss: 1.0729 - accuracy: 0.4639\n",
      "Epoch 4/10\n",
      "10/10 [==============================] - 0s 3ms/step - loss: 1.0517 - accuracy: 0.4754\n",
      "Epoch 5/10\n",
      "10/10 [==============================] - 0s 3ms/step - loss: 1.0096 - accuracy: 0.4462\n",
      "Epoch 6/10\n",
      "10/10 [==============================] - 0s 3ms/step - loss: 0.9224 - accuracy: 0.6578\n",
      "Epoch 7/10\n",
      "10/10 [==============================] - 0s 3ms/step - loss: 0.7973 - accuracy: 0.6867\n",
      "Epoch 8/10\n",
      "10/10 [==============================] - 0s 3ms/step - loss: 0.6636 - accuracy: 0.7142\n",
      "Epoch 9/10\n",
      "10/10 [==============================] - 0s 3ms/step - loss: 0.5381 - accuracy: 0.7843\n",
      "Epoch 10/10\n",
      "10/10 [==============================] - 0s 3ms/step - loss: 0.4682 - accuracy: 0.8013\n",
      "10/10 - 0s - loss: 1.7096 - accuracy: 0.3467\n",
      "test_loss: 1.7095526456832886 \n",
      "test_accuracy: 0.3466666638851166\n"
     ]
    }
   ],
   "source": [
    "# 모델 layer 7개에서 9개로 증가\n",
    "\n",
    "n_channel_1=16\n",
    "n_channel_2=32\n",
    "n_channel_3=32\n",
    "n_dense=32\n",
    "n_train_epoch=10\n",
    "\n",
    "model=keras.models.Sequential()\n",
    "model.add(keras.layers.Conv2D(n_channel_1, (3,3), activation='relu', input_shape=(28,28,3)))\n",
    "model.add(keras.layers.MaxPool2D(2,2))\n",
    "model.add(keras.layers.Conv2D(n_channel_2, (3,3), activation='relu'))\n",
    "model.add(keras.layers.MaxPooling2D((2,2)))\n",
    "model.add(keras.layers.Conv2D(n_channel_3, (3,3), activation='relu'))\n",
    "model.add(keras.layers.MaxPooling2D((2,2)))\n",
    "model.add(keras.layers.Flatten())\n",
    "model.add(keras.layers.Dense(n_dense, activation='relu'))\n",
    "model.add(keras.layers.Dense(3, activation='softmax'))\n",
    "\n",
    "model.compile(optimizer='adam',\n",
    "             loss='sparse_categorical_crossentropy',\n",
    "             metrics=['accuracy'])\n",
    "model.fit(x_train_norm, y_train, epochs=n_train_epoch)\n",
    "\n",
    "test_loss, test_accuracy = model.evaluate(x_test_norm,y_test, verbose=2)\n",
    "print(\"test_loss: {} \".format(test_loss))\n",
    "print(\"test_accuracy: {}\".format(test_accuracy))"
   ]
  },
  {
   "cell_type": "markdown",
   "id": "elder-candy",
   "metadata": {},
   "source": [
    "모델의 layer를 5개로 줄여보고, 9개로 늘려봐도 여전히 test_accuracy는 큰 차이가 없습니다."
   ]
  },
  {
   "cell_type": "markdown",
   "id": "difficult-attention",
   "metadata": {},
   "source": [
    "### **07 모델 향상(3) - 데이터 양 늘리기**"
   ]
  },
  {
   "cell_type": "markdown",
   "id": "diverse-invitation",
   "metadata": {},
   "source": [
    "먼저 데이터의 양을 10배 늘리기 위해 가위, 바위, 보 사진을 각각 1000개씩 준비합니다. 총 3000개의 사진이 준비되었습니다. 이번에는 데이터가 많기 때문에 fundamentals 10. 가랏, 몬스터볼!에서 배운 sklearn의 데이터분할을 이용해 학습셋과 평가셋을 구분해보겠습니다."
   ]
  },
  {
   "cell_type": "code",
   "execution_count": 74,
   "id": "conventional-mother",
   "metadata": {},
   "outputs": [
    {
     "name": "stdout",
     "output_type": "stream",
     "text": [
      "총 이미지 개수는 3000 입니다.\n",
      "X_train shape: (2400, 28, 28, 3)\n",
      "y_train shape: (2400,)\n",
      "X_test shape: (600, 28, 28, 3)\n",
      "y_test shape: (600,)\n"
     ]
    }
   ],
   "source": [
    "# 데이터분할\n",
    "\n",
    "def load_data2(img_path, number_of_data=3000):\n",
    "    img_size=28\n",
    "    color=3\n",
    "    imgs=np.zeros(number_of_data*img_size*img_size*color,dtype=np.int32).reshape(number_of_data,img_size,img_size,color)\n",
    "    labels=np.zeros(number_of_data,dtype=np.int32)\n",
    "\n",
    "    idx=0\n",
    "    for file in glob.iglob(img_path+'/scissor1000/*.jpg'):\n",
    "        img = np.array(Image.open(file),dtype=np.int32)\n",
    "        imgs[idx,:,:,:]=img    # 데이터 영역에 이미지 행렬을 복사\n",
    "        labels[idx]=0   # 가위 : 0\n",
    "        idx=idx+1\n",
    "\n",
    "    for file in glob.iglob(img_path+'/rock1000/*.jpg'):\n",
    "        img = np.array(Image.open(file),dtype=np.int32)\n",
    "        imgs[idx,:,:,:]=img    # 데이터 영역에 이미지 행렬을 복사\n",
    "        labels[idx]=1   # 바위 : 1\n",
    "        idx=idx+1  \n",
    "    \n",
    "    for file in glob.iglob(img_path+'/paper1000/*.jpg'):\n",
    "        img = np.array(Image.open(file),dtype=np.int32)\n",
    "        imgs[idx,:,:,:]=img    # 데이터 영역에 이미지 행렬을 복사\n",
    "        labels[idx]=2   # 보 : 2\n",
    "        idx=idx+1\n",
    "        \n",
    "    print(\"총 이미지 개수는\", idx,\"입니다.\")\n",
    "    return imgs, labels\n",
    "\n",
    "image_dir_path = os.getenv(\"HOME\") + \"/aiffel/rock_scissor_paper\"\n",
    "(X2, y2)=load_data2(image_dir_path)\n",
    "X2_norm = X2/255.0   # 입력은 0~1 사이의 값으로 정규화\n",
    "X2_train, X2_test, y2_train, y2_test = train_test_split(X2_norm, y2, test_size=0.2, random_state=15)\n",
    "\n",
    "\n",
    "print(\"X_train shape: {}\".format(X2_train.shape))\n",
    "print(\"y_train shape: {}\".format(y2_train.shape))\n",
    "print(\"X_test shape: {}\".format(X2_test.shape))\n",
    "print(\"y_test shape: {}\".format(y2_test.shape))"
   ]
  },
  {
   "cell_type": "code",
   "execution_count": 75,
   "id": "bound-magazine",
   "metadata": {},
   "outputs": [
    {
     "name": "stdout",
     "output_type": "stream",
     "text": [
      "라벨:  2\n"
     ]
    },
    {
     "data": {
      "image/png": "[encoded data removed]",
      "text/plain": [
       "<Figure size 432x288 with 1 Axes>"
      ]
     },
     "metadata": {
      "needs_background": "light"
     },
     "output_type": "display_data"
    }
   ],
   "source": [
    "# 데이터 확인\n",
    "\n",
    "import matplotlib.pyplot as plt\n",
    "plt.imshow(X2_train[2399])\n",
    "print('라벨: ', y2_train[2399])"
   ]
  },
  {
   "cell_type": "code",
   "execution_count": 68,
   "id": "experimental-environment",
   "metadata": {},
   "outputs": [
    {
     "name": "stdout",
     "output_type": "stream",
     "text": [
      "Epoch 1/10\n",
      "75/75 [==============================] - 1s 3ms/step - loss: 1.1121 - accuracy: 0.3503\n",
      "Epoch 2/10\n",
      "75/75 [==============================] - 0s 3ms/step - loss: 1.0866 - accuracy: 0.4404\n",
      "Epoch 3/10\n",
      "75/75 [==============================] - 0s 3ms/step - loss: 1.0308 - accuracy: 0.5051\n",
      "Epoch 4/10\n",
      "75/75 [==============================] - 0s 3ms/step - loss: 0.8300 - accuracy: 0.6255\n",
      "Epoch 5/10\n",
      "75/75 [==============================] - 0s 3ms/step - loss: 0.6268 - accuracy: 0.7864\n",
      "Epoch 6/10\n",
      "75/75 [==============================] - 0s 3ms/step - loss: 0.4291 - accuracy: 0.8771\n",
      "Epoch 7/10\n",
      "75/75 [==============================] - 0s 3ms/step - loss: 0.3431 - accuracy: 0.8861\n",
      "Epoch 8/10\n",
      "75/75 [==============================] - 0s 3ms/step - loss: 0.2227 - accuracy: 0.9644\n",
      "Epoch 9/10\n",
      "75/75 [==============================] - 0s 3ms/step - loss: 0.1748 - accuracy: 0.9622\n",
      "Epoch 10/10\n",
      "75/75 [==============================] - 0s 3ms/step - loss: 0.1180 - accuracy: 0.9822\n",
      "19/19 - 2s - loss: 0.1001 - accuracy: 0.9817\n",
      "test_loss: 0.10009605437517166 \n",
      "test_accuracy: 0.9816666841506958\n"
     ]
    }
   ],
   "source": [
    "# 모델설계 - 모델은 처음 모델을 사용합니다.\n",
    "\n",
    "n_channel_1=16\n",
    "n_channel_2=32\n",
    "n_dense=32\n",
    "n_train_epoch=10\n",
    "\n",
    "model=keras.models.Sequential()\n",
    "model.add(keras.layers.Conv2D(n_channel_1, (3,3), activation='relu', input_shape=(28,28,3)))\n",
    "model.add(keras.layers.MaxPool2D(2,2))\n",
    "model.add(keras.layers.Conv2D(n_channel_2, (3,3), activation='relu'))\n",
    "model.add(keras.layers.MaxPooling2D((2,2)))\n",
    "model.add(keras.layers.Flatten())\n",
    "model.add(keras.layers.Dense(n_dense, activation='relu'))\n",
    "model.add(keras.layers.Dense(3, activation='softmax'))\n",
    "\n",
    "model.compile(optimizer='adam',\n",
    "             loss='sparse_categorical_crossentropy',\n",
    "             metrics=['accuracy'])\n",
    "\n",
    "model.fit(X2_train, y2_train, epochs=n_train_epoch)\n",
    "\n",
    "test_loss, test_accuracy = model.evaluate(X2_test,y2_test, verbose=2)\n",
    "print(\"test_loss: {} \".format(test_loss))\n",
    "print(\"test_accuracy: {}\".format(test_accuracy))"
   ]
  },
  {
   "cell_type": "markdown",
   "id": "finished-thursday",
   "metadata": {},
   "source": [
    "test_accuracyrk **0.981**로 대폭 상승하였습니다."
   ]
  },
  {
   "cell_type": "markdown",
   "id": "cutting-repair",
   "metadata": {},
   "source": [
    "이번에는 대전 2기 분들이 각자 촬영하고 공유한 가위, 바위, 보 사진을 모두 모아 데이터로 준비합니다. 가위는 2420개, 바위는 2302개, 보는 2370개가 모여 총 7092개입니다. 처음 300개 데이터 보다 약 23배 데이터가 증가하였습니다."
   ]
  },
  {
   "cell_type": "code",
   "execution_count": 76,
   "id": "piano-senator",
   "metadata": {},
   "outputs": [
    {
     "name": "stdout",
     "output_type": "stream",
     "text": [
      "총 이미지 개수는 7092 입니다.\n",
      "X_train shape: (5673, 28, 28, 3)\n",
      "y_train shape: (5673,)\n",
      "X_test shape: (1419, 28, 28, 3)\n",
      "y_test shape: (1419,)\n"
     ]
    }
   ],
   "source": [
    "# 데이터분할\n",
    "\n",
    "import numpy as np\n",
    "from sklearn.model_selection import train_test_split\n",
    "\n",
    "def load_data3(img_path, number_of_data=7092):\n",
    "    img_size=28\n",
    "    color=3\n",
    "    imgs=np.zeros(number_of_data*img_size*img_size*color,dtype=np.int32).reshape(number_of_data,img_size,img_size,color)\n",
    "    labels=np.zeros(number_of_data,dtype=np.int32)\n",
    "\n",
    "    idx=0\n",
    "    for file in glob.iglob(img_path+'/scissor2420/*.jpg'):\n",
    "        img = np.array(Image.open(file),dtype=np.int32)\n",
    "        imgs[idx,:,:,:]=img    # 데이터 영역에 이미지 행렬을 복사\n",
    "        labels[idx]=0   # 가위 : 0\n",
    "        idx=idx+1\n",
    "\n",
    "    for file in glob.iglob(img_path+'/rock2302/*.jpg'):\n",
    "        img = np.array(Image.open(file),dtype=np.int32)\n",
    "        imgs[idx,:,:,:]=img    # 데이터 영역에 이미지 행렬을 복사\n",
    "        labels[idx]=1   # 바위 : 1\n",
    "        idx=idx+1  \n",
    "    \n",
    "    for file in glob.iglob(img_path+'/paper2370/*.jpg'):\n",
    "        img = np.array(Image.open(file),dtype=np.int32)\n",
    "        imgs[idx,:,:,:]=img    # 데이터 영역에 이미지 행렬을 복사\n",
    "        labels[idx]=2   # 보 : 2\n",
    "        idx=idx+1\n",
    "        \n",
    "    print(\"총 이미지 개수는\", idx,\"입니다.\")\n",
    "    return imgs, labels\n",
    "\n",
    "image_dir_path = os.getenv(\"HOME\") + \"/aiffel/rock_scissor_paper\"\n",
    "(X3, y3)=load_data3(image_dir_path)\n",
    "X3_norm = X3/255.0   # 입력은 0~1 사이의 값으로 정규화\n",
    "X3_train, X3_test, y3_train, y3_test = train_test_split(X3_norm, y3, test_size=0.2, random_state=15)\n",
    "\n",
    "\n",
    "print(\"X_train shape: {}\".format(X3_train.shape))\n",
    "print(\"y_train shape: {}\".format(y3_train.shape))\n",
    "print(\"X_test shape: {}\".format(X3_test.shape))\n",
    "print(\"y_test shape: {}\".format(y3_test.shape))"
   ]
  },
  {
   "cell_type": "code",
   "execution_count": 77,
   "id": "statutory-vault",
   "metadata": {},
   "outputs": [
    {
     "name": "stdout",
     "output_type": "stream",
     "text": [
      "라벨:  1\n"
     ]
    },
    {
     "data": {
      "image/png": "[encoded data removed]",
      "text/plain": [
       "<Figure size 432x288 with 1 Axes>"
      ]
     },
     "metadata": {
      "needs_background": "light"
     },
     "output_type": "display_data"
    }
   ],
   "source": [
    "# 데이터 확인\n",
    "\n",
    "import matplotlib.pyplot as plt\n",
    "plt.imshow(X3_train[5672])\n",
    "print('라벨: ', y3_train[5672])"
   ]
  },
  {
   "cell_type": "code",
   "execution_count": 78,
   "id": "dated-scientist",
   "metadata": {},
   "outputs": [
    {
     "name": "stdout",
     "output_type": "stream",
     "text": [
      "Epoch 1/10\n",
      "178/178 [==============================] - 1s 3ms/step - loss: 0.1031 - accuracy: 0.9679\n",
      "Epoch 2/10\n",
      "178/178 [==============================] - 1s 3ms/step - loss: 0.0813 - accuracy: 0.9774\n",
      "Epoch 3/10\n",
      "178/178 [==============================] - 1s 3ms/step - loss: 0.0739 - accuracy: 0.9796\n",
      "Epoch 4/10\n",
      "178/178 [==============================] - 1s 3ms/step - loss: 0.0679 - accuracy: 0.9803\n",
      "Epoch 5/10\n",
      "178/178 [==============================] - 1s 3ms/step - loss: 0.0595 - accuracy: 0.9848\n",
      "Epoch 6/10\n",
      "178/178 [==============================] - 1s 3ms/step - loss: 0.0531 - accuracy: 0.9838\n",
      "Epoch 7/10\n",
      "178/178 [==============================] - 1s 3ms/step - loss: 0.0409 - accuracy: 0.9896\n",
      "Epoch 8/10\n",
      "178/178 [==============================] - 1s 3ms/step - loss: 0.0375 - accuracy: 0.9907\n",
      "Epoch 9/10\n",
      "178/178 [==============================] - 1s 3ms/step - loss: 0.0323 - accuracy: 0.9919\n",
      "Epoch 10/10\n",
      "178/178 [==============================] - 1s 3ms/step - loss: 0.0306 - accuracy: 0.9929\n",
      "45/45 - 0s - loss: 0.0621 - accuracy: 0.9845\n",
      "test_loss: 0.06210163235664368 \n",
      "test_accuracy: 0.9844961166381836\n"
     ]
    }
   ],
   "source": [
    "# 모델설계 - 모델은 개선전 처음 모델을 사용해 봅시다.\n",
    "\n",
    "model.fit(X3_train, y3_train, epochs=n_train_epoch)\n",
    "\n",
    "test_loss, test_accuracy = model.evaluate(X3_test,y3_test, verbose=2)\n",
    "print(\"test_loss: {} \".format(test_loss))\n",
    "print(\"test_accuracy: {}\".format(test_accuracy))"
   ]
  },
  {
   "cell_type": "markdown",
   "id": "neutral-smile",
   "metadata": {},
   "source": [
    "test_accuracy가 **0.984**로 조금 더 상승하였습니다."
   ]
  },
  {
   "cell_type": "markdown",
   "id": "developing-breath",
   "metadata": {},
   "source": [
    "데이터의 양을 늘리니, 학습데이터를 300개만 사용했던 초기 모델의 test accuracy(**0.34**) 보다 상당히 높게 나왔습니다."
   ]
  },
  {
   "cell_type": "markdown",
   "id": "appropriate-optimization",
   "metadata": {},
   "source": [
    "### **08 정리 및 회고**"
   ]
  },
  {
   "cell_type": "markdown",
   "id": "unlikely-acoustic",
   "metadata": {},
   "source": [
    "- 지금까지 모델을 개선시키기 위한 순서를 정리하면 다음과 같습니다.\n",
    "\n",
    "1. **하이퍼파라미터 변경**   \n",
    "    1) n_channel_1=32/n_channel_2=32/n_dense=32/n_train_epoch=10 : **0.363**           \n",
    "    2) n_channel_1=32/n_channel_2=32/n_dense=64/n_train_epoch=10 : **0.349**           \n",
    "    3) n_channel_1=32/n_channel_2=32/n_dense=32/n_train_epoch=20 : **0.346**\n",
    "      \n",
    "      \n",
    "2. **모델 layer 변경**   \n",
    "    1) layer 7개 -> 5개 축소 : **0.316**   \n",
    "    2) layer 7개 -> 9개 확대 : **0.346**\n",
    "        \n",
    "        \n",
    "3. **데이터 양 증가**   \n",
    "    1) 데이터 3000개(데이터 분할) : **0.981**   \n",
    "    2) 데이터 7092개(데이터 분할) : **0.984**"
   ]
  },
  {
   "cell_type": "markdown",
   "id": "associate-shopper",
   "metadata": {},
   "source": [
    "\n",
    "- 모델을 개선시키기 위한 방법으로 하이퍼파라미터를 조정하고 모델의 layer 수를 변경하는 방법은 크게 효과를 보지 못했습니다. 하지만 학습 데이터의 양을 많이 늘리니 test accuracy가 상당히 향상되었습니다. 따라서, 모델을 설계하고 조정하기에 앞서 학습 데이터가 충분한지를 먼저 살피는 것이 중요하다는 것을 알게되었습니다.\n",
    "\n",
    "\n",
    "- 인간의 학습도 많은 양을 반복 숙달 하다보면 어느새 질적인 성장이 이루어지듯, 인공지능 모델도 그러한가 봅니다. :D\n"
   ]
  }
 ],
 "metadata": {
  "kernelspec": {
   "display_name": "Python 3",
   "language": "python",
   "name": "python3"
  },
  "language_info": {
   "codemirror_mode": {
    "name": "ipython",
    "version": 3
   },
   "file_extension": ".py",
   "mimetype": "text/x-python",
   "name": "python",
   "nbconvert_exporter": "python",
   "pygments_lexer": "ipython3",
   "version": "3.7.9"
  }
 },
 "nbformat": 4,
 "nbformat_minor": 5
}
